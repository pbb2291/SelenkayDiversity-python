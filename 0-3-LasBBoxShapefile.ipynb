{
 "cells": [
  {
   "cell_type": "code",
   "execution_count": 1,
   "id": "6b7c9919-ff37-47ca-9379-f16ded990a89",
   "metadata": {},
   "outputs": [],
   "source": [
    "# Make Shapefile Boundaries from las file header\n",
    "# Just for quality checking in QGIS\n",
    "# PB 10/03/22\n",
    "import sys\n",
    "sys.path.append('/n/home02/pbb/scripts/halo-metadata-server/Selenkay/bin/')\n",
    "from Functions import lasBBoxShp\n",
    "from pathlib import Path\n",
    "import time\n",
    "import glob\n",
    "\n",
    "# WGS84 UTM37S\n",
    "epsg = '32737'"
   ]
  },
  {
   "cell_type": "code",
   "execution_count": 2,
   "id": "91b219c8-68c8-4a89-bc2f-856722fad50c",
   "metadata": {},
   "outputs": [],
   "source": [
    "# testf = '/n/davies_lab/Users/pbb/SelenkayDiversity/data/in/PointClouds_Outside/nobuffer/SelenkaySite05_PointCloud_WGS84UTM37S_000007_Height.las'\n",
    "# lasBBoxShp(lasf=testf, opath='../data/in/test/', epsg=epsg)\n",
    "# Testing out new buffer clipping option in calcLasHeight function\n",
    "# looks like it worked!!! 10/3/22"
   ]
  },
  {
   "cell_type": "code",
   "execution_count": 3,
   "id": "59abd8fe-1bc6-4fc0-b38e-b618e1d8d67c",
   "metadata": {},
   "outputs": [
    {
     "name": "stderr",
     "output_type": "stream",
     "text": [
      "/n/home02/pbb/.conda/envs/Halo/lib/python3.8/site-packages/geopandas/io/file.py:299: FutureWarning: pandas.Int64Index is deprecated and will be removed from pandas in a future version. Use pandas.Index with the appropriate dtype instead.\n",
      "  pd.Int64Index,\n",
      "/n/home02/pbb/.conda/envs/Halo/lib/python3.8/site-packages/geopandas/io/file.py:299: FutureWarning: pandas.Int64Index is deprecated and will be removed from pandas in a future version. Use pandas.Index with the appropriate dtype instead.\n",
      "  pd.Int64Index,\n"
     ]
    },
    {
     "name": "stdout",
     "output_type": "stream",
     "text": [
      "Saved SelenkaySite04_PointCloud_WGS84UTM36S_000016_Height.shp. \n",
      "\n",
      "Saved SelenkaySite04_PointCloud_WGS84UTM36S_000005_Height.shp. \n",
      "\n"
     ]
    },
    {
     "name": "stderr",
     "output_type": "stream",
     "text": [
      "/n/home02/pbb/.conda/envs/Halo/lib/python3.8/site-packages/geopandas/io/file.py:299: FutureWarning: pandas.Int64Index is deprecated and will be removed from pandas in a future version. Use pandas.Index with the appropriate dtype instead.\n",
      "  pd.Int64Index,\n",
      "/n/home02/pbb/.conda/envs/Halo/lib/python3.8/site-packages/geopandas/io/file.py:299: FutureWarning: pandas.Int64Index is deprecated and will be removed from pandas in a future version. Use pandas.Index with the appropriate dtype instead.\n",
      "  pd.Int64Index,\n"
     ]
    },
    {
     "name": "stdout",
     "output_type": "stream",
     "text": [
      "Saved SelenkaySite04_PointCloud_WGS84UTM36S_000015_Height.shp. \n",
      "\n",
      "Saved SelenkaySite04_PointCloud_WGS84UTM36S_000010_Height.shp. \n",
      "\n"
     ]
    },
    {
     "name": "stderr",
     "output_type": "stream",
     "text": [
      "/n/home02/pbb/.conda/envs/Halo/lib/python3.8/site-packages/geopandas/io/file.py:299: FutureWarning: pandas.Int64Index is deprecated and will be removed from pandas in a future version. Use pandas.Index with the appropriate dtype instead.\n",
      "  pd.Int64Index,\n",
      "/n/home02/pbb/.conda/envs/Halo/lib/python3.8/site-packages/geopandas/io/file.py:299: FutureWarning: pandas.Int64Index is deprecated and will be removed from pandas in a future version. Use pandas.Index with the appropriate dtype instead.\n",
      "  pd.Int64Index,\n"
     ]
    },
    {
     "name": "stdout",
     "output_type": "stream",
     "text": [
      "Saved SelenkaySite04_PointCloud_WGS84UTM36S_000025_Height.shp. \n",
      "\n",
      "Saved SelenkaySite04_PointCloud_WGS84UTM36S_000018_Height.shp. \n",
      "\n"
     ]
    },
    {
     "name": "stderr",
     "output_type": "stream",
     "text": [
      "/n/home02/pbb/.conda/envs/Halo/lib/python3.8/site-packages/geopandas/io/file.py:299: FutureWarning: pandas.Int64Index is deprecated and will be removed from pandas in a future version. Use pandas.Index with the appropriate dtype instead.\n",
      "  pd.Int64Index,\n",
      "/n/home02/pbb/.conda/envs/Halo/lib/python3.8/site-packages/geopandas/io/file.py:299: FutureWarning: pandas.Int64Index is deprecated and will be removed from pandas in a future version. Use pandas.Index with the appropriate dtype instead.\n",
      "  pd.Int64Index,\n"
     ]
    },
    {
     "name": "stdout",
     "output_type": "stream",
     "text": [
      "Saved SelenkaySite04_PointCloud_WGS84UTM36S_000020_Height.shp. \n",
      "\n",
      "Saved SelenkaySite04_PointCloud_WGS84UTM36S_000019_Height.shp. \n",
      "\n"
     ]
    },
    {
     "name": "stderr",
     "output_type": "stream",
     "text": [
      "/n/home02/pbb/.conda/envs/Halo/lib/python3.8/site-packages/geopandas/io/file.py:299: FutureWarning: pandas.Int64Index is deprecated and will be removed from pandas in a future version. Use pandas.Index with the appropriate dtype instead.\n",
      "  pd.Int64Index,\n",
      "/n/home02/pbb/.conda/envs/Halo/lib/python3.8/site-packages/geopandas/io/file.py:299: FutureWarning: pandas.Int64Index is deprecated and will be removed from pandas in a future version. Use pandas.Index with the appropriate dtype instead.\n",
      "  pd.Int64Index,\n",
      "/n/home02/pbb/.conda/envs/Halo/lib/python3.8/site-packages/geopandas/io/file.py:299: FutureWarning: pandas.Int64Index is deprecated and will be removed from pandas in a future version. Use pandas.Index with the appropriate dtype instead.\n",
      "  pd.Int64Index,\n"
     ]
    },
    {
     "name": "stdout",
     "output_type": "stream",
     "text": [
      "Saved SelenkaySite04_PointCloud_WGS84UTM36S_000017_Height.shp. \n",
      "\n",
      "Saved SelenkaySite04_PointCloud_WGS84UTM36S_000012_Height.shp. \n",
      "\n",
      "Saved SelenkaySite04_PointCloud_WGS84UTM36S_000004_Height.shp. \n",
      "\n"
     ]
    },
    {
     "name": "stderr",
     "output_type": "stream",
     "text": [
      "/n/home02/pbb/.conda/envs/Halo/lib/python3.8/site-packages/geopandas/io/file.py:299: FutureWarning: pandas.Int64Index is deprecated and will be removed from pandas in a future version. Use pandas.Index with the appropriate dtype instead.\n",
      "  pd.Int64Index,\n",
      "/n/home02/pbb/.conda/envs/Halo/lib/python3.8/site-packages/geopandas/io/file.py:299: FutureWarning: pandas.Int64Index is deprecated and will be removed from pandas in a future version. Use pandas.Index with the appropriate dtype instead.\n",
      "  pd.Int64Index,\n",
      "/n/home02/pbb/.conda/envs/Halo/lib/python3.8/site-packages/geopandas/io/file.py:299: FutureWarning: pandas.Int64Index is deprecated and will be removed from pandas in a future version. Use pandas.Index with the appropriate dtype instead.\n",
      "  pd.Int64Index,\n"
     ]
    },
    {
     "name": "stdout",
     "output_type": "stream",
     "text": [
      "Saved SelenkaySite04_PointCloud_WGS84UTM36S_000008_Height.shp. \n",
      "\n",
      "Saved SelenkaySite04_PointCloud_WGS84UTM36S_000011_Height.shp. \n",
      "\n",
      "Saved SelenkaySite04_PointCloud_WGS84UTM36S_000023_Height.shp. \n",
      "\n"
     ]
    },
    {
     "name": "stderr",
     "output_type": "stream",
     "text": [
      "/n/home02/pbb/.conda/envs/Halo/lib/python3.8/site-packages/geopandas/io/file.py:299: FutureWarning: pandas.Int64Index is deprecated and will be removed from pandas in a future version. Use pandas.Index with the appropriate dtype instead.\n",
      "  pd.Int64Index,\n",
      "/n/home02/pbb/.conda/envs/Halo/lib/python3.8/site-packages/geopandas/io/file.py:299: FutureWarning: pandas.Int64Index is deprecated and will be removed from pandas in a future version. Use pandas.Index with the appropriate dtype instead.\n",
      "  pd.Int64Index,\n"
     ]
    },
    {
     "name": "stdout",
     "output_type": "stream",
     "text": [
      "Saved SelenkaySite04_PointCloud_WGS84UTM36S_000003_Height.shp. \n",
      "\n",
      "Saved SelenkaySite04_PointCloud_WGS84UTM36S_000021_Height.shp. \n",
      "\n"
     ]
    },
    {
     "name": "stderr",
     "output_type": "stream",
     "text": [
      "/n/home02/pbb/.conda/envs/Halo/lib/python3.8/site-packages/geopandas/io/file.py:299: FutureWarning: pandas.Int64Index is deprecated and will be removed from pandas in a future version. Use pandas.Index with the appropriate dtype instead.\n",
      "  pd.Int64Index,\n",
      "/n/home02/pbb/.conda/envs/Halo/lib/python3.8/site-packages/geopandas/io/file.py:299: FutureWarning: pandas.Int64Index is deprecated and will be removed from pandas in a future version. Use pandas.Index with the appropriate dtype instead.\n",
      "  pd.Int64Index,\n",
      "/n/home02/pbb/.conda/envs/Halo/lib/python3.8/site-packages/geopandas/io/file.py:299: FutureWarning: pandas.Int64Index is deprecated and will be removed from pandas in a future version. Use pandas.Index with the appropriate dtype instead.\n",
      "  pd.Int64Index,\n"
     ]
    },
    {
     "name": "stdout",
     "output_type": "stream",
     "text": [
      "Saved SelenkaySite04_PointCloud_WGS84UTM36S_000001_Height.shp. \n",
      "\n",
      "Saved SelenkaySite04_PointCloud_WGS84UTM36S_000002_Height.shp. \n",
      "\n",
      "Saved SelenkaySite01_PointCloud_WGS84UTM37S_tile000003_Height.shp. \n",
      "\n"
     ]
    },
    {
     "name": "stderr",
     "output_type": "stream",
     "text": [
      "/n/home02/pbb/.conda/envs/Halo/lib/python3.8/site-packages/geopandas/io/file.py:299: FutureWarning: pandas.Int64Index is deprecated and will be removed from pandas in a future version. Use pandas.Index with the appropriate dtype instead.\n",
      "  pd.Int64Index,\n",
      "/n/home02/pbb/.conda/envs/Halo/lib/python3.8/site-packages/geopandas/io/file.py:299: FutureWarning: pandas.Int64Index is deprecated and will be removed from pandas in a future version. Use pandas.Index with the appropriate dtype instead.\n",
      "  pd.Int64Index,\n",
      "/n/home02/pbb/.conda/envs/Halo/lib/python3.8/site-packages/geopandas/io/file.py:299: FutureWarning: pandas.Int64Index is deprecated and will be removed from pandas in a future version. Use pandas.Index with the appropriate dtype instead.\n",
      "  pd.Int64Index,\n"
     ]
    },
    {
     "name": "stdout",
     "output_type": "stream",
     "text": [
      "Saved SelenkaySite01_PointCloud_WGS84UTM37S_tile000011_Height.shp. \n",
      "\n",
      "Saved SelenkaySite01_PointCloud_WGS84UTM37S_tile000010_Height.shp. \n",
      "\n",
      "Saved SelenkaySite01_PointCloud_WGS84UTM37S_tile000016_Height.shp. \n",
      "\n",
      "Saved SelenkaySite01_PointCloud_WGS84UTM37S_tile000001_Height.shp. \n",
      "\n",
      "Saved SelenkaySite01_PointCloud_WGS84UTM37S_tile000015_Height.shp. \n",
      "\n"
     ]
    },
    {
     "name": "stderr",
     "output_type": "stream",
     "text": [
      "/n/home02/pbb/.conda/envs/Halo/lib/python3.8/site-packages/geopandas/io/file.py:299: FutureWarning: pandas.Int64Index is deprecated and will be removed from pandas in a future version. Use pandas.Index with the appropriate dtype instead.\n",
      "  pd.Int64Index,\n",
      "/n/home02/pbb/.conda/envs/Halo/lib/python3.8/site-packages/geopandas/io/file.py:299: FutureWarning: pandas.Int64Index is deprecated and will be removed from pandas in a future version. Use pandas.Index with the appropriate dtype instead.\n",
      "  pd.Int64Index,\n",
      "/n/home02/pbb/.conda/envs/Halo/lib/python3.8/site-packages/geopandas/io/file.py:299: FutureWarning: pandas.Int64Index is deprecated and will be removed from pandas in a future version. Use pandas.Index with the appropriate dtype instead.\n",
      "  pd.Int64Index,\n"
     ]
    },
    {
     "name": "stdout",
     "output_type": "stream",
     "text": [
      "Saved SelenkaySite01_PointCloud_WGS84UTM37S_tile000002_Height.shp. \n",
      "\n",
      "Saved SelenkaySite01_PointCloud_WGS84UTM37S_tile000006_Height.shp. \n",
      "\n"
     ]
    },
    {
     "name": "stderr",
     "output_type": "stream",
     "text": [
      "/n/home02/pbb/.conda/envs/Halo/lib/python3.8/site-packages/geopandas/io/file.py:299: FutureWarning: pandas.Int64Index is deprecated and will be removed from pandas in a future version. Use pandas.Index with the appropriate dtype instead.\n",
      "  pd.Int64Index,\n",
      "/n/home02/pbb/.conda/envs/Halo/lib/python3.8/site-packages/geopandas/io/file.py:299: FutureWarning: pandas.Int64Index is deprecated and will be removed from pandas in a future version. Use pandas.Index with the appropriate dtype instead.\n",
      "  pd.Int64Index,\n",
      "/n/home02/pbb/.conda/envs/Halo/lib/python3.8/site-packages/geopandas/io/file.py:299: FutureWarning: pandas.Int64Index is deprecated and will be removed from pandas in a future version. Use pandas.Index with the appropriate dtype instead.\n",
      "  pd.Int64Index,\n"
     ]
    },
    {
     "name": "stdout",
     "output_type": "stream",
     "text": [
      "Saved SelenkaySite01_PointCloud_WGS84UTM37S_tile000023_Height.shp. \n",
      "\n",
      "Saved SelenkaySite01_PointCloud_WGS84UTM37S_tile000025_Height.shp. \n",
      "\n",
      "Saved SelenkaySite01_PointCloud_WGS84UTM37S_tile000004_Height.shp. \n",
      "\n"
     ]
    },
    {
     "name": "stderr",
     "output_type": "stream",
     "text": [
      "/n/home02/pbb/.conda/envs/Halo/lib/python3.8/site-packages/geopandas/io/file.py:299: FutureWarning: pandas.Int64Index is deprecated and will be removed from pandas in a future version. Use pandas.Index with the appropriate dtype instead.\n",
      "  pd.Int64Index,\n",
      "/n/home02/pbb/.conda/envs/Halo/lib/python3.8/site-packages/geopandas/io/file.py:299: FutureWarning: pandas.Int64Index is deprecated and will be removed from pandas in a future version. Use pandas.Index with the appropriate dtype instead.\n",
      "  pd.Int64Index,\n",
      "/n/home02/pbb/.conda/envs/Halo/lib/python3.8/site-packages/geopandas/io/file.py:299: FutureWarning: pandas.Int64Index is deprecated and will be removed from pandas in a future version. Use pandas.Index with the appropriate dtype instead.\n",
      "  pd.Int64Index,\n"
     ]
    },
    {
     "name": "stdout",
     "output_type": "stream",
     "text": [
      "Saved SelenkaySite01_PointCloud_WGS84UTM37S_tile000005_Height.shp. \n",
      "\n",
      "Saved SelenkaySite01_PointCloud_WGS84UTM37S_tile000018_Height.shp. \n",
      "\n"
     ]
    },
    {
     "name": "stderr",
     "output_type": "stream",
     "text": [
      "/n/home02/pbb/.conda/envs/Halo/lib/python3.8/site-packages/geopandas/io/file.py:299: FutureWarning: pandas.Int64Index is deprecated and will be removed from pandas in a future version. Use pandas.Index with the appropriate dtype instead.\n",
      "  pd.Int64Index,\n",
      "/n/home02/pbb/.conda/envs/Halo/lib/python3.8/site-packages/geopandas/io/file.py:299: FutureWarning: pandas.Int64Index is deprecated and will be removed from pandas in a future version. Use pandas.Index with the appropriate dtype instead.\n",
      "  pd.Int64Index,\n",
      "/n/home02/pbb/.conda/envs/Halo/lib/python3.8/site-packages/geopandas/io/file.py:299: FutureWarning: pandas.Int64Index is deprecated and will be removed from pandas in a future version. Use pandas.Index with the appropriate dtype instead.\n",
      "  pd.Int64Index,\n"
     ]
    },
    {
     "name": "stdout",
     "output_type": "stream",
     "text": [
      "Saved SelenkaySite01_PointCloud_WGS84UTM37S_tile000024_Height.shp. \n",
      "\n",
      "Saved SelenkaySite01_PointCloud_WGS84UTM37S_tile000008_Height.shp. \n",
      "\n",
      "Saved SelenkaySite01_PointCloud_WGS84UTM37S_tile000020_Height.shp. \n",
      "\n"
     ]
    },
    {
     "name": "stderr",
     "output_type": "stream",
     "text": [
      "/n/home02/pbb/.conda/envs/Halo/lib/python3.8/site-packages/geopandas/io/file.py:299: FutureWarning: pandas.Int64Index is deprecated and will be removed from pandas in a future version. Use pandas.Index with the appropriate dtype instead.\n",
      "  pd.Int64Index,\n",
      "/n/home02/pbb/.conda/envs/Halo/lib/python3.8/site-packages/geopandas/io/file.py:299: FutureWarning: pandas.Int64Index is deprecated and will be removed from pandas in a future version. Use pandas.Index with the appropriate dtype instead.\n",
      "  pd.Int64Index,\n"
     ]
    },
    {
     "name": "stdout",
     "output_type": "stream",
     "text": [
      "Saved SelenkaySite01_PointCloud_WGS84UTM37S_tile000022_Height.shp. \n",
      "\n",
      "Saved SelenkaySite01_PointCloud_WGS84UTM37S_tile000021_Height.shp. \n",
      "\n"
     ]
    },
    {
     "name": "stderr",
     "output_type": "stream",
     "text": [
      "/n/home02/pbb/.conda/envs/Halo/lib/python3.8/site-packages/geopandas/io/file.py:299: FutureWarning: pandas.Int64Index is deprecated and will be removed from pandas in a future version. Use pandas.Index with the appropriate dtype instead.\n",
      "  pd.Int64Index,\n",
      "/n/home02/pbb/.conda/envs/Halo/lib/python3.8/site-packages/geopandas/io/file.py:299: FutureWarning: pandas.Int64Index is deprecated and will be removed from pandas in a future version. Use pandas.Index with the appropriate dtype instead.\n",
      "  pd.Int64Index,\n",
      "/n/home02/pbb/.conda/envs/Halo/lib/python3.8/site-packages/geopandas/io/file.py:299: FutureWarning: pandas.Int64Index is deprecated and will be removed from pandas in a future version. Use pandas.Index with the appropriate dtype instead.\n",
      "  pd.Int64Index,\n"
     ]
    },
    {
     "name": "stdout",
     "output_type": "stream",
     "text": [
      "Saved SelenkaySite01_PointCloud_WGS84UTM37S_tile000009_Height.shp. \n",
      "\n",
      "Saved SelenkaySite01_PointCloud_WGS84UTM37S_tile000007_Height.shp. \n",
      "\n",
      "Saved SelenkaySite01_PointCloud_WGS84UTM37S_tile000012_Height.shp. \n",
      "\n",
      "Saved SelenkaySite01_PointCloud_WGS84UTM37S_tile000019_Height.shp. \n",
      "\n"
     ]
    },
    {
     "name": "stderr",
     "output_type": "stream",
     "text": [
      "/n/home02/pbb/.conda/envs/Halo/lib/python3.8/site-packages/geopandas/io/file.py:299: FutureWarning: pandas.Int64Index is deprecated and will be removed from pandas in a future version. Use pandas.Index with the appropriate dtype instead.\n",
      "  pd.Int64Index,\n",
      "/n/home02/pbb/.conda/envs/Halo/lib/python3.8/site-packages/geopandas/io/file.py:299: FutureWarning: pandas.Int64Index is deprecated and will be removed from pandas in a future version. Use pandas.Index with the appropriate dtype instead.\n",
      "  pd.Int64Index,\n",
      "/n/home02/pbb/.conda/envs/Halo/lib/python3.8/site-packages/geopandas/io/file.py:299: FutureWarning: pandas.Int64Index is deprecated and will be removed from pandas in a future version. Use pandas.Index with the appropriate dtype instead.\n",
      "  pd.Int64Index,\n"
     ]
    },
    {
     "name": "stdout",
     "output_type": "stream",
     "text": [
      "Saved SelenkaySite01_PointCloud_WGS84UTM37S_tile000017_Height.shp. \n",
      "\n",
      "Saved SelenkaySite01_PointCloud_WGS84UTM37S_tile000013_Height.shp. \n",
      "\n"
     ]
    },
    {
     "name": "stderr",
     "output_type": "stream",
     "text": [
      "/n/home02/pbb/.conda/envs/Halo/lib/python3.8/site-packages/geopandas/io/file.py:299: FutureWarning: pandas.Int64Index is deprecated and will be removed from pandas in a future version. Use pandas.Index with the appropriate dtype instead.\n",
      "  pd.Int64Index,\n",
      "/n/home02/pbb/.conda/envs/Halo/lib/python3.8/site-packages/geopandas/io/file.py:299: FutureWarning: pandas.Int64Index is deprecated and will be removed from pandas in a future version. Use pandas.Index with the appropriate dtype instead.\n",
      "  pd.Int64Index,\n",
      "/n/home02/pbb/.conda/envs/Halo/lib/python3.8/site-packages/geopandas/io/file.py:299: FutureWarning: pandas.Int64Index is deprecated and will be removed from pandas in a future version. Use pandas.Index with the appropriate dtype instead.\n",
      "  pd.Int64Index,\n"
     ]
    },
    {
     "name": "stdout",
     "output_type": "stream",
     "text": [
      "Saved SelenkaySite03_PointCloud_WGS84UTM37S_tile000016_Height.shp. \n",
      "\n",
      "Saved SelenkaySite03_PointCloud_WGS84UTM37S_tile000008_Height.shp. \n",
      "\n",
      "Saved SelenkaySite03_PointCloud_WGS84UTM37S_tile000002_Height.shp. \n",
      "\n"
     ]
    },
    {
     "name": "stderr",
     "output_type": "stream",
     "text": [
      "/n/home02/pbb/.conda/envs/Halo/lib/python3.8/site-packages/geopandas/io/file.py:299: FutureWarning: pandas.Int64Index is deprecated and will be removed from pandas in a future version. Use pandas.Index with the appropriate dtype instead.\n",
      "  pd.Int64Index,\n",
      "/n/home02/pbb/.conda/envs/Halo/lib/python3.8/site-packages/geopandas/io/file.py:299: FutureWarning: pandas.Int64Index is deprecated and will be removed from pandas in a future version. Use pandas.Index with the appropriate dtype instead.\n",
      "  pd.Int64Index,\n",
      "/n/home02/pbb/.conda/envs/Halo/lib/python3.8/site-packages/geopandas/io/file.py:299: FutureWarning: pandas.Int64Index is deprecated and will be removed from pandas in a future version. Use pandas.Index with the appropriate dtype instead.\n",
      "  pd.Int64Index,\n"
     ]
    },
    {
     "name": "stdout",
     "output_type": "stream",
     "text": [
      "Saved SelenkaySite03_PointCloud_WGS84UTM37S_tile000010_Height.shp. \n",
      "\n",
      "Saved SelenkaySite03_PointCloud_WGS84UTM37S_tile000003_Height.shp. \n",
      "\n",
      "Saved SelenkaySite03_PointCloud_WGS84UTM37S_tile000027_Height.shp. \n",
      "\n",
      "Saved SelenkaySite03_PointCloud_WGS84UTM37S_tile000022_Height.shp. \n",
      "\n",
      "Saved SelenkaySite03_PointCloud_WGS84UTM37S_tile000004_Height.shp. \n",
      "\n"
     ]
    },
    {
     "name": "stderr",
     "output_type": "stream",
     "text": [
      "/n/home02/pbb/.conda/envs/Halo/lib/python3.8/site-packages/geopandas/io/file.py:299: FutureWarning: pandas.Int64Index is deprecated and will be removed from pandas in a future version. Use pandas.Index with the appropriate dtype instead.\n",
      "  pd.Int64Index,\n",
      "/n/home02/pbb/.conda/envs/Halo/lib/python3.8/site-packages/geopandas/io/file.py:299: FutureWarning: pandas.Int64Index is deprecated and will be removed from pandas in a future version. Use pandas.Index with the appropriate dtype instead.\n",
      "  pd.Int64Index,\n",
      "/n/home02/pbb/.conda/envs/Halo/lib/python3.8/site-packages/geopandas/io/file.py:299: FutureWarning: pandas.Int64Index is deprecated and will be removed from pandas in a future version. Use pandas.Index with the appropriate dtype instead.\n",
      "  pd.Int64Index,\n"
     ]
    },
    {
     "name": "stdout",
     "output_type": "stream",
     "text": [
      "Saved SelenkaySite03_PointCloud_WGS84UTM37S_tile000017_Height.shp. \n",
      "\n",
      "Saved SelenkaySite03_PointCloud_WGS84UTM37S_tile000012_Height.shp. \n",
      "\n",
      "Saved SelenkaySite03_PointCloud_WGS84UTM37S_tile000009_Height.shp. \n",
      "\n"
     ]
    },
    {
     "name": "stderr",
     "output_type": "stream",
     "text": [
      "/n/home02/pbb/.conda/envs/Halo/lib/python3.8/site-packages/geopandas/io/file.py:299: FutureWarning: pandas.Int64Index is deprecated and will be removed from pandas in a future version. Use pandas.Index with the appropriate dtype instead.\n",
      "  pd.Int64Index,\n",
      "/n/home02/pbb/.conda/envs/Halo/lib/python3.8/site-packages/geopandas/io/file.py:299: FutureWarning: pandas.Int64Index is deprecated and will be removed from pandas in a future version. Use pandas.Index with the appropriate dtype instead.\n",
      "  pd.Int64Index,\n",
      "/n/home02/pbb/.conda/envs/Halo/lib/python3.8/site-packages/geopandas/io/file.py:299: FutureWarning: pandas.Int64Index is deprecated and will be removed from pandas in a future version. Use pandas.Index with the appropriate dtype instead.\n",
      "  pd.Int64Index,\n"
     ]
    },
    {
     "name": "stdout",
     "output_type": "stream",
     "text": [
      "Saved SelenkaySite03_PointCloud_WGS84UTM37S_tile000031_Height.shp. \n",
      "\n",
      "Saved SelenkaySite03_PointCloud_WGS84UTM37S_tile000001_Height.shp. \n",
      "\n",
      "Saved SelenkaySite03_PointCloud_WGS84UTM37S_tile000007_Height.shp. \n",
      "\n"
     ]
    },
    {
     "name": "stderr",
     "output_type": "stream",
     "text": [
      "/n/home02/pbb/.conda/envs/Halo/lib/python3.8/site-packages/geopandas/io/file.py:299: FutureWarning: pandas.Int64Index is deprecated and will be removed from pandas in a future version. Use pandas.Index with the appropriate dtype instead.\n",
      "  pd.Int64Index,\n",
      "/n/home02/pbb/.conda/envs/Halo/lib/python3.8/site-packages/geopandas/io/file.py:299: FutureWarning: pandas.Int64Index is deprecated and will be removed from pandas in a future version. Use pandas.Index with the appropriate dtype instead.\n",
      "  pd.Int64Index,\n",
      "/n/home02/pbb/.conda/envs/Halo/lib/python3.8/site-packages/geopandas/io/file.py:299: FutureWarning: pandas.Int64Index is deprecated and will be removed from pandas in a future version. Use pandas.Index with the appropriate dtype instead.\n",
      "  pd.Int64Index,\n"
     ]
    },
    {
     "name": "stdout",
     "output_type": "stream",
     "text": [
      "Saved SelenkaySite03_PointCloud_WGS84UTM37S_tile000006_Height.shp. \n",
      "\n",
      "Saved SelenkaySite03_PointCloud_WGS84UTM37S_tile000024_Height.shp. \n",
      "\n"
     ]
    },
    {
     "name": "stderr",
     "output_type": "stream",
     "text": [
      "/n/home02/pbb/.conda/envs/Halo/lib/python3.8/site-packages/geopandas/io/file.py:299: FutureWarning: pandas.Int64Index is deprecated and will be removed from pandas in a future version. Use pandas.Index with the appropriate dtype instead.\n",
      "  pd.Int64Index,\n",
      "/n/home02/pbb/.conda/envs/Halo/lib/python3.8/site-packages/geopandas/io/file.py:299: FutureWarning: pandas.Int64Index is deprecated and will be removed from pandas in a future version. Use pandas.Index with the appropriate dtype instead.\n",
      "  pd.Int64Index,\n",
      "/n/home02/pbb/.conda/envs/Halo/lib/python3.8/site-packages/geopandas/io/file.py:299: FutureWarning: pandas.Int64Index is deprecated and will be removed from pandas in a future version. Use pandas.Index with the appropriate dtype instead.\n",
      "  pd.Int64Index,\n"
     ]
    },
    {
     "name": "stdout",
     "output_type": "stream",
     "text": [
      "Saved SelenkaySite03_PointCloud_WGS84UTM37S_tile000020_Height.shp. \n",
      "\n",
      "Saved SelenkaySite03_PointCloud_WGS84UTM37S_tile000023_Height.shp. \n",
      "\n",
      "Saved SelenkaySite03_PointCloud_WGS84UTM37S_tile000030_Height.shp. \n",
      "\n",
      "Saved SelenkaySite03_PointCloud_WGS84UTM37S_tile000028_Height.shp. \n",
      "\n"
     ]
    },
    {
     "name": "stderr",
     "output_type": "stream",
     "text": [
      "/n/home02/pbb/.conda/envs/Halo/lib/python3.8/site-packages/geopandas/io/file.py:299: FutureWarning: pandas.Int64Index is deprecated and will be removed from pandas in a future version. Use pandas.Index with the appropriate dtype instead.\n",
      "  pd.Int64Index,\n",
      "/n/home02/pbb/.conda/envs/Halo/lib/python3.8/site-packages/geopandas/io/file.py:299: FutureWarning: pandas.Int64Index is deprecated and will be removed from pandas in a future version. Use pandas.Index with the appropriate dtype instead.\n",
      "  pd.Int64Index,\n",
      "/n/home02/pbb/.conda/envs/Halo/lib/python3.8/site-packages/geopandas/io/file.py:299: FutureWarning: pandas.Int64Index is deprecated and will be removed from pandas in a future version. Use pandas.Index with the appropriate dtype instead.\n",
      "  pd.Int64Index,\n"
     ]
    },
    {
     "name": "stdout",
     "output_type": "stream",
     "text": [
      "Saved SelenkaySite03_PointCloud_WGS84UTM37S_tile000032_Height.shp. \n",
      "\n",
      "Saved SelenkaySite03_PointCloud_WGS84UTM37S_tile000025_Height.shp. \n",
      "\n"
     ]
    },
    {
     "name": "stderr",
     "output_type": "stream",
     "text": [
      "/n/home02/pbb/.conda/envs/Halo/lib/python3.8/site-packages/geopandas/io/file.py:299: FutureWarning: pandas.Int64Index is deprecated and will be removed from pandas in a future version. Use pandas.Index with the appropriate dtype instead.\n",
      "  pd.Int64Index,\n",
      "/n/home02/pbb/.conda/envs/Halo/lib/python3.8/site-packages/geopandas/io/file.py:299: FutureWarning: pandas.Int64Index is deprecated and will be removed from pandas in a future version. Use pandas.Index with the appropriate dtype instead.\n",
      "  pd.Int64Index,\n"
     ]
    },
    {
     "name": "stdout",
     "output_type": "stream",
     "text": [
      "Saved SelenkaySite03_PointCloud_WGS84UTM37S_tile000029_Height.shp. \n",
      "\n",
      "Saved SelenkaySite03_PointCloud_WGS84UTM37S_tile000019_Height.shp. \n",
      "\n",
      "Saved SelenkaySite03_PointCloud_WGS84UTM37S_tile000013_Height.shp. \n",
      "\n"
     ]
    },
    {
     "name": "stderr",
     "output_type": "stream",
     "text": [
      "/n/home02/pbb/.conda/envs/Halo/lib/python3.8/site-packages/geopandas/io/file.py:299: FutureWarning: pandas.Int64Index is deprecated and will be removed from pandas in a future version. Use pandas.Index with the appropriate dtype instead.\n",
      "  pd.Int64Index,\n",
      "/n/home02/pbb/.conda/envs/Halo/lib/python3.8/site-packages/geopandas/io/file.py:299: FutureWarning: pandas.Int64Index is deprecated and will be removed from pandas in a future version. Use pandas.Index with the appropriate dtype instead.\n",
      "  pd.Int64Index,\n",
      "/n/home02/pbb/.conda/envs/Halo/lib/python3.8/site-packages/geopandas/io/file.py:299: FutureWarning: pandas.Int64Index is deprecated and will be removed from pandas in a future version. Use pandas.Index with the appropriate dtype instead.\n",
      "  pd.Int64Index,\n"
     ]
    },
    {
     "name": "stdout",
     "output_type": "stream",
     "text": [
      "Saved SelenkaySite03_PointCloud_WGS84UTM37S_tile000018_Height.shp. \n",
      "\n",
      "Saved SelenkaySite02_PointCloud_WGS84UTM37S_tile000025_Height.shp. \n",
      "\n"
     ]
    },
    {
     "name": "stderr",
     "output_type": "stream",
     "text": [
      "/n/home02/pbb/.conda/envs/Halo/lib/python3.8/site-packages/geopandas/io/file.py:299: FutureWarning: pandas.Int64Index is deprecated and will be removed from pandas in a future version. Use pandas.Index with the appropriate dtype instead.\n",
      "  pd.Int64Index,\n",
      "/n/home02/pbb/.conda/envs/Halo/lib/python3.8/site-packages/geopandas/io/file.py:299: FutureWarning: pandas.Int64Index is deprecated and will be removed from pandas in a future version. Use pandas.Index with the appropriate dtype instead.\n",
      "  pd.Int64Index,\n"
     ]
    },
    {
     "name": "stdout",
     "output_type": "stream",
     "text": [
      "Saved SelenkaySite02_PointCloud_WGS84UTM37S_tile000012_Height.shp. \n",
      "\n",
      "Saved SelenkaySite02_PointCloud_WGS84UTM37S_tile000026_Height.shp. \n",
      "\n"
     ]
    },
    {
     "name": "stderr",
     "output_type": "stream",
     "text": [
      "/n/home02/pbb/.conda/envs/Halo/lib/python3.8/site-packages/geopandas/io/file.py:299: FutureWarning: pandas.Int64Index is deprecated and will be removed from pandas in a future version. Use pandas.Index with the appropriate dtype instead.\n",
      "  pd.Int64Index,\n",
      "/n/home02/pbb/.conda/envs/Halo/lib/python3.8/site-packages/geopandas/io/file.py:299: FutureWarning: pandas.Int64Index is deprecated and will be removed from pandas in a future version. Use pandas.Index with the appropriate dtype instead.\n",
      "  pd.Int64Index,\n"
     ]
    },
    {
     "name": "stdout",
     "output_type": "stream",
     "text": [
      "Saved SelenkaySite02_PointCloud_WGS84UTM37S_tile000023_Height.shp. \n",
      "\n",
      "Saved SelenkaySite02_PointCloud_WGS84UTM37S_tile000013_Height.shp. \n",
      "\n",
      "Saved SelenkaySite02_PointCloud_WGS84UTM37S_tile000002_Height.shp. \n",
      "\n"
     ]
    },
    {
     "name": "stderr",
     "output_type": "stream",
     "text": [
      "/n/home02/pbb/.conda/envs/Halo/lib/python3.8/site-packages/geopandas/io/file.py:299: FutureWarning: pandas.Int64Index is deprecated and will be removed from pandas in a future version. Use pandas.Index with the appropriate dtype instead.\n",
      "  pd.Int64Index,\n",
      "/n/home02/pbb/.conda/envs/Halo/lib/python3.8/site-packages/geopandas/io/file.py:299: FutureWarning: pandas.Int64Index is deprecated and will be removed from pandas in a future version. Use pandas.Index with the appropriate dtype instead.\n",
      "  pd.Int64Index,\n",
      "/n/home02/pbb/.conda/envs/Halo/lib/python3.8/site-packages/geopandas/io/file.py:299: FutureWarning: pandas.Int64Index is deprecated and will be removed from pandas in a future version. Use pandas.Index with the appropriate dtype instead.\n",
      "  pd.Int64Index,\n"
     ]
    },
    {
     "name": "stdout",
     "output_type": "stream",
     "text": [
      "Saved SelenkaySite02_PointCloud_WGS84UTM37S_tile000027_Height.shp. \n",
      "\n",
      "Saved SelenkaySite02_PointCloud_WGS84UTM37S_tile000015_Height.shp. \n",
      "\n"
     ]
    },
    {
     "name": "stderr",
     "output_type": "stream",
     "text": [
      "/n/home02/pbb/.conda/envs/Halo/lib/python3.8/site-packages/geopandas/io/file.py:299: FutureWarning: pandas.Int64Index is deprecated and will be removed from pandas in a future version. Use pandas.Index with the appropriate dtype instead.\n",
      "  pd.Int64Index,\n",
      "/n/home02/pbb/.conda/envs/Halo/lib/python3.8/site-packages/geopandas/io/file.py:299: FutureWarning: pandas.Int64Index is deprecated and will be removed from pandas in a future version. Use pandas.Index with the appropriate dtype instead.\n",
      "  pd.Int64Index,\n"
     ]
    },
    {
     "name": "stdout",
     "output_type": "stream",
     "text": [
      "Saved SelenkaySite02_PointCloud_WGS84UTM37S_tile000024_Height.shp. \n",
      "\n",
      "Saved SelenkaySite02_PointCloud_WGS84UTM37S_tile000011_Height.shp. \n",
      "\n"
     ]
    },
    {
     "name": "stderr",
     "output_type": "stream",
     "text": [
      "/n/home02/pbb/.conda/envs/Halo/lib/python3.8/site-packages/geopandas/io/file.py:299: FutureWarning: pandas.Int64Index is deprecated and will be removed from pandas in a future version. Use pandas.Index with the appropriate dtype instead.\n",
      "  pd.Int64Index,\n",
      "/n/home02/pbb/.conda/envs/Halo/lib/python3.8/site-packages/geopandas/io/file.py:299: FutureWarning: pandas.Int64Index is deprecated and will be removed from pandas in a future version. Use pandas.Index with the appropriate dtype instead.\n",
      "  pd.Int64Index,\n"
     ]
    },
    {
     "name": "stdout",
     "output_type": "stream",
     "text": [
      "Saved SelenkaySite02_PointCloud_WGS84UTM37S_tile000021_Height.shp. \n",
      "\n",
      "Saved SelenkaySite02_PointCloud_WGS84UTM37S_tile000001_Height.shp. \n",
      "\n"
     ]
    },
    {
     "name": "stderr",
     "output_type": "stream",
     "text": [
      "/n/home02/pbb/.conda/envs/Halo/lib/python3.8/site-packages/geopandas/io/file.py:299: FutureWarning: pandas.Int64Index is deprecated and will be removed from pandas in a future version. Use pandas.Index with the appropriate dtype instead.\n",
      "  pd.Int64Index,\n",
      "/n/home02/pbb/.conda/envs/Halo/lib/python3.8/site-packages/geopandas/io/file.py:299: FutureWarning: pandas.Int64Index is deprecated and will be removed from pandas in a future version. Use pandas.Index with the appropriate dtype instead.\n",
      "  pd.Int64Index,\n"
     ]
    },
    {
     "name": "stdout",
     "output_type": "stream",
     "text": [
      "Saved SelenkaySite02_PointCloud_WGS84UTM37S_tile000006_Height.shp. \n",
      "\n",
      "Saved SelenkaySite02_PointCloud_WGS84UTM37S_tile000004_Height.shp. \n",
      "\n"
     ]
    },
    {
     "name": "stderr",
     "output_type": "stream",
     "text": [
      "/n/home02/pbb/.conda/envs/Halo/lib/python3.8/site-packages/geopandas/io/file.py:299: FutureWarning: pandas.Int64Index is deprecated and will be removed from pandas in a future version. Use pandas.Index with the appropriate dtype instead.\n",
      "  pd.Int64Index,\n",
      "/n/home02/pbb/.conda/envs/Halo/lib/python3.8/site-packages/geopandas/io/file.py:299: FutureWarning: pandas.Int64Index is deprecated and will be removed from pandas in a future version. Use pandas.Index with the appropriate dtype instead.\n",
      "  pd.Int64Index,\n"
     ]
    },
    {
     "name": "stdout",
     "output_type": "stream",
     "text": [
      "Saved SelenkaySite02_PointCloud_WGS84UTM37S_tile000016_Height.shp. \n",
      "\n",
      "Saved SelenkaySite02_PointCloud_WGS84UTM37S_tile000008_Height.shp. \n",
      "\n"
     ]
    },
    {
     "name": "stderr",
     "output_type": "stream",
     "text": [
      "/n/home02/pbb/.conda/envs/Halo/lib/python3.8/site-packages/geopandas/io/file.py:299: FutureWarning: pandas.Int64Index is deprecated and will be removed from pandas in a future version. Use pandas.Index with the appropriate dtype instead.\n",
      "  pd.Int64Index,\n",
      "/n/home02/pbb/.conda/envs/Halo/lib/python3.8/site-packages/geopandas/io/file.py:299: FutureWarning: pandas.Int64Index is deprecated and will be removed from pandas in a future version. Use pandas.Index with the appropriate dtype instead.\n",
      "  pd.Int64Index,\n",
      "/n/home02/pbb/.conda/envs/Halo/lib/python3.8/site-packages/geopandas/io/file.py:299: FutureWarning: pandas.Int64Index is deprecated and will be removed from pandas in a future version. Use pandas.Index with the appropriate dtype instead.\n",
      "  pd.Int64Index,\n"
     ]
    },
    {
     "name": "stdout",
     "output_type": "stream",
     "text": [
      "Saved SelenkaySite02_PointCloud_WGS84UTM37S_tile000007_Height.shp. \n",
      "\n",
      "Saved SelenkaySite02_PointCloud_WGS84UTM37S_tile000014_Height.shp. \n",
      "\n"
     ]
    },
    {
     "name": "stderr",
     "output_type": "stream",
     "text": [
      "/n/home02/pbb/.conda/envs/Halo/lib/python3.8/site-packages/geopandas/io/file.py:299: FutureWarning: pandas.Int64Index is deprecated and will be removed from pandas in a future version. Use pandas.Index with the appropriate dtype instead.\n",
      "  pd.Int64Index,\n",
      "/n/home02/pbb/.conda/envs/Halo/lib/python3.8/site-packages/geopandas/io/file.py:299: FutureWarning: pandas.Int64Index is deprecated and will be removed from pandas in a future version. Use pandas.Index with the appropriate dtype instead.\n",
      "  pd.Int64Index,\n"
     ]
    },
    {
     "name": "stdout",
     "output_type": "stream",
     "text": [
      "Saved SelenkaySite02_PointCloud_WGS84UTM37S_tile000022_Height.shp. \n",
      "\n",
      "Saved SelenkaySite02_PointCloud_WGS84UTM37S_tile000019_Height.shp. \n",
      "\n"
     ]
    },
    {
     "name": "stderr",
     "output_type": "stream",
     "text": [
      "/n/home02/pbb/.conda/envs/Halo/lib/python3.8/site-packages/geopandas/io/file.py:299: FutureWarning: pandas.Int64Index is deprecated and will be removed from pandas in a future version. Use pandas.Index with the appropriate dtype instead.\n",
      "  pd.Int64Index,\n",
      "/n/home02/pbb/.conda/envs/Halo/lib/python3.8/site-packages/geopandas/io/file.py:299: FutureWarning: pandas.Int64Index is deprecated and will be removed from pandas in a future version. Use pandas.Index with the appropriate dtype instead.\n",
      "  pd.Int64Index,\n"
     ]
    },
    {
     "name": "stdout",
     "output_type": "stream",
     "text": [
      "Saved SelenkaySite02_PointCloud_WGS84UTM37S_tile000009_Height.shp. \n",
      "\n",
      "Saved SelenkaySite02_PointCloud_WGS84UTM37S_tile000005_Height.shp. \n",
      "\n",
      "Saved SelenkaySite02_PointCloud_WGS84UTM37S_tile000018_Height.shp. \n",
      "\n"
     ]
    },
    {
     "name": "stderr",
     "output_type": "stream",
     "text": [
      "/n/home02/pbb/.conda/envs/Halo/lib/python3.8/site-packages/geopandas/io/file.py:299: FutureWarning: pandas.Int64Index is deprecated and will be removed from pandas in a future version. Use pandas.Index with the appropriate dtype instead.\n",
      "  pd.Int64Index,\n"
     ]
    }
   ],
   "source": [
    "# Inside\n",
    "ld_inside = Path('/n/davies_lab/Users/pbb/SelenkayDiversity/data/in/Inside/PointClouds')\n",
    "od_inside = '/n/davies_lab/Users/pbb/SelenkayDiversity/data/in/Inside/lasbboxshp'\n",
    "\n",
    "for l in glob.glob(str(ld_inside) + '/**/*.las', recursive=True):\n",
    "    \n",
    "    lasBBoxShp(lasf=l, opath=od_inside, epsg=epsg)"
   ]
  },
  {
   "cell_type": "code",
   "execution_count": 3,
   "id": "a3f8036c-7afa-4764-b25d-ada360db3104",
   "metadata": {},
   "outputs": [
    {
     "name": "stderr",
     "output_type": "stream",
     "text": [
      "/n/home02/pbb/.conda/envs/Halo/lib/python3.8/site-packages/geopandas/io/file.py:299: FutureWarning: pandas.Int64Index is deprecated and will be removed from pandas in a future version. Use pandas.Index with the appropriate dtype instead.\n",
      "  pd.Int64Index,\n",
      "/n/home02/pbb/.conda/envs/Halo/lib/python3.8/site-packages/geopandas/io/file.py:299: FutureWarning: pandas.Int64Index is deprecated and will be removed from pandas in a future version. Use pandas.Index with the appropriate dtype instead.\n",
      "  pd.Int64Index,\n"
     ]
    },
    {
     "name": "stdout",
     "output_type": "stream",
     "text": [
      "Saved SelenkaySite05_PointCloud_WGS84UTM37S_000003_Height.shp. \n",
      "\n",
      "Saved SelenkaySite05_PointCloud_WGS84UTM37S_000014_Height.shp. \n",
      "\n"
     ]
    },
    {
     "name": "stderr",
     "output_type": "stream",
     "text": [
      "/n/home02/pbb/.conda/envs/Halo/lib/python3.8/site-packages/geopandas/io/file.py:299: FutureWarning: pandas.Int64Index is deprecated and will be removed from pandas in a future version. Use pandas.Index with the appropriate dtype instead.\n",
      "  pd.Int64Index,\n",
      "/n/home02/pbb/.conda/envs/Halo/lib/python3.8/site-packages/geopandas/io/file.py:299: FutureWarning: pandas.Int64Index is deprecated and will be removed from pandas in a future version. Use pandas.Index with the appropriate dtype instead.\n",
      "  pd.Int64Index,\n"
     ]
    },
    {
     "name": "stdout",
     "output_type": "stream",
     "text": [
      "Saved SelenkaySite05_PointCloud_WGS84UTM37S_000007_Height.shp. \n",
      "\n",
      "Saved SelenkaySite05_PointCloud_WGS84UTM37S_000015_Height.shp. \n",
      "\n",
      "Saved SelenkaySite05_PointCloud_WGS84UTM37S_000017_Height.shp. \n",
      "\n"
     ]
    },
    {
     "name": "stderr",
     "output_type": "stream",
     "text": [
      "/n/home02/pbb/.conda/envs/Halo/lib/python3.8/site-packages/geopandas/io/file.py:299: FutureWarning: pandas.Int64Index is deprecated and will be removed from pandas in a future version. Use pandas.Index with the appropriate dtype instead.\n",
      "  pd.Int64Index,\n",
      "/n/home02/pbb/.conda/envs/Halo/lib/python3.8/site-packages/geopandas/io/file.py:299: FutureWarning: pandas.Int64Index is deprecated and will be removed from pandas in a future version. Use pandas.Index with the appropriate dtype instead.\n",
      "  pd.Int64Index,\n",
      "/n/home02/pbb/.conda/envs/Halo/lib/python3.8/site-packages/geopandas/io/file.py:299: FutureWarning: pandas.Int64Index is deprecated and will be removed from pandas in a future version. Use pandas.Index with the appropriate dtype instead.\n",
      "  pd.Int64Index,\n"
     ]
    },
    {
     "name": "stdout",
     "output_type": "stream",
     "text": [
      "Saved SelenkaySite05_PointCloud_WGS84UTM37S_000002_Height.shp. \n",
      "\n",
      "Saved SelenkaySite05_PointCloud_WGS84UTM37S_000021_Height.shp. \n",
      "\n",
      "Saved SelenkaySite05_PointCloud_WGS84UTM37S_000005_Height.shp. \n",
      "\n"
     ]
    },
    {
     "name": "stderr",
     "output_type": "stream",
     "text": [
      "/n/home02/pbb/.conda/envs/Halo/lib/python3.8/site-packages/geopandas/io/file.py:299: FutureWarning: pandas.Int64Index is deprecated and will be removed from pandas in a future version. Use pandas.Index with the appropriate dtype instead.\n",
      "  pd.Int64Index,\n",
      "/n/home02/pbb/.conda/envs/Halo/lib/python3.8/site-packages/geopandas/io/file.py:299: FutureWarning: pandas.Int64Index is deprecated and will be removed from pandas in a future version. Use pandas.Index with the appropriate dtype instead.\n",
      "  pd.Int64Index,\n"
     ]
    },
    {
     "name": "stdout",
     "output_type": "stream",
     "text": [
      "Saved SelenkaySite05_PointCloud_WGS84UTM37S_000012_Height.shp. \n",
      "\n",
      "Saved SelenkaySite05_PointCloud_WGS84UTM37S_000001_Height.shp. \n",
      "\n"
     ]
    },
    {
     "name": "stderr",
     "output_type": "stream",
     "text": [
      "/n/home02/pbb/.conda/envs/Halo/lib/python3.8/site-packages/geopandas/io/file.py:299: FutureWarning: pandas.Int64Index is deprecated and will be removed from pandas in a future version. Use pandas.Index with the appropriate dtype instead.\n",
      "  pd.Int64Index,\n",
      "/n/home02/pbb/.conda/envs/Halo/lib/python3.8/site-packages/geopandas/io/file.py:299: FutureWarning: pandas.Int64Index is deprecated and will be removed from pandas in a future version. Use pandas.Index with the appropriate dtype instead.\n",
      "  pd.Int64Index,\n"
     ]
    },
    {
     "name": "stdout",
     "output_type": "stream",
     "text": [
      "Saved SelenkaySite05_PointCloud_WGS84UTM37S_000016_Height.shp. \n",
      "\n",
      "Saved SelenkaySite05_PointCloud_WGS84UTM37S_000011_Height.shp. \n",
      "\n"
     ]
    },
    {
     "name": "stderr",
     "output_type": "stream",
     "text": [
      "/n/home02/pbb/.conda/envs/Halo/lib/python3.8/site-packages/geopandas/io/file.py:299: FutureWarning: pandas.Int64Index is deprecated and will be removed from pandas in a future version. Use pandas.Index with the appropriate dtype instead.\n",
      "  pd.Int64Index,\n",
      "/n/home02/pbb/.conda/envs/Halo/lib/python3.8/site-packages/geopandas/io/file.py:299: FutureWarning: pandas.Int64Index is deprecated and will be removed from pandas in a future version. Use pandas.Index with the appropriate dtype instead.\n",
      "  pd.Int64Index,\n"
     ]
    },
    {
     "name": "stdout",
     "output_type": "stream",
     "text": [
      "Saved SelenkaySite05_PointCloud_WGS84UTM37S_000018_Height.shp. \n",
      "\n",
      "Saved SelenkaySite05_PointCloud_WGS84UTM37S_000023_Height.shp. \n",
      "\n"
     ]
    },
    {
     "name": "stderr",
     "output_type": "stream",
     "text": [
      "/n/home02/pbb/.conda/envs/Halo/lib/python3.8/site-packages/geopandas/io/file.py:299: FutureWarning: pandas.Int64Index is deprecated and will be removed from pandas in a future version. Use pandas.Index with the appropriate dtype instead.\n",
      "  pd.Int64Index,\n",
      "/n/home02/pbb/.conda/envs/Halo/lib/python3.8/site-packages/geopandas/io/file.py:299: FutureWarning: pandas.Int64Index is deprecated and will be removed from pandas in a future version. Use pandas.Index with the appropriate dtype instead.\n",
      "  pd.Int64Index,\n"
     ]
    },
    {
     "name": "stdout",
     "output_type": "stream",
     "text": [
      "Saved SelenkaySite05_PointCloud_WGS84UTM37S_000009_Height.shp. \n",
      "\n",
      "Saved SelenkaySite05_PointCloud_WGS84UTM37S_000024_Height.shp. \n",
      "\n"
     ]
    },
    {
     "name": "stderr",
     "output_type": "stream",
     "text": [
      "/n/home02/pbb/.conda/envs/Halo/lib/python3.8/site-packages/geopandas/io/file.py:299: FutureWarning: pandas.Int64Index is deprecated and will be removed from pandas in a future version. Use pandas.Index with the appropriate dtype instead.\n",
      "  pd.Int64Index,\n",
      "/n/home02/pbb/.conda/envs/Halo/lib/python3.8/site-packages/geopandas/io/file.py:299: FutureWarning: pandas.Int64Index is deprecated and will be removed from pandas in a future version. Use pandas.Index with the appropriate dtype instead.\n",
      "  pd.Int64Index,\n"
     ]
    },
    {
     "name": "stdout",
     "output_type": "stream",
     "text": [
      "Saved SelenkaySite05_PointCloud_WGS84UTM37S_000008_Height.shp. \n",
      "\n",
      "Saved SelenkaySite05_PointCloud_WGS84UTM37S_000027_Height.shp. \n",
      "\n"
     ]
    },
    {
     "name": "stderr",
     "output_type": "stream",
     "text": [
      "/n/home02/pbb/.conda/envs/Halo/lib/python3.8/site-packages/geopandas/io/file.py:299: FutureWarning: pandas.Int64Index is deprecated and will be removed from pandas in a future version. Use pandas.Index with the appropriate dtype instead.\n",
      "  pd.Int64Index,\n",
      "/n/home02/pbb/.conda/envs/Halo/lib/python3.8/site-packages/geopandas/io/file.py:299: FutureWarning: pandas.Int64Index is deprecated and will be removed from pandas in a future version. Use pandas.Index with the appropriate dtype instead.\n",
      "  pd.Int64Index,\n"
     ]
    },
    {
     "name": "stdout",
     "output_type": "stream",
     "text": [
      "Saved SelenkaySite05_PointCloud_WGS84UTM37S_000026_Height.shp. \n",
      "\n"
     ]
    },
    {
     "name": "stderr",
     "output_type": "stream",
     "text": [
      "/n/home02/pbb/.conda/envs/Halo/lib/python3.8/site-packages/geopandas/io/file.py:299: FutureWarning: pandas.Int64Index is deprecated and will be removed from pandas in a future version. Use pandas.Index with the appropriate dtype instead.\n",
      "  pd.Int64Index,\n"
     ]
    },
    {
     "name": "stdout",
     "output_type": "stream",
     "text": [
      "Saved SelenkaySite05_PointCloud_WGS84UTM37S_000028_Height.shp. \n",
      "\n",
      "Saved SelenkaySite05_PointCloud_WGS84UTM37S_000013_Height.shp. \n",
      "\n"
     ]
    },
    {
     "name": "stderr",
     "output_type": "stream",
     "text": [
      "/n/home02/pbb/.conda/envs/Halo/lib/python3.8/site-packages/geopandas/io/file.py:299: FutureWarning: pandas.Int64Index is deprecated and will be removed from pandas in a future version. Use pandas.Index with the appropriate dtype instead.\n",
      "  pd.Int64Index,\n",
      "/n/home02/pbb/.conda/envs/Halo/lib/python3.8/site-packages/geopandas/io/file.py:299: FutureWarning: pandas.Int64Index is deprecated and will be removed from pandas in a future version. Use pandas.Index with the appropriate dtype instead.\n",
      "  pd.Int64Index,\n"
     ]
    },
    {
     "name": "stdout",
     "output_type": "stream",
     "text": [
      "Saved SelenkaySite05_PointCloud_WGS84UTM37S_000019_Height.shp. \n",
      "\n"
     ]
    },
    {
     "name": "stderr",
     "output_type": "stream",
     "text": [
      "/n/home02/pbb/.conda/envs/Halo/lib/python3.8/site-packages/geopandas/io/file.py:299: FutureWarning: pandas.Int64Index is deprecated and will be removed from pandas in a future version. Use pandas.Index with the appropriate dtype instead.\n",
      "  pd.Int64Index,\n"
     ]
    },
    {
     "name": "stdout",
     "output_type": "stream",
     "text": [
      "Saved SelenkaySite05_PointCloud_WGS84UTM37S_000004_Height.shp. \n",
      "\n"
     ]
    },
    {
     "name": "stderr",
     "output_type": "stream",
     "text": [
      "/n/home02/pbb/.conda/envs/Halo/lib/python3.8/site-packages/geopandas/io/file.py:299: FutureWarning: pandas.Int64Index is deprecated and will be removed from pandas in a future version. Use pandas.Index with the appropriate dtype instead.\n",
      "  pd.Int64Index,\n",
      "/n/home02/pbb/.conda/envs/Halo/lib/python3.8/site-packages/geopandas/io/file.py:299: FutureWarning: pandas.Int64Index is deprecated and will be removed from pandas in a future version. Use pandas.Index with the appropriate dtype instead.\n",
      "  pd.Int64Index,\n"
     ]
    },
    {
     "name": "stdout",
     "output_type": "stream",
     "text": [
      "Saved SelenkaySite05_PointCloud_WGS84UTM37S_000006_Height.shp. \n",
      "\n",
      "Saved SelenkaySite06_PointCloud_WGS84UTM37S_000002_Height.shp. \n",
      "\n"
     ]
    },
    {
     "name": "stderr",
     "output_type": "stream",
     "text": [
      "/n/home02/pbb/.conda/envs/Halo/lib/python3.8/site-packages/geopandas/io/file.py:299: FutureWarning: pandas.Int64Index is deprecated and will be removed from pandas in a future version. Use pandas.Index with the appropriate dtype instead.\n",
      "  pd.Int64Index,\n",
      "/n/home02/pbb/.conda/envs/Halo/lib/python3.8/site-packages/geopandas/io/file.py:299: FutureWarning: pandas.Int64Index is deprecated and will be removed from pandas in a future version. Use pandas.Index with the appropriate dtype instead.\n",
      "  pd.Int64Index,\n"
     ]
    },
    {
     "name": "stdout",
     "output_type": "stream",
     "text": [
      "Saved SelenkaySite06_PointCloud_WGS84UTM37S_000014_Height.shp. \n",
      "\n",
      "Saved SelenkaySite06_PointCloud_WGS84UTM37S_000040_Height.shp. \n",
      "\n"
     ]
    },
    {
     "name": "stderr",
     "output_type": "stream",
     "text": [
      "/n/home02/pbb/.conda/envs/Halo/lib/python3.8/site-packages/geopandas/io/file.py:299: FutureWarning: pandas.Int64Index is deprecated and will be removed from pandas in a future version. Use pandas.Index with the appropriate dtype instead.\n",
      "  pd.Int64Index,\n"
     ]
    },
    {
     "name": "stdout",
     "output_type": "stream",
     "text": [
      "Saved SelenkaySite06_PointCloud_WGS84UTM37S_000026_Height.shp. \n",
      "\n",
      "Saved SelenkaySite06_PointCloud_WGS84UTM37S_000039_Height.shp. \n",
      "\n"
     ]
    },
    {
     "name": "stderr",
     "output_type": "stream",
     "text": [
      "/n/home02/pbb/.conda/envs/Halo/lib/python3.8/site-packages/geopandas/io/file.py:299: FutureWarning: pandas.Int64Index is deprecated and will be removed from pandas in a future version. Use pandas.Index with the appropriate dtype instead.\n",
      "  pd.Int64Index,\n",
      "/n/home02/pbb/.conda/envs/Halo/lib/python3.8/site-packages/geopandas/io/file.py:299: FutureWarning: pandas.Int64Index is deprecated and will be removed from pandas in a future version. Use pandas.Index with the appropriate dtype instead.\n",
      "  pd.Int64Index,\n"
     ]
    },
    {
     "name": "stdout",
     "output_type": "stream",
     "text": [
      "Saved SelenkaySite06_PointCloud_WGS84UTM37S_000024_Height.shp. \n",
      "\n",
      "Saved SelenkaySite06_PointCloud_WGS84UTM37S_000035_Height.shp. \n",
      "\n"
     ]
    },
    {
     "name": "stderr",
     "output_type": "stream",
     "text": [
      "/n/home02/pbb/.conda/envs/Halo/lib/python3.8/site-packages/geopandas/io/file.py:299: FutureWarning: pandas.Int64Index is deprecated and will be removed from pandas in a future version. Use pandas.Index with the appropriate dtype instead.\n",
      "  pd.Int64Index,\n",
      "/n/home02/pbb/.conda/envs/Halo/lib/python3.8/site-packages/geopandas/io/file.py:299: FutureWarning: pandas.Int64Index is deprecated and will be removed from pandas in a future version. Use pandas.Index with the appropriate dtype instead.\n",
      "  pd.Int64Index,\n"
     ]
    },
    {
     "name": "stdout",
     "output_type": "stream",
     "text": [
      "Saved SelenkaySite06_PointCloud_WGS84UTM37S_000019_Height.shp. \n",
      "\n",
      "Saved SelenkaySite06_PointCloud_WGS84UTM37S_000020_Height.shp. \n",
      "\n"
     ]
    },
    {
     "name": "stderr",
     "output_type": "stream",
     "text": [
      "/n/home02/pbb/.conda/envs/Halo/lib/python3.8/site-packages/geopandas/io/file.py:299: FutureWarning: pandas.Int64Index is deprecated and will be removed from pandas in a future version. Use pandas.Index with the appropriate dtype instead.\n",
      "  pd.Int64Index,\n",
      "/n/home02/pbb/.conda/envs/Halo/lib/python3.8/site-packages/geopandas/io/file.py:299: FutureWarning: pandas.Int64Index is deprecated and will be removed from pandas in a future version. Use pandas.Index with the appropriate dtype instead.\n",
      "  pd.Int64Index,\n"
     ]
    },
    {
     "name": "stdout",
     "output_type": "stream",
     "text": [
      "Saved SelenkaySite06_PointCloud_WGS84UTM37S_000001_Height.shp. \n",
      "\n",
      "Saved SelenkaySite06_PointCloud_WGS84UTM37S_000005_Height.shp. \n",
      "\n"
     ]
    },
    {
     "name": "stderr",
     "output_type": "stream",
     "text": [
      "/n/home02/pbb/.conda/envs/Halo/lib/python3.8/site-packages/geopandas/io/file.py:299: FutureWarning: pandas.Int64Index is deprecated and will be removed from pandas in a future version. Use pandas.Index with the appropriate dtype instead.\n",
      "  pd.Int64Index,\n",
      "/n/home02/pbb/.conda/envs/Halo/lib/python3.8/site-packages/geopandas/io/file.py:299: FutureWarning: pandas.Int64Index is deprecated and will be removed from pandas in a future version. Use pandas.Index with the appropriate dtype instead.\n",
      "  pd.Int64Index,\n"
     ]
    },
    {
     "name": "stdout",
     "output_type": "stream",
     "text": [
      "Saved SelenkaySite06_PointCloud_WGS84UTM37S_000003_Height.shp. \n",
      "\n"
     ]
    },
    {
     "name": "stderr",
     "output_type": "stream",
     "text": [
      "/n/home02/pbb/.conda/envs/Halo/lib/python3.8/site-packages/geopandas/io/file.py:299: FutureWarning: pandas.Int64Index is deprecated and will be removed from pandas in a future version. Use pandas.Index with the appropriate dtype instead.\n",
      "  pd.Int64Index,\n"
     ]
    },
    {
     "name": "stdout",
     "output_type": "stream",
     "text": [
      "Saved SelenkaySite06_PointCloud_WGS84UTM37S_000029_Height.shp. \n",
      "\n",
      "Saved SelenkaySite06_PointCloud_WGS84UTM37S_000018_Height.shp. \n",
      "\n"
     ]
    },
    {
     "name": "stderr",
     "output_type": "stream",
     "text": [
      "/n/home02/pbb/.conda/envs/Halo/lib/python3.8/site-packages/geopandas/io/file.py:299: FutureWarning: pandas.Int64Index is deprecated and will be removed from pandas in a future version. Use pandas.Index with the appropriate dtype instead.\n",
      "  pd.Int64Index,\n",
      "/n/home02/pbb/.conda/envs/Halo/lib/python3.8/site-packages/geopandas/io/file.py:299: FutureWarning: pandas.Int64Index is deprecated and will be removed from pandas in a future version. Use pandas.Index with the appropriate dtype instead.\n",
      "  pd.Int64Index,\n"
     ]
    },
    {
     "name": "stdout",
     "output_type": "stream",
     "text": [
      "Saved SelenkaySite06_PointCloud_WGS84UTM37S_000042_Height.shp. \n",
      "\n",
      "Saved SelenkaySite06_PointCloud_WGS84UTM37S_000043_Height.shp. \n",
      "\n"
     ]
    },
    {
     "name": "stderr",
     "output_type": "stream",
     "text": [
      "/n/home02/pbb/.conda/envs/Halo/lib/python3.8/site-packages/geopandas/io/file.py:299: FutureWarning: pandas.Int64Index is deprecated and will be removed from pandas in a future version. Use pandas.Index with the appropriate dtype instead.\n",
      "  pd.Int64Index,\n",
      "/n/home02/pbb/.conda/envs/Halo/lib/python3.8/site-packages/geopandas/io/file.py:299: FutureWarning: pandas.Int64Index is deprecated and will be removed from pandas in a future version. Use pandas.Index with the appropriate dtype instead.\n",
      "  pd.Int64Index,\n"
     ]
    },
    {
     "name": "stdout",
     "output_type": "stream",
     "text": [
      "Saved SelenkaySite06_PointCloud_WGS84UTM37S_000015_Height.shp. \n",
      "\n",
      "Saved SelenkaySite06_PointCloud_WGS84UTM37S_000008_Height.shp. \n",
      "\n"
     ]
    },
    {
     "name": "stderr",
     "output_type": "stream",
     "text": [
      "/n/home02/pbb/.conda/envs/Halo/lib/python3.8/site-packages/geopandas/io/file.py:299: FutureWarning: pandas.Int64Index is deprecated and will be removed from pandas in a future version. Use pandas.Index with the appropriate dtype instead.\n",
      "  pd.Int64Index,\n",
      "/n/home02/pbb/.conda/envs/Halo/lib/python3.8/site-packages/geopandas/io/file.py:299: FutureWarning: pandas.Int64Index is deprecated and will be removed from pandas in a future version. Use pandas.Index with the appropriate dtype instead.\n",
      "  pd.Int64Index,\n",
      "/n/home02/pbb/.conda/envs/Halo/lib/python3.8/site-packages/geopandas/io/file.py:299: FutureWarning: pandas.Int64Index is deprecated and will be removed from pandas in a future version. Use pandas.Index with the appropriate dtype instead.\n",
      "  pd.Int64Index,\n"
     ]
    },
    {
     "name": "stdout",
     "output_type": "stream",
     "text": [
      "Saved SelenkaySite06_PointCloud_WGS84UTM37S_000022_Height.shp. \n",
      "\n",
      "Saved SelenkaySite06_PointCloud_WGS84UTM37S_000028_Height.shp. \n",
      "\n"
     ]
    },
    {
     "name": "stderr",
     "output_type": "stream",
     "text": [
      "/n/home02/pbb/.conda/envs/Halo/lib/python3.8/site-packages/geopandas/io/file.py:299: FutureWarning: pandas.Int64Index is deprecated and will be removed from pandas in a future version. Use pandas.Index with the appropriate dtype instead.\n",
      "  pd.Int64Index,\n",
      "/n/home02/pbb/.conda/envs/Halo/lib/python3.8/site-packages/geopandas/io/file.py:299: FutureWarning: pandas.Int64Index is deprecated and will be removed from pandas in a future version. Use pandas.Index with the appropriate dtype instead.\n",
      "  pd.Int64Index,\n"
     ]
    },
    {
     "name": "stdout",
     "output_type": "stream",
     "text": [
      "Saved SelenkaySite06_PointCloud_WGS84UTM37S_000010_Height.shp. \n",
      "\n",
      "Saved SelenkaySite06_PointCloud_WGS84UTM37S_000038_Height.shp. \n",
      "\n"
     ]
    },
    {
     "name": "stderr",
     "output_type": "stream",
     "text": [
      "/n/home02/pbb/.conda/envs/Halo/lib/python3.8/site-packages/geopandas/io/file.py:299: FutureWarning: pandas.Int64Index is deprecated and will be removed from pandas in a future version. Use pandas.Index with the appropriate dtype instead.\n",
      "  pd.Int64Index,\n",
      "/n/home02/pbb/.conda/envs/Halo/lib/python3.8/site-packages/geopandas/io/file.py:299: FutureWarning: pandas.Int64Index is deprecated and will be removed from pandas in a future version. Use pandas.Index with the appropriate dtype instead.\n",
      "  pd.Int64Index,\n"
     ]
    },
    {
     "name": "stdout",
     "output_type": "stream",
     "text": [
      "Saved SelenkaySite06_PointCloud_WGS84UTM37S_000031_Height.shp. \n",
      "\n",
      "Saved SelenkaySite06_PointCloud_WGS84UTM37S_000033_Height.shp. \n",
      "\n"
     ]
    },
    {
     "name": "stderr",
     "output_type": "stream",
     "text": [
      "/n/home02/pbb/.conda/envs/Halo/lib/python3.8/site-packages/geopandas/io/file.py:299: FutureWarning: pandas.Int64Index is deprecated and will be removed from pandas in a future version. Use pandas.Index with the appropriate dtype instead.\n",
      "  pd.Int64Index,\n",
      "/n/home02/pbb/.conda/envs/Halo/lib/python3.8/site-packages/geopandas/io/file.py:299: FutureWarning: pandas.Int64Index is deprecated and will be removed from pandas in a future version. Use pandas.Index with the appropriate dtype instead.\n",
      "  pd.Int64Index,\n"
     ]
    },
    {
     "name": "stdout",
     "output_type": "stream",
     "text": [
      "Saved SelenkaySite06_PointCloud_WGS84UTM37S_000017_Height.shp. \n",
      "\n",
      "Saved SelenkaySite06_PointCloud_WGS84UTM37S_000012_Height.shp. \n",
      "\n"
     ]
    },
    {
     "name": "stderr",
     "output_type": "stream",
     "text": [
      "/n/home02/pbb/.conda/envs/Halo/lib/python3.8/site-packages/geopandas/io/file.py:299: FutureWarning: pandas.Int64Index is deprecated and will be removed from pandas in a future version. Use pandas.Index with the appropriate dtype instead.\n",
      "  pd.Int64Index,\n",
      "/n/home02/pbb/.conda/envs/Halo/lib/python3.8/site-packages/geopandas/io/file.py:299: FutureWarning: pandas.Int64Index is deprecated and will be removed from pandas in a future version. Use pandas.Index with the appropriate dtype instead.\n",
      "  pd.Int64Index,\n"
     ]
    },
    {
     "name": "stdout",
     "output_type": "stream",
     "text": [
      "Saved SelenkaySite06_PointCloud_WGS84UTM37S_000007_Height.shp. \n",
      "\n",
      "Saved SelenkaySite06_PointCloud_WGS84UTM37S_000030_Height.shp. \n",
      "\n"
     ]
    },
    {
     "name": "stderr",
     "output_type": "stream",
     "text": [
      "/n/home02/pbb/.conda/envs/Halo/lib/python3.8/site-packages/geopandas/io/file.py:299: FutureWarning: pandas.Int64Index is deprecated and will be removed from pandas in a future version. Use pandas.Index with the appropriate dtype instead.\n",
      "  pd.Int64Index,\n",
      "/n/home02/pbb/.conda/envs/Halo/lib/python3.8/site-packages/geopandas/io/file.py:299: FutureWarning: pandas.Int64Index is deprecated and will be removed from pandas in a future version. Use pandas.Index with the appropriate dtype instead.\n",
      "  pd.Int64Index,\n"
     ]
    },
    {
     "name": "stdout",
     "output_type": "stream",
     "text": [
      "Saved SelenkaySite06_PointCloud_WGS84UTM37S_000004_Height.shp. \n",
      "\n",
      "Saved SelenkaySite06_PointCloud_WGS84UTM37S_000032_Height.shp. \n",
      "\n"
     ]
    },
    {
     "name": "stderr",
     "output_type": "stream",
     "text": [
      "/n/home02/pbb/.conda/envs/Halo/lib/python3.8/site-packages/geopandas/io/file.py:299: FutureWarning: pandas.Int64Index is deprecated and will be removed from pandas in a future version. Use pandas.Index with the appropriate dtype instead.\n",
      "  pd.Int64Index,\n",
      "/n/home02/pbb/.conda/envs/Halo/lib/python3.8/site-packages/geopandas/io/file.py:299: FutureWarning: pandas.Int64Index is deprecated and will be removed from pandas in a future version. Use pandas.Index with the appropriate dtype instead.\n",
      "  pd.Int64Index,\n"
     ]
    },
    {
     "name": "stdout",
     "output_type": "stream",
     "text": [
      "Saved SelenkaySite06_PointCloud_WGS84UTM37S_000021_Height.shp. \n",
      "\n",
      "Saved SelenkaySite06_PointCloud_WGS84UTM37S_000044_Height.shp. \n",
      "\n"
     ]
    },
    {
     "name": "stderr",
     "output_type": "stream",
     "text": [
      "/n/home02/pbb/.conda/envs/Halo/lib/python3.8/site-packages/geopandas/io/file.py:299: FutureWarning: pandas.Int64Index is deprecated and will be removed from pandas in a future version. Use pandas.Index with the appropriate dtype instead.\n",
      "  pd.Int64Index,\n",
      "/n/home02/pbb/.conda/envs/Halo/lib/python3.8/site-packages/geopandas/io/file.py:299: FutureWarning: pandas.Int64Index is deprecated and will be removed from pandas in a future version. Use pandas.Index with the appropriate dtype instead.\n",
      "  pd.Int64Index,\n"
     ]
    },
    {
     "name": "stdout",
     "output_type": "stream",
     "text": [
      "Saved SelenkaySite06_PointCloud_WGS84UTM37S_000016_Height.shp. \n",
      "\n",
      "Saved SelenkaySite06_PointCloud_WGS84UTM37S_000006_Height.shp. \n",
      "\n"
     ]
    },
    {
     "name": "stderr",
     "output_type": "stream",
     "text": [
      "/n/home02/pbb/.conda/envs/Halo/lib/python3.8/site-packages/geopandas/io/file.py:299: FutureWarning: pandas.Int64Index is deprecated and will be removed from pandas in a future version. Use pandas.Index with the appropriate dtype instead.\n",
      "  pd.Int64Index,\n",
      "/n/home02/pbb/.conda/envs/Halo/lib/python3.8/site-packages/geopandas/io/file.py:299: FutureWarning: pandas.Int64Index is deprecated and will be removed from pandas in a future version. Use pandas.Index with the appropriate dtype instead.\n",
      "  pd.Int64Index,\n"
     ]
    },
    {
     "name": "stdout",
     "output_type": "stream",
     "text": [
      "Saved SelenkaySite06_PointCloud_WGS84UTM37S_000011_Height.shp. \n",
      "\n",
      "Saved SelenkaySite06_PointCloud_WGS84UTM37S_000034_Height.shp. \n",
      "\n",
      "Saved SelenkaySite06_PointCloud_WGS84UTM37S_000025_Height.shp. \n",
      "\n"
     ]
    },
    {
     "name": "stderr",
     "output_type": "stream",
     "text": [
      "/n/home02/pbb/.conda/envs/Halo/lib/python3.8/site-packages/geopandas/io/file.py:299: FutureWarning: pandas.Int64Index is deprecated and will be removed from pandas in a future version. Use pandas.Index with the appropriate dtype instead.\n",
      "  pd.Int64Index,\n"
     ]
    }
   ],
   "source": [
    "# Outside\n",
    "ld_outside = Path('/n/davies_lab/Users/pbb/SelenkayDiversity/data/in/Outside/PointClouds')\n",
    "od_outside = '/n/davies_lab/Users/pbb/SelenkayDiversity/data/in/Outside/lasbboxshp'\n",
    "\n",
    "for l in glob.glob(str(ld_outside) + '/**/*.las', recursive=True):\n",
    "    \n",
    "    lasBBoxShp(lasf=l, opath=od_outside, epsg=epsg)"
   ]
  },
  {
   "cell_type": "code",
   "execution_count": null,
   "id": "2d6c3470-fbf9-4d3a-bd20-7e240d5183c0",
   "metadata": {},
   "outputs": [],
   "source": []
  }
 ],
 "metadata": {
  "kernelspec": {
   "display_name": "Python [conda env:.conda-Halo]",
   "language": "python",
   "name": "conda-env-.conda-Halo-py"
  },
  "language_info": {
   "codemirror_mode": {
    "name": "ipython",
    "version": 3
   },
   "file_extension": ".py",
   "mimetype": "text/x-python",
   "name": "python",
   "nbconvert_exporter": "python",
   "pygments_lexer": "ipython3",
   "version": "3.8.6"
  }
 },
 "nbformat": 4,
 "nbformat_minor": 5
}
