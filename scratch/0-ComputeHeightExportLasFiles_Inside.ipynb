{
 "cells": [
  {
   "cell_type": "code",
   "execution_count": 1,
   "id": "51840a09-b0d8-470f-a235-d30d491fe5f3",
   "metadata": {},
   "outputs": [
    {
     "name": "stdout",
     "output_type": "stream",
     "text": [
      "The history saving thread hit an unexpected error (OperationalError('database is locked')).History will not be written to the database.\n"
     ]
    }
   ],
   "source": [
    "import sys\n",
    "sys.path.append('./bin/')\n",
    "from Functions import calcLasHeight\n",
    "from pathlib import Path\n",
    "import time"
   ]
  },
  {
   "cell_type": "code",
   "execution_count": null,
   "id": "d0a701c5-c992-4381-9785-d2a4a798df59",
   "metadata": {},
   "outputs": [],
   "source": [
    "# NOTE: Something is wrong with site 02 point cloud tiles,\n",
    "# They are flat...\n",
    "# try exporting again in tsolid\n",
    "# '/n/davies_lab/Lab/data/processed/Africa/Kenya/Selenkay/20220107_SelenkaySite02Inside/Terrasolid/PointCloudOutput',"
   ]
  },
  {
   "cell_type": "markdown",
   "id": "3c223805-051e-449d-859a-48d0c49e466b",
   "metadata": {},
   "source": [
    "### Process Inside Selenkay Tiles"
   ]
  },
  {
   "cell_type": "code",
   "execution_count": null,
   "id": "8a971a00-2ffa-433f-8c76-39447290def9",
   "metadata": {},
   "outputs": [
    {
     "name": "stdout",
     "output_type": "stream",
     "text": [
      "<class 'RuntimeError'> for SelenkaySite02_PointCloud_WGS84UTM37S_000019.las occurred: \n",
      "\n",
      "\tAll points collinear\n",
      "\n",
      "<class 'RuntimeError'> for SelenkaySite02_PointCloud_WGS84UTM37S_000012.las occurred: \n",
      "\n",
      "\tAll points collinear\n",
      "\n",
      "Processed SelenkaySite02_PointCloud_WGS84UTM37S_000008.las in 1639.58 s.\n",
      "\n",
      "<class 'RuntimeError'> for SelenkaySite02_PointCloud_WGS84UTM37S_000016.las occurred: \n",
      "\n",
      "\tAll points collinear\n",
      "\n",
      "Processed SelenkaySite02_PointCloud_WGS84UTM37S_000027.las in 10.53 s.\n",
      "\n",
      "Processed SelenkaySite02_PointCloud_WGS84UTM37S_000013.las in 1485.86 s.\n",
      "\n",
      "Processed SelenkaySite02_PointCloud_WGS84UTM37S_000018.las in 450.72 s.\n",
      "\n",
      "<class 'RuntimeError'> for SelenkaySite02_PointCloud_WGS84UTM37S_000023.las occurred: \n",
      "\n",
      "\tAll points collinear\n",
      "\n",
      "<class 'RuntimeError'> for SelenkaySite02_PointCloud_WGS84UTM37S_000024.las occurred: \n",
      "\n",
      "\tAll points collinear\n",
      "\n",
      "<class 'RuntimeError'> for SelenkaySite02_PointCloud_WGS84UTM37S_000009.las occurred: \n",
      "\n",
      "\tAll points collinear\n",
      "\n"
     ]
    }
   ],
   "source": [
    "for d in ['/n/davies_lab/Lab/data/processed/Africa/Kenya/Selenkay/20220107_SelenkaySite02Inside/Terrasolid/PointCloudOutput',\n",
    "          '/n/davies_lab/Lab/data/processed/Africa/Kenya/Selenkay/20220108_SelenkaySite03Inside/Terrasolid/PointCloudOutput',\n",
    "          '/n/davies_lab/Lab/data/processed/Africa/Kenya/Selenkay/20220108_SelenkaySite04Inside/Terrasolid/PointCloudOutput']:\n",
    "    \n",
    "    p = Path(d)\n",
    "    \n",
    "    outpath = '/n/davies_lab/Users/pbb/SelenkayDiversity/data/in/PointClouds_Inside'\n",
    "        \n",
    "    for l in p.glob('*.las'):\n",
    "        \n",
    "        lp = Path(l)\n",
    "\n",
    "        try:\n",
    "            \n",
    "            start = time.time()\n",
    "            \n",
    "            meta = calcLasHeight(inf=l,\n",
    "                                 opath=outpath)\n",
    "            \n",
    "            end = time.time()\n",
    "            tottime = end - start\n",
    "\n",
    "            print(f'Processed {lp.name} in {round(float(tottime), 2)} s.\\n')\n",
    "            \n",
    "        except Exception as e:\n",
    "            \n",
    "            print(f\"{e.__class__} for {lp.name}: \\n\")\n",
    "            print(f\"\\t{e}\\n\")\n",
    "            "
   ]
  },
  {
   "cell_type": "code",
   "execution_count": 9,
   "id": "999ed6a7-c98a-4612-a6b7-6bc4237d5fb5",
   "metadata": {},
   "outputs": [
    {
     "data": {
      "text/plain": [
       "PosixPath('/n/davies_lab/Lab/data/processed/Africa/Kenya/Selenkay/20220107_SelenkaySite02Inside/Terrasolid/PointCloudOutput/SelenkaySite02_PointCloud_WGS84UTM37S_000019.las')"
      ]
     },
     "execution_count": 9,
     "metadata": {},
     "output_type": "execute_result"
    }
   ],
   "source": [
    "l"
   ]
  }
 ],
 "metadata": {
  "kernelspec": {
   "display_name": "Python [conda env:.conda-Halo]",
   "language": "python",
   "name": "conda-env-.conda-Halo-py"
  },
  "language_info": {
   "codemirror_mode": {
    "name": "ipython",
    "version": 3
   },
   "file_extension": ".py",
   "mimetype": "text/x-python",
   "name": "python",
   "nbconvert_exporter": "python",
   "pygments_lexer": "ipython3",
   "version": "3.8.6"
  }
 },
 "nbformat": 4,
 "nbformat_minor": 5
}
