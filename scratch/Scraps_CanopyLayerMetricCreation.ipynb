{
 "cells": [
  {
   "cell_type": "markdown",
   "id": "c73fee6d-1bef-41e5-ab2a-5a033f8ddfe2",
   "metadata": {},
   "source": [
    "# SCRAPS of metric testing / creation"
   ]
  },
  {
   "cell_type": "markdown",
   "id": "748cbbc7-1016-4b2d-898a-6f691db411a8",
   "metadata": {},
   "source": [
    "### Scraps from writing canopyLayer function"
   ]
  },
  {
   "cell_type": "code",
   "execution_count": null,
   "id": "adc05b11-03e1-46b0-826a-02b3732fc570",
   "metadata": {},
   "outputs": [],
   "source": []
  },
  {
   "cell_type": "code",
   "execution_count": null,
   "id": "d1f04f66-5b9e-4790-a70d-3be98793f736",
   "metadata": {},
   "outputs": [],
   "source": [
    "# Get dict of heights of points for testing\n",
    "h = lc.height_dict[testkey]\n",
    "\n",
    "# Get height bins used in processing\n",
    "hbins = lc.cover_dict[testkey]['HeightBins']\n",
    "\n",
    "# sort them by height\n",
    "h = np.sort(h)\n",
    "\n",
    "# Group each point by height bin\n",
    "hgroups = np.digitize(h, bins=hbins)\n",
    "\n",
    "# Count the number of points in each bin\n",
    "# Note: minlength allows it to go to the full length of hbins, rather than stop at the max height of the points\n",
    "hcounts = np.bincount(hgroups, minlength=len(hbins))\n",
    "\n",
    "# Normalize the counts\n",
    "hcounts_norm = hcounts/np.sum(hcounts)"
   ]
  },
  {
   "cell_type": "code",
   "execution_count": null,
   "id": "dd631288-508b-4b2b-ae46-380820da44b8",
   "metadata": {},
   "outputs": [],
   "source": [
    "# If you want to:\n",
    "# Interpolate normalized counts to 5 cm increments so that you have more precise height measurements\n",
    "hbins = np.arange(0, np.max(hbins), 0.05)\n",
    "hcounts_norm = np.interp(x=hbins, xp=lc.cover_dict[testkey]['HeightBins'], fp=hcounts_norm)"
   ]
  },
  {
   "cell_type": "code",
   "execution_count": null,
   "id": "b131b3e5-db01-417e-8518-349fda96f75e",
   "metadata": {},
   "outputs": [],
   "source": [
    "from scipy.ndimage import gaussian_filter1d\n",
    "# Smooth point height distribution, and find peaks and troughs\\\n",
    "# Following the below article on stack exchange\n",
    "# https://stackoverflow.com/questions/62537703/how-to-find-inflection-point-in-python\n",
    "\n",
    "# smooth with gaussian filter (sigma = 2 m)\n",
    "smooth = gaussian_filter1d(hcounts_norm, 2)\n",
    "\n",
    "# compute first derivative\n",
    "smooth_d1 = np.gradient(smooth)\n",
    "\n",
    "# find inflection points\n",
    "\n",
    "# when it switches from positive to negative (a trough)\n",
    "idx_troughs = np.where(np.diff(np.sign(smooth_d1))>0)[0]\n",
    "\n",
    "# when it switches from negative to positive (a peak)\n",
    "idx_peaks = np.where(np.diff(np.sign(smooth_d1))<0)[0]\n",
    "\n",
    "# output height values of peaks and troughs\n",
    "troughs = hbins[idx_troughs]\n",
    "peaks = hbins[idx_peaks]"
   ]
  },
  {
   "cell_type": "code",
   "execution_count": null,
   "id": "58994974-45cd-4dad-b83c-2838b1205359",
   "metadata": {},
   "outputs": [],
   "source": [
    "fig, ax = plt.subplots()\n",
    "\n",
    "ax.plot(hcounts_norm, hbins, label='Frequency', lw=2, alpha=0.6)\n",
    "\n",
    "ax.plot(smooth, hbins, label='Smoothed', lw=2)\n",
    "\n",
    "for infl in troughs:\n",
    "    tline = ax.axhline(y=infl, color='b', label='Trough', alpha=0.6)\n",
    "    \n",
    "for infl in peaks:\n",
    "    pline = ax.axhline(y=infl, color='c', label='Peak', alpha=0.6)\n",
    "    \n",
    "ax.legend(handles=[tline, pline], loc='best')\n",
    "\n",
    "ax.set_xlabel('Normalized Frequency of Points')\n",
    "ax.set_ylabel('Height [m]')\n",
    "ax.set_xlim(0, np.max(hcounts_norm) + 0.03)"
   ]
  },
  {
   "cell_type": "code",
   "execution_count": null,
   "id": "eefe417f-311f-44b4-aa89-bb80f57d8655",
   "metadata": {},
   "outputs": [],
   "source": [
    "# Define the gap size as the maximum distance between peaks\n",
    "gapsize = np.max(np.diff(peaks))\n",
    "\n",
    "# Number of layers as number of peaks\n",
    "nlayers = len(peaks)"
   ]
  },
  {
   "cell_type": "code",
   "execution_count": null,
   "id": "8579c0b2-ceaa-4c54-98a9-c7f034143478",
   "metadata": {},
   "outputs": [],
   "source": []
  },
  {
   "cell_type": "code",
   "execution_count": 1,
   "id": "89857b13-3409-425b-a3a2-b4fbec7db1ac",
   "metadata": {},
   "outputs": [
    {
     "ename": "NameError",
     "evalue": "name 'lc' is not defined",
     "output_type": "error",
     "traceback": [
      "\u001b[0;31m---------------------------------------------------------------------------\u001b[0m",
      "\u001b[0;31mNameError\u001b[0m                                 Traceback (most recent call last)",
      "\u001b[0;32m/tmp/ipykernel_207401/1182391535.py\u001b[0m in \u001b[0;36m<cell line: 2>\u001b[0;34m()\u001b[0m\n\u001b[1;32m      1\u001b[0m \u001b[0;32mfrom\u001b[0m \u001b[0mscipy\u001b[0m\u001b[0;34m.\u001b[0m\u001b[0minterpolate\u001b[0m \u001b[0;32mimport\u001b[0m \u001b[0mUnivariateSpline\u001b[0m\u001b[0;34m,\u001b[0m \u001b[0mCubicSpline\u001b[0m\u001b[0;34m,\u001b[0m \u001b[0msplrep\u001b[0m\u001b[0;34m\u001b[0m\u001b[0;34m\u001b[0m\u001b[0m\n\u001b[0;32m----> 2\u001b[0;31m \u001b[0mhbins\u001b[0m \u001b[0;34m=\u001b[0m \u001b[0mlc\u001b[0m\u001b[0;34m.\u001b[0m\u001b[0mcover_dict\u001b[0m\u001b[0;34m[\u001b[0m\u001b[0;34m(\u001b[0m\u001b[0;36m375817.4\u001b[0m\u001b[0;34m,\u001b[0m \u001b[0;36m7299326.95\u001b[0m\u001b[0;34m)\u001b[0m\u001b[0;34m]\u001b[0m\u001b[0;34m[\u001b[0m\u001b[0;34m'HeightBins'\u001b[0m\u001b[0;34m]\u001b[0m\u001b[0;34m\u001b[0m\u001b[0;34m\u001b[0m\u001b[0m\n\u001b[0m\u001b[1;32m      3\u001b[0m \u001b[0mtc\u001b[0m \u001b[0;34m=\u001b[0m \u001b[0mlc\u001b[0m\u001b[0;34m.\u001b[0m\u001b[0mcover_dict\u001b[0m\u001b[0;34m[\u001b[0m\u001b[0;34m(\u001b[0m\u001b[0;36m375817.4\u001b[0m\u001b[0;34m,\u001b[0m \u001b[0;36m7299326.95\u001b[0m\u001b[0;34m)\u001b[0m\u001b[0;34m]\u001b[0m\u001b[0;34m\u001b[0m\u001b[0;34m\u001b[0m\u001b[0m\n\u001b[1;32m      4\u001b[0m \u001b[0;34m\u001b[0m\u001b[0m\n\u001b[1;32m      5\u001b[0m \u001b[0mtx_spline\u001b[0m \u001b[0;34m=\u001b[0m \u001b[0mUnivariateSpline\u001b[0m\u001b[0;34m(\u001b[0m\u001b[0mhbins\u001b[0m\u001b[0;34m,\u001b[0m \u001b[0mnp\u001b[0m\u001b[0;34m.\u001b[0m\u001b[0mabs\u001b[0m\u001b[0;34m(\u001b[0m\u001b[0mnp\u001b[0m\u001b[0;34m.\u001b[0m\u001b[0mgradient\u001b[0m\u001b[0;34m(\u001b[0m\u001b[0mtc\u001b[0m\u001b[0;34m[\u001b[0m\u001b[0;34m'CoverD2'\u001b[0m\u001b[0;34m]\u001b[0m\u001b[0;34m)\u001b[0m\u001b[0;34m)\u001b[0m\u001b[0;34m,\u001b[0m \u001b[0mk\u001b[0m\u001b[0;34m=\u001b[0m\u001b[0;36m5\u001b[0m\u001b[0;34m)\u001b[0m\u001b[0;34m\u001b[0m\u001b[0;34m\u001b[0m\u001b[0m\n",
      "\u001b[0;31mNameError\u001b[0m: name 'lc' is not defined"
     ]
    }
   ],
   "source": [
    "from scipy.interpolate import UnivariateSpline, CubicSpline, splrep\n",
    "hbins = lc.cover_dict[(375817.4, 7299326.95)]['HeightBins']\n",
    "tc = lc.cover_dict[(375817.4, 7299326.95)]\n",
    "\n",
    "tx_spline = UnivariateSpline(hbins, np.abs(np.gradient(tc['CoverD2'])), k=5)\n",
    "tx_cubic = CubicSpline(hbins, np.abs(np.gradient(tc['CoverD2'])))\n",
    "tx_cubic_1d = tx_cubic.derivative()\n",
    "tx_cubic_2d = tx_cubic_1d.derivative()\n",
    "\n",
    "hbins_interp = np.arange(0, np.max(hbins), 0.2)\n",
    "tx_interp = np.interp(x=hbins_interp, xp=hbins[1:], fp=tc['CoverD2byH'])\n",
    "tx_1d = np.gradient(tx_interp)\n",
    "tx_2d = np.gradient(tx_1d)\n",
    "infls = np.where(np.diff(np.sign(tx_1d)))[0]"
   ]
  },
  {
   "cell_type": "code",
   "execution_count": null,
   "id": "9d482d34-67f1-4f21-bd7c-f5b95689ff06",
   "metadata": {},
   "outputs": [],
   "source": [
    "fig, ax = plt.subplots()\n",
    "ax.plot(np.abs(np.gradient(tc['CoverD2'], edge_order=2)), hbins)\n",
    "ax.plot(np.abs(np.gradient(np.gradient(tc['CoverD2'], edge_order=2))), hbins)"
   ]
  },
  {
   "cell_type": "code",
   "execution_count": null,
   "id": "97151945-8df1-4de6-aeac-01e49d31fe79",
   "metadata": {},
   "outputs": [],
   "source": [
    "fig, ax = plt.subplots()\n",
    "ax.plot(tx_interp, hbins_interp)\n",
    "for i, infl in enumerate(hbins_interp[infls], 1):\n",
    "    ax.axhline(y=infl, color='k', label=f'Inflection Point {i}')"
   ]
  },
  {
   "cell_type": "code",
   "execution_count": null,
   "id": "6fde1162-5609-4150-81ad-2bc849ff9d94",
   "metadata": {},
   "outputs": [],
   "source": [
    "pai_interp = np.abs(np.gradient(tx_interp)) / np.gradient(hbins_interp)\n",
    "fig, ax = plt.subplots()\n",
    "ax.plot(pai_interp, hbins_interp)"
   ]
  },
  {
   "cell_type": "code",
   "execution_count": null,
   "id": "ef59dd8b-1c78-44cc-9bf0-4815a8153d92",
   "metadata": {},
   "outputs": [],
   "source": [
    "tx_cubic_1d.roots()"
   ]
  },
  {
   "cell_type": "code",
   "execution_count": null,
   "id": "8179690a-df41-417d-bdf9-c1b475b4a0df",
   "metadata": {},
   "outputs": [],
   "source": [
    "fig, ax = plt.subplots()\n",
    "ax.plot(tx_interp, hbins_interp, 'k', lw=3)\n",
    "ax.plot(tx_cubic(hbins_interp),hbins_interp, 'g', lw=3)\n",
    "for infl in tx_cubic_1d.roots():\n",
    "    ax.axhline(infl)"
   ]
  },
  {
   "cell_type": "code",
   "execution_count": null,
   "id": "43583373-c827-4b15-8622-8cc3259e31f2",
   "metadata": {},
   "outputs": [],
   "source": [
    "fig, ax = plt.subplots()\n",
    "ax.plot(np.abs(np.diff(tc['Npulses'])), hbins[1:])"
   ]
  }
 ],
 "metadata": {
  "kernelspec": {
   "display_name": "Python [conda env:.conda-Halo]",
   "language": "python",
   "name": "conda-env-.conda-Halo-py"
  },
  "language_info": {
   "codemirror_mode": {
    "name": "ipython",
    "version": 3
   },
   "file_extension": ".py",
   "mimetype": "text/x-python",
   "name": "python",
   "nbconvert_exporter": "python",
   "pygments_lexer": "ipython3",
   "version": "3.8.6"
  }
 },
 "nbformat": 4,
 "nbformat_minor": 5
}
