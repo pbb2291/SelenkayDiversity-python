{
 "cells": [
  {
   "cell_type": "code",
   "execution_count": 14,
   "id": "51840a09-b0d8-470f-a235-d30d491fe5f3",
   "metadata": {},
   "outputs": [],
   "source": [
    "import sys\n",
    "sys.path.append('/n/home02/pbb/scripts/halo-metadata-server/Selenkay/bin/')\n",
    "from Functions import calcLasHeight\n",
    "from pathlib import Path\n",
    "import time"
   ]
  },
  {
   "cell_type": "code",
   "execution_count": null,
   "id": "2e649bd8-8dac-48c8-88aa-a249b12a17de",
   "metadata": {},
   "outputs": [],
   "source": [
    "# 9/29/22 - PB\n",
    "# site5dir = '/n/davies_lab/Lab/data/processed/Africa/Kenya/Selenkay/20220106_SelenkaySite05Outside/Terrasolid/PointCloudOutput/'\n",
    "# Site 5 is done, Site 6 has flat clouds (runtime error collinear points)"
   ]
  },
  {
   "cell_type": "markdown",
   "id": "3c223805-051e-449d-859a-48d0c49e466b",
   "metadata": {},
   "source": [
    "### Process Outside Selenkay Tiles"
   ]
  },
  {
   "cell_type": "code",
   "execution_count": 18,
   "id": "8a971a00-2ffa-433f-8c76-39447290def9",
   "metadata": {},
   "outputs": [
    {
     "name": "stdout",
     "output_type": "stream",
     "text": [
      "<class 'RuntimeError'> for SelenkaySite06_PointCloud_WGS84UTM37S_000001.las: \n",
      "\n",
      "\tAll points collinear\n",
      "\n",
      "Processed SelenkaySite06_PointCloud_WGS84UTM37S_000004.las in 18.59 s.\n",
      "\n",
      "Processed SelenkaySite06_PointCloud_WGS84UTM37S_000030.las in 0.31 s.\n",
      "\n",
      "<class 'RuntimeError'> for SelenkaySite06_PointCloud_WGS84UTM37S_000031.las: \n",
      "\n",
      "\tAll points collinear\n",
      "\n",
      "<class 'RuntimeError'> for SelenkaySite06_PointCloud_WGS84UTM37S_000034.las: \n",
      "\n",
      "\tAll points collinear\n",
      "\n",
      "<class 'RuntimeError'> for SelenkaySite06_PointCloud_WGS84UTM37S_000002.las: \n",
      "\n",
      "\tAll points collinear\n",
      "\n",
      "Processed SelenkaySite06_PointCloud_WGS84UTM37S_000003.las in 527.25 s.\n",
      "\n",
      "Processed SelenkaySite06_PointCloud_WGS84UTM37S_000021.las in 740.32 s.\n",
      "\n",
      "Processed SelenkaySite06_PointCloud_WGS84UTM37S_000024.las in 128.09 s.\n",
      "\n",
      "<class 'RuntimeError'> for SelenkaySite06_PointCloud_WGS84UTM37S_000007.las: \n",
      "\n",
      "\tAll points collinear\n",
      "\n",
      "<class 'RuntimeError'> for SelenkaySite06_PointCloud_WGS84UTM37S_000029.las: \n",
      "\n",
      "\tAll points collinear\n",
      "\n",
      "<class 'RuntimeError'> for SelenkaySite06_PointCloud_WGS84UTM37S_000043.las: \n",
      "\n",
      "\tAll points collinear\n",
      "\n",
      "Processed SelenkaySite06_PointCloud_WGS84UTM37S_000044.las in 2.52 s.\n",
      "\n",
      "Processed SelenkaySite06_PointCloud_WGS84UTM37S_000012.las in 773.37 s.\n",
      "\n",
      "Processed SelenkaySite06_PointCloud_WGS84UTM37S_000006.las in 730.14 s.\n",
      "\n",
      "Processed SelenkaySite06_PointCloud_WGS84UTM37S_000017.las in 698.68 s.\n",
      "\n",
      "<class 'RuntimeError'> for SelenkaySite06_PointCloud_WGS84UTM37S_000033.las: \n",
      "\n",
      "\tAll points collinear\n",
      "\n",
      "Processed SelenkaySite06_PointCloud_WGS84UTM37S_000022.las in 688.66 s.\n",
      "\n",
      "<class 'RuntimeError'> for SelenkaySite06_PointCloud_WGS84UTM37S_000015.las: \n",
      "\n",
      "\tAll points collinear\n",
      "\n",
      "<class 'RuntimeError'> for SelenkaySite06_PointCloud_WGS84UTM37S_000038.las: \n",
      "\n",
      "\tAll points collinear\n",
      "\n",
      "<class 'RuntimeError'> for SelenkaySite06_PointCloud_WGS84UTM37S_000035.las: \n",
      "\n",
      "\tAll points collinear\n",
      "\n",
      "<class 'RuntimeError'> for SelenkaySite06_PointCloud_WGS84UTM37S_000008.las: \n",
      "\n",
      "\tAll points collinear\n",
      "\n",
      "Processed SelenkaySite06_PointCloud_WGS84UTM37S_000005.las in 8.83 s.\n",
      "\n",
      "Processed SelenkaySite06_PointCloud_WGS84UTM37S_000025.las in 102.21 s.\n",
      "\n",
      "<class 'RuntimeError'> for SelenkaySite06_PointCloud_WGS84UTM37S_000039.las: \n",
      "\n",
      "\tAll points collinear\n",
      "\n",
      "Processed SelenkaySite06_PointCloud_WGS84UTM37S_000011.las in 795.64 s.\n",
      "\n",
      "<class 'RuntimeError'> for SelenkaySite06_PointCloud_WGS84UTM37S_000019.las: \n",
      "\n",
      "\tAll points collinear\n",
      "\n",
      "Processed SelenkaySite06_PointCloud_WGS84UTM37S_000032.las in 873.66 s.\n",
      "\n",
      "Processed SelenkaySite06_PointCloud_WGS84UTM37S_000026.las in 1.93 s.\n",
      "\n",
      "Processed SelenkaySite06_PointCloud_WGS84UTM37S_000028.las in 79.8 s.\n",
      "\n",
      "Processed SelenkaySite06_PointCloud_WGS84UTM37S_000020.las in 297.82 s.\n",
      "\n",
      "<class 'RuntimeError'> for SelenkaySite06_PointCloud_WGS84UTM37S_000016.las: \n",
      "\n",
      "\tAll points collinear\n",
      "\n",
      "<class 'RuntimeError'> for SelenkaySite06_PointCloud_WGS84UTM37S_000040.las: \n",
      "\n",
      "\tAll points collinear\n",
      "\n",
      "Processed SelenkaySite06_PointCloud_WGS84UTM37S_000042.las in 39.31 s.\n",
      "\n",
      "Processed SelenkaySite06_PointCloud_WGS84UTM37S_000010.las in 948.89 s.\n",
      "\n",
      "Processed SelenkaySite06_PointCloud_WGS84UTM37S_000018.las in 747.93 s.\n",
      "\n",
      "<class 'RuntimeError'> for SelenkaySite06_PointCloud_WGS84UTM37S_000014.las: \n",
      "\n",
      "\tAll points collinear\n",
      "\n"
     ]
    }
   ],
   "source": [
    "for d in ['/n/davies_lab/Lab/data/processed/Africa/Kenya/Selenkay/20220109_SelenkaySite06Outside/Terrasolid/PointCloudOutput/']:\n",
    "    \n",
    "    p = Path(d)\n",
    "    \n",
    "    outpath = '/n/davies_lab/Users/pbb/SelenkayDiversity/data/in/PointClouds_Outside'\n",
    "        \n",
    "    for l in p.glob('*.las'):\n",
    "        \n",
    "        lp = Path(l)\n",
    "\n",
    "        try:\n",
    "            \n",
    "            start = time.time()\n",
    "            \n",
    "            meta = calcLasHeight(inf=l,\n",
    "                                 opath=outpath)\n",
    "            \n",
    "            end = time.time()\n",
    "            tottime = end - start\n",
    "\n",
    "            print(f'Processed {lp.name} in {round(float(tottime), 2)} s.\\n')\n",
    "            \n",
    "        except Exception as e:\n",
    "            \n",
    "            print(f\"{e.__class__} for {lp.name}: \\n\")\n",
    "            print(f\"\\t{e}\\n\")\n",
    "        "
   ]
  },
  {
   "cell_type": "code",
   "execution_count": null,
   "id": "f9226044-2336-43b9-b89f-2cdf94f4aa4c",
   "metadata": {},
   "outputs": [],
   "source": [
    "# Test it\n",
    "# start = time.time()\n",
    "# infile = './data/in/SelenkaySite05_PointCloud_WGS84UTM37S_000002.las'\n",
    "# outpath = '/n/davies_lab/Users/pbb/SelenkayDiversity/data/in/PointClouds_Outside'\n",
    "# meta = calcLasHeight(inf=infile, opath=outpath)\n",
    "# end = time.time()\n",
    "# print(f'Took {end - start} s.\\n')\n",
    "# Works great!"
   ]
  },
  {
   "cell_type": "code",
   "execution_count": 17,
   "id": "fd39794a-9c3e-4259-b884-f9126844a98d",
   "metadata": {},
   "outputs": [
    {
     "data": {
      "text/plain": [
       "PosixPath('/n/davies_lab/Lab/data/processed/Africa/Kenya/Selenkay/20220109_SelenkaySite06Outside/Terrasolid/PointCloudOutput/SelenkaySite06_PointCloud_WGS84UTM37S_000001.las')"
      ]
     },
     "execution_count": 17,
     "metadata": {},
     "output_type": "execute_result"
    }
   ],
   "source": []
  },
  {
   "cell_type": "code",
   "execution_count": null,
   "id": "af193fcf-313a-4f7e-aeea-b3470fcec70d",
   "metadata": {},
   "outputs": [],
   "source": []
  }
 ],
 "metadata": {
  "kernelspec": {
   "display_name": "Python [conda env:.conda-Halo]",
   "language": "python",
   "name": "conda-env-.conda-Halo-py"
  },
  "language_info": {
   "codemirror_mode": {
    "name": "ipython",
    "version": 3
   },
   "file_extension": ".py",
   "mimetype": "text/x-python",
   "name": "python",
   "nbconvert_exporter": "python",
   "pygments_lexer": "ipython3",
   "version": "3.8.6"
  }
 },
 "nbformat": 4,
 "nbformat_minor": 5
}
