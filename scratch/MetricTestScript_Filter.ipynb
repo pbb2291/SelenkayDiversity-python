{
 "cells": [
  {
   "cell_type": "markdown",
   "id": "57fa630e-6615-4ee7-9205-cddf06b0783b",
   "metadata": {},
   "source": [
    "## Lidar Metric Test Script\n",
    "*For testing out new metrics to add to Functions.py.* \n",
    "<p>PB 10/03/2022</p>\n",
    "\n",
    "### Plan for Processing\n",
    "\n",
    "0. Compute Height for all las tiles (preprocessing)\n",
    "    <p>\n",
    "0. Make las tile boundaries as shapefiles (for quality checking)\n",
    "    <p>\n",
    "1. Clip Point Clouds to shapefiles\n",
    "    - Load corresponding cloud\n",
    "    - Clip buffer points\n",
    "    - Clip and save new point clouds (one set for each shapefile)\n",
    "    <p>\n",
    "3. Compute metrics\n",
    "    - Grid metrics: \n",
    "        - open each cloud, grid them, compute stats based on the grid cell\n",
    "        - compute and save the aggregated (whole plot) metrics as a csv and shapefile (%grass, tree, or shrub, etc.)\n",
    "        - save the gridded metrics (FHP per cell, etc.) as a netcdf for visualization \n",
    "    - Whole Plot metrics: \n",
    "        - open each cloud, compute stats based on all points in plot\n",
    "        - save as a csv and shapefile.\n",
    "    "
   ]
  },
  {
   "cell_type": "code",
   "execution_count": 1,
   "id": "91bfcae5-5c7c-4917-a66c-8a4f9426b9b4",
   "metadata": {},
   "outputs": [],
   "source": [
    "# Import Dependencies\n",
    "import sys\n",
    "sys.path.append('/n/home02/pbb/scripts/halo-metadata-server/Selenkay/bin/')\n",
    "from Functions import calccover, calcPercentileHeights, calcLasHeight_Filter\n",
    "from Classes import Cloud\n",
    "import geopandas as gpd\n",
    "import pandas as pd\n",
    "import numpy as np\n",
    "import concurrent.futures\n",
    "from pathlib import Path\n",
    "import laspy\n",
    "import time\n",
    "import matplotlib.pyplot as plt\n",
    "\n",
    "\n",
    "# # # USER INPUTS\n",
    "\n",
    "# Path to a shapefile (.shp) of polygon features matching the las files\n",
    "# NOTE: This should be the same input shapefile as in 1-ClipLasWithPolygons.ipynb\n",
    "# shpf = Path('./data/in/test/testtreeshp/BuffCamp100m_010m_CrownPolygons_3msmooth_fenceremoved_10cmAreaShrubsRemoved.shp')\n",
    "\n",
    "# Input directory of clipped las files to compute metrics with.\n",
    "# NOTE: This should be the same as the 'od' directory from 1-ClipLasWithPolygons.ipynb\n",
    "ld = Path('./data/in/test/testtreelas/')\n",
    "\n",
    "# outdirectory for metric output files\n",
    "od_metrics = Path('./data/out/test/metrics/')\n",
    "\n",
    "# epsg of the shapefile and the las files, as a string\n",
    "# Kruger is 32736 (WGS84 UTM 36S)\n",
    "# Mpala is 32637 (WGS84 UTM 37N)\n",
    "epsg='32637'\n",
    "\n",
    "# feature id column - unique ID for each feature in the shapefile\n",
    "# NOTE: Should match the file names of the las files in 'ld' directory.\n",
    "featureIDcol = 'treeID'\n",
    "\n",
    "# Max height of voxel stacks \n",
    "# NOTE: Set this to be just above max height of your trees in meters.\n",
    "stackheight=15\n",
    "\n",
    "# Horizontal Res of Grid (XY pixel size)\n",
    "xysize=1\n",
    "\n",
    "# Vertical step size for metrics\n",
    "# NOTE: This defines the vertical bin size in meters (how \"thick\" each voxel is).\n",
    "metricstep = 0.25\n",
    "\n",
    "# Ground threshold (i.e. below this height treat points as ground) in meters\n",
    "groundthreshold = 0.05\n",
    "\n",
    "# height col\n",
    "heightcol = 'HeightAboveGround'\n",
    "\n",
    "# # # END USER INPUTS"
   ]
  },
  {
   "cell_type": "code",
   "execution_count": 2,
   "id": "9d6c96e9-9465-48fb-8956-aac533956a2c",
   "metadata": {},
   "outputs": [],
   "source": [
    "# # Use site 5 and transects 7 and 8 for testing\n",
    "# lasd = Path('/n/davies_lab/Users/pbb/SelenkayDiversity/data/in/PointClouds_Outside')\n",
    "\n",
    "# # shapefile directories\n",
    "# shpd = Path('/n/home02/pbb/scripts/halo-metadata-server/Selenkay/data/in/BoundaryShapefiles/SelenkaySpotPolygons_IncreasingRadius')\n",
    "\n",
    "# # make input shapefile names\n",
    "# radiuses = [10, 20, 30, 50, 80, 130]\n",
    "\n",
    "# shpfs = []\n",
    "# for r in radiuses:\n",
    "#     shpfs.append(f'{str(shpd)}/SelenkaySpotPolygons_{r}mRadius.shp')"
   ]
  },
  {
   "cell_type": "markdown",
   "id": "8b42751f-a0f0-4a04-aaf3-2f3382d0090e",
   "metadata": {},
   "source": [
    "### Grid Metrics"
   ]
  },
  {
   "cell_type": "code",
   "execution_count": 3,
   "id": "d0a8682e-e23f-44d4-8f03-375b30f927e7",
   "metadata": {},
   "outputs": [
    {
     "name": "stdout",
     "output_type": "stream",
     "text": [
      "X\n",
      "Y\n",
      "Z\n",
      "intensity\n",
      "return_number\n",
      "number_of_returns\n",
      "scan_direction_flag\n",
      "edge_of_flight_line\n",
      "classification\n",
      "synthetic\n",
      "key_point\n",
      "withheld\n",
      "scan_angle_rank\n",
      "user_data\n",
      "point_source_id\n",
      "gps_time\n",
      "red\n",
      "green\n",
      "blue\n",
      "HeightAboveGround\n"
     ]
    }
   ],
   "source": [
    "# Get las file\n",
    "lf = [l for l in ld.glob('*.las')][0]\n",
    "\n",
    "# Preprocess (just for the test file)\n",
    "meta = calcLasHeight_Filter(inf=lf,\n",
    "                     opath='./data/in/test/testtreelas/',\n",
    "                     buffer=0.001,\n",
    "                     radius=0.2)\n",
    "\n",
    "newname = lf.name.split('.')[0] + '_Filter_Height.las'\n",
    "\n",
    "lf_new = f'{lf.parent}/{newname}'\n",
    "\n",
    "# Read the new file in laspy\n",
    "l = laspy.read(lf_new)\n",
    "\n",
    "# Print out the dimension names\n",
    "for n in l.header.point_format.dimension_names:\n",
    "    print(n)"
   ]
  },
  {
   "cell_type": "code",
   "execution_count": 4,
   "id": "1d1c8486-4ba8-4bb2-b03f-6b84af87f43d",
   "metadata": {},
   "outputs": [],
   "source": [
    "# Wrapper function for using parallel processing and calccover function \n",
    "# Notice that is calls lc as the first argument\n",
    "# need to write it this way in order to use concurrent futures parallel processing below\n",
    "def calccover_parallel(index, calculatecover=True):\n",
    "\n",
    "    # make a True/False array \n",
    "    # for all points within the current grid cell\n",
    "    idx_bool = lc.grid_dict['idx_points'] == lc.grid_dict['idx_cells'][index]\n",
    "    \n",
    "    if calculatecover:\n",
    "        \n",
    "        try:\n",
    "            \n",
    "            # Calculate Cover - treating anything [-5 cm - 0 cm] as a ground hit\n",
    "            cover = calccover(points=lc.las.points[idx_bool],\n",
    "                              step=lc.vsize,\n",
    "                              groundthres=groundthreshold)\n",
    "            \n",
    "        except Exception as e:\n",
    "            \n",
    "            print(f\"{e.__class__} for {lc.lasf}: \\n\")\n",
    "            print(f\"\\t{e}\\n\")\n",
    "    \n",
    "    # Calculate Percentile Metrics of Height\n",
    "    perc_dict= {0:[],\n",
    "                25:[],\n",
    "                50:[],\n",
    "                75:[],\n",
    "                98:[],\n",
    "                100:[],\n",
    "                'mean':[],\n",
    "                'std':[]}\n",
    "    \n",
    "    # Get Heights for given cell\n",
    "    heights = lc.las.points[heightcol][idx_bool]\n",
    "\n",
    "    perc_dict[0].append(np.quantile(heights, [0]).flat[0])\n",
    "    perc_dict[25].append(np.quantile(heights, [0.25]).flat[0])\n",
    "    perc_dict[50].append(np.quantile(heights, [0.5]).flat[0])\n",
    "    perc_dict[75].append(np.quantile(heights, [0.75]).flat[0])\n",
    "    perc_dict[98].append(np.quantile(heights, [0.98]).flat[0])\n",
    "    perc_dict[100].append(np.quantile(heights, [1.0]).flat[0])\n",
    "    perc_dict['mean'].append(np.mean(heights).flat[0])\n",
    "    perc_dict['std'].append(np.std(heights).flat[0])\n",
    "\n",
    "    if calculatecover:\n",
    "        # Return cover dict, percentile dict, and height list (for quick recalculation of anything later)\n",
    "        return cover, perc_dict, heights\n",
    "    else:\n",
    "        return perc_dict, heights"
   ]
  },
  {
   "cell_type": "code",
   "execution_count": 5,
   "id": "1b774280-ba23-4ba5-a3c0-a5a1631756de",
   "metadata": {},
   "outputs": [
    {
     "name": "stdout",
     "output_type": "stream",
     "text": [
      "Loaded tree1054 cloud, time elapsed: 0.004212856292724609\n",
      "\n"
     ]
    }
   ],
   "source": [
    "### STEP 1: Load in Cloud \n",
    "startproj = time.time()\n",
    "\n",
    "# Make a las cloud class, and grid it\n",
    "lc = Cloud(lasf=lf_new,\n",
    "           gridsize=xysize,\n",
    "           vsize=metricstep,\n",
    "           heightcol='HeightAboveGround',\n",
    "           classcol='classification',\n",
    "           maxh=stackheight)\n",
    "\n",
    "# get project string for saving below\n",
    "projstr = lc.lasf.split('/')[-1].split('_')[0]\n",
    "\n",
    "end = time.time()\n",
    "print(f'Loaded {projstr} cloud, time elapsed: {end - startproj}\\n')"
   ]
  },
  {
   "cell_type": "code",
   "execution_count": 6,
   "id": "04ed5444-1c50-49c1-b116-ee3f8e2ddacc",
   "metadata": {},
   "outputs": [
    {
     "name": "stdout",
     "output_type": "stream",
     "text": [
      "Grid created, time elapsed: 0.03172731399536133\n",
      "\n"
     ]
    }
   ],
   "source": [
    "### STEP 2: Make the grid\n",
    "start = time.time()\n",
    "\n",
    "lc.makegrid()\n",
    "\n",
    "end = time.time()\n",
    "print(f'Grid created, time elapsed: {end - start}\\n')"
   ]
  },
  {
   "cell_type": "code",
   "execution_count": 7,
   "id": "d4e6eef9-0556-461b-84f8-f9297b05a7f5",
   "metadata": {},
   "outputs": [
    {
     "name": "stdout",
     "output_type": "stream",
     "text": [
      "Metrics computed, time elapsed: 0.6904644966125488\n",
      "\n"
     ]
    }
   ],
   "source": [
    "### STEP 3: Compute Cover, FHP, and Percentiles Metrics Over the Cloud's Grid\n",
    "start = time.time()\n",
    "\n",
    "# initialize cover dictionary for output \n",
    "lc.cover_dict = {}\n",
    "lc.perc_dict = {}\n",
    "lc.height_dict = {}\n",
    "\n",
    "# set the cell indices to loop over in parallel\n",
    "indices = lc.grid_dict['idx_cells']\n",
    "\n",
    "# Use concurrent futures to compute cover over each cell in parallel\n",
    "with concurrent.futures.ProcessPoolExecutor(max_workers=None) as executor:\n",
    "    for cph, x, y in zip(executor.map(calccover_parallel, indices),\n",
    "                             lc.grid_dict['x_cells'],\n",
    "                             lc.grid_dict['y_cells']):\n",
    "\n",
    "        # Stick the cover, perc, and heights inside the metrics dictionary\n",
    "        # with x and y location as tuple keys\n",
    "        lc.cover_dict[(x, y)] = cph[0]\n",
    "        lc.perc_dict[(x, y)] = cph[1]\n",
    "        lc.height_dict[(x, y)] = np.round(cph[2], decimals=3)\n",
    "\n",
    "end = time.time()\n",
    "print(f'Metrics computed, time elapsed: {end - start}\\n')"
   ]
  },
  {
   "cell_type": "markdown",
   "id": "59335d58-6534-457a-8515-6abd4cf9b6b2",
   "metadata": {},
   "source": [
    "### Aggregate Grid Metrics"
   ]
  },
  {
   "cell_type": "code",
   "execution_count": 8,
   "id": "dac7c381-fe08-4875-91f9-aadebe1544b0",
   "metadata": {},
   "outputs": [],
   "source": [
    "# Get x and y keys for plotting\n",
    "X = [k[0] for k in lc.cover_dict.keys()]\n",
    "Y = [k[1] for k in lc.cover_dict.keys()]"
   ]
  },
  {
   "cell_type": "code",
   "execution_count": 9,
   "id": "d00484f5-e789-4ee7-8e8d-8ab786d7106b",
   "metadata": {},
   "outputs": [],
   "source": [
    "# Function to compute aggregate pixel metrics based on height\n",
    "def heightAggMetrics(perc_dict):\n",
    "    \n",
    "    # Get max heights and std heights\n",
    "    maxH = np.array([v[98][0] for v in perc_dict.values()])\n",
    "    meanH = np.array([v['mean'][0] for v in perc_dict.values()])\n",
    "    stdH = np.array([v['std'][0] for v in perc_dict.values()])\n",
    "    \n",
    "    # initialize output stats dict\n",
    "    stats = {}\n",
    "    \n",
    "    # Fill Stat dict\n",
    "    \n",
    "    # Horizontal variation in max height\n",
    "    stats['max(maxH)'] = np.max(maxH)\n",
    "    stats['min(maxH)'] = np.min(maxH)\n",
    "    stats['range(maxH)'] = np.max(maxH) - np.min(maxH)\n",
    "    stats['mean(maxH)'] = np.mean(maxH)\n",
    "    stats['std(maxH)'] = np.std(maxH)\n",
    "    stats['cv(maxH)'] = np.std(maxH) / np.mean(maxH)\n",
    "    stats['median(maxH)'] = np.median(maxH)\n",
    "    stats['iqr(maxH)'] = np.percentile(maxH, q=75) - np.percentile(maxH, q=50)\n",
    "    \n",
    "    # Stats of vertical deviation in point heights\n",
    "    stats['mean(sdH)'] = np.mean(stdH)\n",
    "    stats['sd(sdH)'] = np.std(stdH)\n",
    "    stats['mean(cvH)'] = np.mean(stdH/meanH)\n",
    "    stats['sd(cvH)'] = np.std(stdH/meanH)\n",
    "    \n",
    "    # Vegetation proportional cover and other stats\n",
    "    # using veg. classes based on thresholds of max heights of pixels\n",
    "    \n",
    "    ground_idx = (maxH <= groundthreshold)\n",
    "    grass_idx = ((maxH > groundthreshold) & (maxH <= 0.5))\n",
    "    shrub_idx = ((maxH > 0.5) & (maxH <= 3))\n",
    "    tree_idx = (maxH > 3)\n",
    "    woody_idx = (maxH > 1)\n",
    "    \n",
    "    stats['cover_ground_maxH'] = np.sum(ground_idx) / np.size(maxH)\n",
    "    stats['cover_grass_maxH'] = np.sum(grass_idx) / np.size(maxH)\n",
    "    stats['cover_shrub_maxH'] = np.sum(shrub_idx) / np.size(maxH)\n",
    "    stats['cover_tree_maxH'] = np.sum(tree_idx) / np.size(maxH)\n",
    "    stats['cover_woody_maxH'] = np.sum( woody_idx ) / np.size(maxH)\n",
    "    \n",
    "    # Point cloud height stats (Rappaport et al., 2018)\n",
    "    # Grass\n",
    "    stats['mean(sdH)_grass'] = np.mean(stdH[grass_idx])\n",
    "    stats['sd(sdH)_grass'] = np.std(stdH[grass_idx])\n",
    "    stats['mean(cvH)_grass'] = np.mean(stdH[grass_idx]/meanH[grass_idx])\n",
    "    stats['sd(cvH)_grass'] = np.std(stdH[grass_idx]/meanH[grass_idx])\n",
    "    \n",
    "    # Shrub\n",
    "    stats['mean(sdH)_shrub'] = np.mean(stdH[shrub_idx])\n",
    "    stats['sd(sdH)_shrub'] = np.std(stdH[shrub_idx])\n",
    "    stats['mean(cvH)_shrub'] = np.mean(stdH[shrub_idx]/meanH[shrub_idx])\n",
    "    stats['sd(cvH)_shrub'] = np.std(stdH[shrub_idx]/meanH[shrub_idx])\n",
    "    \n",
    "    # Tree\n",
    "    stats['mean(sdH)_tree'] = np.mean(stdH[tree_idx])\n",
    "    stats['sd(sdH)_tree'] = np.std(stdH[tree_idx])\n",
    "    stats['mean(cvH)_tree'] = np.mean(stdH[tree_idx]/meanH[tree_idx])\n",
    "    stats['sd(cvH)_tree'] = np.std(stdH[tree_idx]/meanH[tree_idx])\n",
    "    \n",
    "    # Woody\n",
    "    stats['mean(sdH)_woody'] = np.mean(stdH[woody_idx])\n",
    "    stats['sd(sdH)_woody'] = np.std(stdH[woody_idx])\n",
    "    stats['mean(cvH)_woody'] = np.mean(stdH[woody_idx]/meanH[woody_idx])\n",
    "    stats['sd(cvH)_woody'] = np.std(stdH[woody_idx]/meanH[woody_idx])\n",
    "    \n",
    "    # Round everything to 3 decimal points\n",
    "    for k in stats.keys():\n",
    "        stats[k] = np.round(stats[k], 3)\n",
    "    \n",
    "    return stats"
   ]
  },
  {
   "cell_type": "code",
   "execution_count": 10,
   "id": "85d3011b-7972-4f51-8594-88300910ca95",
   "metadata": {},
   "outputs": [
    {
     "data": {
      "text/plain": [
       "{'max(maxH)': 13.928,\n",
       " 'min(maxH)': -0.02,\n",
       " 'range(maxH)': 13.948,\n",
       " 'mean(maxH)': 10.754,\n",
       " 'std(maxH)': 3.186,\n",
       " 'cv(maxH)': 0.296,\n",
       " 'median(maxH)': 11.606,\n",
       " 'iqr(maxH)': 1.413,\n",
       " 'mean(sdH)': 4.115,\n",
       " 'sd(sdH)': 1.249,\n",
       " 'mean(cvH)': 0.769,\n",
       " 'sd(cvH)': 0.539,\n",
       " 'cover_ground_maxH': 0.032,\n",
       " 'cover_grass_maxH': 0.016,\n",
       " 'cover_shrub_maxH': 0.008,\n",
       " 'cover_tree_maxH': 0.944,\n",
       " 'cover_woody_maxH': 0.944,\n",
       " 'mean(sdH)_grass': 0.053,\n",
       " 'sd(sdH)_grass': 0.053,\n",
       " 'mean(cvH)_grass': 0.165,\n",
       " 'sd(cvH)_grass': 0.165,\n",
       " 'mean(sdH)_shrub': 0.0,\n",
       " 'sd(sdH)_shrub': 0.0,\n",
       " 'mean(cvH)_shrub': 0.0,\n",
       " 'sd(cvH)_shrub': 0.0,\n",
       " 'mean(sdH)_tree': 4.36,\n",
       " 'sd(sdH)_tree': 0.767,\n",
       " 'mean(cvH)_tree': 0.769,\n",
       " 'sd(cvH)_tree': 0.358,\n",
       " 'mean(sdH)_woody': 4.36,\n",
       " 'sd(sdH)_woody': 0.767,\n",
       " 'mean(cvH)_woody': 0.769,\n",
       " 'sd(cvH)_woody': 0.358}"
      ]
     },
     "execution_count": 10,
     "metadata": {},
     "output_type": "execute_result"
    }
   ],
   "source": [
    "# it works!\n",
    "statsH = heightAggMetrics(lc.perc_dict)\n",
    "# statsH['cover_grass'] + statsH['cover_shrub'] + statsH['cover_tree'] + statsH['cover_ground']\n",
    "statsH"
   ]
  },
  {
   "cell_type": "code",
   "execution_count": 11,
   "id": "484ed714-185a-4179-91bc-1fbc96afa245",
   "metadata": {},
   "outputs": [],
   "source": [
    "# PIck a key for testing!\n",
    "# lc.cover_dict.keys()\n",
    "testkey = (375817.9, 7299329.2)"
   ]
  },
  {
   "cell_type": "code",
   "execution_count": 12,
   "id": "35ebd4d0-3d20-4212-b6a7-8494dc3e15b5",
   "metadata": {},
   "outputs": [
    {
     "data": {
      "text/plain": [
       "(375815.35000000003, 375827.45, 7299322.55, 7299336.850000001)"
      ]
     },
     "execution_count": 12,
     "metadata": {},
     "output_type": "execute_result"
    },
    {
     "data": {
      "image/png": "[encoded data removed]",
      "text/plain": [
       "<Figure size 432x288 with 1 Axes>"
      ]
     },
     "metadata": {
      "needs_background": "light"
     },
     "output_type": "display_data"
    },
    {
     "data": {
      "image/png": "[encoded data removed]",
      "text/plain": [
       "<Figure size 432x288 with 1 Axes>"
      ]
     },
     "metadata": {
      "needs_background": "light"
     },
     "output_type": "display_data"
    }
   ],
   "source": [
    "# Plot distribution for fun\n",
    "maxH = [v[98][0] for v in lc.perc_dict.values()]\n",
    "medH = [v[50][0] for v in lc.perc_dict.values()]\n",
    "\n",
    "# Plot\n",
    "fig, ax = plt.subplots()\n",
    "ax.scatter(X, Y, c=maxH, cmap='viridis')\n",
    "ax.axis('equal')\n",
    "\n",
    "# Plot\n",
    "# Blegh, median height looks stripy.\n",
    "fig, ax = plt.subplots()\n",
    "ax.scatter(X, Y, c=medH, cmap='viridis')\n",
    "ax.axis('equal')"
   ]
  },
  {
   "cell_type": "code",
   "execution_count": 13,
   "id": "8c81025d-5b98-44b3-89ab-eb30d01d0e38",
   "metadata": {},
   "outputs": [],
   "source": [
    "# Function to compute aggregate pixel metrics based on cover\n",
    "def coverAggMetrics(cover_dict):\n",
    "    \n",
    "    stats = {}\n",
    "    \n",
    "    covG = [v['CoverD2'][1] for v in cover_dict.values()]\n",
    "    \n",
    "    # Horizontal variation in cover\n",
    "    stats['max(coverG)'] = np.max(covG)\n",
    "    stats['min(coverG)'] = np.min(covG)\n",
    "    stats['range(coverG)'] = np.max(covG) - np.min(covG)\n",
    "    stats['mean(coverG)'] = np.mean(covG)\n",
    "    stats['std(coverG)'] = np.std(covG)\n",
    "    stats['cv(coverG)'] = np.std(covG) / np.mean(covG)\n",
    "    stats['median(coverG)'] = np.median(covG)\n",
    "    stats['iqr(coverG)'] = np.percentile(covG, q=75) - np.percentile(covG, q=50)\n",
    "    \n",
    "    # Round everything to 3 decimal points\n",
    "    for k in stats.keys():\n",
    "        stats[k] = np.round(stats[k], 3)\n",
    "    \n",
    "    return stats"
   ]
  },
  {
   "cell_type": "code",
   "execution_count": 14,
   "id": "847dffad-001b-438d-93b9-f7f1a9183569",
   "metadata": {},
   "outputs": [
    {
     "data": {
      "text/plain": [
       "{'max(coverG)': 1.0,\n",
       " 'min(coverG)': 0.0,\n",
       " 'range(coverG)': 1.0,\n",
       " 'mean(coverG)': 0.647,\n",
       " 'std(coverG)': 0.228,\n",
       " 'cv(coverG)': 0.353,\n",
       " 'median(coverG)': 0.631,\n",
       " 'iqr(coverG)': 0.234}"
      ]
     },
     "execution_count": 14,
     "metadata": {},
     "output_type": "execute_result"
    }
   ],
   "source": [
    "stats = coverAggMetrics(lc.cover_dict)\n",
    "stats"
   ]
  },
  {
   "cell_type": "code",
   "execution_count": 15,
   "id": "8c51d9b1-1c0b-4eb3-98c8-0da9f50f4e2a",
   "metadata": {},
   "outputs": [],
   "source": [
    "from scipy.ndimage import gaussian_filter1d\n",
    "\n",
    "# NOTE: If performing over a set of pixels, need to wrap the below in a loop\n",
    "def canopyLayerMetrics(h, hbins, plot=False, interpolate=False, smoothsigma=2):\n",
    "    # Where h is an array of point height values\n",
    "    # hbins is a list/array of height bin edges\n",
    "    # smoothsigma = postivie float - gives a smoothing parameter for gaussian smoothing in layer calculation (in meters)\n",
    "    # interpolate = True/False - whether to interpolate the count data to 5 cm bins, will produce more peaks/layers, but a more precise gapsize\n",
    "    # plot = True/False - whether to plot the results\n",
    "    \n",
    "#     # Get dict of heights of points for testing\n",
    "#     h = lc.height_dict[testkey]\n",
    "\n",
    "#     # Get height bins used in processing\n",
    "#     hbins = lc.cover_dict[testkey]['HeightBins']\n",
    "\n",
    "    # sort points by height\n",
    "    h = np.sort(h)\n",
    "\n",
    "    # Group each point by height bin\n",
    "    hgroups = np.digitize(h, bins=hbins)\n",
    "\n",
    "    # Count the number of points in each bin\n",
    "    # Note: minlength allows it to go to the full length of hbins, rather than stop at the max height of the points\n",
    "    hcounts = np.bincount(hgroups, minlength=len(hbins))\n",
    "\n",
    "    # Normalize the counts\n",
    "    hcounts_norm = hcounts/np.sum(hcounts)\n",
    "    \n",
    "    # If you want to,\n",
    "    # Interpolate normalized counts to 5 cm increments so that you have more precise height measurements\n",
    "    if interpolate:\n",
    "        hbins = np.arange(0, np.max(hbins), 0.05)\n",
    "        hcounts_norm = np.interp(x=hbins, xp=lc.cover_dict[testkey]['HeightBins'], fp=hcounts_norm)\n",
    "    \n",
    "    # Smooth point height distribution, and find peaks and troughs\\\n",
    "    # Following the below article on stack exchange\n",
    "    # https://stackoverflow.com/questions/62537703/how-to-find-inflection-point-in-python\n",
    "\n",
    "    # smooth with gaussian filter (sigma = 2 m)\n",
    "    smooth = gaussian_filter1d(hcounts_norm, smoothsigma)\n",
    "\n",
    "    # compute first derivative\n",
    "    smooth_d1 = np.gradient(smooth)\n",
    "\n",
    "    # find inflection points\n",
    "    # when it switches from positive to negative (a trough)\n",
    "    idx_troughs = np.where(np.diff(np.sign(smooth_d1))>0)[0]\n",
    "    # when it switches from negative to positive (a peak)\n",
    "    idx_peaks = np.where(np.diff(np.sign(smooth_d1))<0)[0]\n",
    "\n",
    "    # output height values of peaks and troughs\n",
    "    troughs = hbins[idx_troughs]\n",
    "    peaks = hbins[idx_peaks]\n",
    "    \n",
    "    # Get the gap size as the maximum distance between peaks\n",
    "    gapsize = np.max(np.diff(peaks))\n",
    "\n",
    "    # Number of layers as number of peaks\n",
    "    nlayers = len(peaks)\n",
    "    \n",
    "    # height location of peak with largest frequency of points\n",
    "    maxpeakh = peaks[np.argmax(smooth[idx_peaks])]\n",
    "    \n",
    "    # computing the PtoH ratio (Davies 2020, Asner 2014)\n",
    "    perc99 = np.percentile(h, 99)\n",
    "    ptoh = maxpeakh/perc99\n",
    "    ptoh = ptoh.round(3)\n",
    "    \n",
    "    # Complexity Score (Davies 2020)\n",
    "    # proportion of bins with points in them vs without\n",
    "    # could be insensitive to striping\n",
    "    cscore = np.sum(hcounts>0)/len(hcounts)\n",
    "    cscore = cscore.round(3)\n",
    "    \n",
    "    # Vertical Distribution Ratio (Goetz 2007)\n",
    "    VDR = (np.max(h) - np.median(h)) / np.max(h)\n",
    "    VDR = np.round(VDR, 3)\n",
    "    \n",
    "    # Foliage Height Diversity \n",
    "    # (Bergen 2009 and many others using PAI profile - this is using normalized point counts)\n",
    "    FHD = -1*np.sum(hcounts_norm*np.log(hcounts_norm, where=hcounts_norm>0))\n",
    "    FHD = FHD.round(3)\n",
    "    \n",
    "    if plot:\n",
    "        \n",
    "        fig, ax = plt.subplots()\n",
    "        ax.plot(hcounts_norm, hbins, label='Raw', lw=2, alpha=0.6)\n",
    "        ax.plot(smooth, hbins, label='Smoothed', lw=2)\n",
    "        # for infl in troughs:\n",
    "        #     tline = ax.axhline(y=infl, color='b', label='Trough', alpha=0.6)\n",
    "        for infl in peaks:\n",
    "            pline = ax.axhline(y=infl, color='c', label='Peak', alpha=0.6)\n",
    "        # ax.legend(handles=[tline, pline], loc='best')\n",
    "        ax.legend(loc='best')\n",
    "        ax.set_xlabel('Normalized Frequency of Points')\n",
    "        ax.set_ylabel('Height [m]')\n",
    "        ax.set_xlim(-0.01, np.max(hcounts_norm) + 0.03)\n",
    "        ax.set_ylim(0, np.max(hbins) + 0.3)\n",
    "        \n",
    "        return gapsize, nlayers, maxpeakh, ptoh, cscore, FHD, VDR, peaks, troughs, fig, ax\n",
    "    \n",
    "    else:\n",
    "        \n",
    "        return gapsize, nlayers, maxpeakh, ptoh, cscore, FHD, VDR, peaks, troughs"
   ]
  },
  {
   "cell_type": "code",
   "execution_count": 16,
   "id": "4577e818-9abd-4c0c-960b-8b23bbd0e66b",
   "metadata": {},
   "outputs": [
    {
     "name": "stdout",
     "output_type": "stream",
     "text": [
      "Gap Size: 11.25 m\n",
      "Nlayers: 3\n",
      "Height of max peak: 11.5 m\n",
      "PtoH Ratio: 0.835\n",
      "Complexity Score 0.403\n",
      "Foliage Height Diversity: 2.939\n",
      "Vertical Distribution Ratio: 0.20000000298023224\n"
     ]
    },
    {
     "data": {
      "image/png": "[encoded data removed]",
      "text/plain": [
       "<Figure size 432x288 with 1 Axes>"
      ]
     },
     "metadata": {
      "needs_background": "light"
     },
     "output_type": "display_data"
    }
   ],
   "source": [
    "gapsize, nlayers, maxpeakh, ptoh, cscore, FHD, VDR, peaks, troughs, fig, ax = canopyLayerMetrics(h=lc.height_dict[testkey],\n",
    "                                                                                                 hbins=lc.cover_dict[testkey]['HeightBins'],\n",
    "                                                                                                 plot=True,\n",
    "                                                                                                 smoothsigma=2)\n",
    "\n",
    "print(f'Gap Size: {gapsize} m\\nNlayers: {nlayers}\\nHeight of max peak: {maxpeakh} m\\nPtoH Ratio: {ptoh}\\nComplexity Score {cscore}\\nFoliage Height Diversity: {FHD}\\nVertical Distribution Ratio: {VDR}')"
   ]
  },
  {
   "cell_type": "code",
   "execution_count": null,
   "id": "8e3ba4fc-1941-442c-bd3b-1ad1184513d4",
   "metadata": {},
   "outputs": [],
   "source": []
  }
 ],
 "metadata": {
  "kernelspec": {
   "display_name": "Python [conda env:.conda-Halo]",
   "language": "python",
   "name": "conda-env-.conda-Halo-py"
  },
  "language_info": {
   "codemirror_mode": {
    "name": "ipython",
    "version": 3
   },
   "file_extension": ".py",
   "mimetype": "text/x-python",
   "name": "python",
   "nbconvert_exporter": "python",
   "pygments_lexer": "ipython3",
   "version": "3.8.6"
  }
 },
 "nbformat": 4,
 "nbformat_minor": 5
}
