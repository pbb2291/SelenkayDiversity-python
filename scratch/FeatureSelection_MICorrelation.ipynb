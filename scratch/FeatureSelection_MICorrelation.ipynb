{
 "cells": [
  {
   "cell_type": "code",
   "execution_count": 9,
   "id": "9b4c71df-ea13-4cdd-81f7-9ed67c8c1fc8",
   "metadata": {},
   "outputs": [
    {
     "data": {
      "text/html": [
       "<div>\n",
       "<style scoped>\n",
       "    .dataframe tbody tr th:only-of-type {\n",
       "        vertical-align: middle;\n",
       "    }\n",
       "\n",
       "    .dataframe tbody tr th {\n",
       "        vertical-align: top;\n",
       "    }\n",
       "\n",
       "    .dataframe thead th {\n",
       "        text-align: right;\n",
       "    }\n",
       "</style>\n",
       "<table border=\"1\" class=\"dataframe\">\n",
       "  <thead>\n",
       "    <tr style=\"text-align: right;\">\n",
       "      <th></th>\n",
       "      <th>Spot</th>\n",
       "      <th>Abundance</th>\n",
       "      <th>Richness</th>\n",
       "      <th>shannonH</th>\n",
       "      <th>Evenness</th>\n",
       "      <th>Simpson</th>\n",
       "      <th>Soil</th>\n",
       "      <th>Treatment</th>\n",
       "    </tr>\n",
       "  </thead>\n",
       "  <tbody>\n",
       "    <tr>\n",
       "      <th>0</th>\n",
       "      <td>1A</td>\n",
       "      <td>253</td>\n",
       "      <td>55</td>\n",
       "      <td>3.476387</td>\n",
       "      <td>0.867506</td>\n",
       "      <td>21.690613</td>\n",
       "      <td>Black</td>\n",
       "      <td>Inside</td>\n",
       "    </tr>\n",
       "    <tr>\n",
       "      <th>1</th>\n",
       "      <td>1B</td>\n",
       "      <td>152</td>\n",
       "      <td>40</td>\n",
       "      <td>3.404402</td>\n",
       "      <td>0.922882</td>\n",
       "      <td>23.867769</td>\n",
       "      <td>Black</td>\n",
       "      <td>Inside</td>\n",
       "    </tr>\n",
       "    <tr>\n",
       "      <th>2</th>\n",
       "      <td>1C</td>\n",
       "      <td>153</td>\n",
       "      <td>40</td>\n",
       "      <td>3.353972</td>\n",
       "      <td>0.909212</td>\n",
       "      <td>21.816403</td>\n",
       "      <td>Black</td>\n",
       "      <td>Inside</td>\n",
       "    </tr>\n",
       "    <tr>\n",
       "      <th>3</th>\n",
       "      <td>1D</td>\n",
       "      <td>207</td>\n",
       "      <td>50</td>\n",
       "      <td>3.618480</td>\n",
       "      <td>0.924964</td>\n",
       "      <td>26.433683</td>\n",
       "      <td>Black</td>\n",
       "      <td>Inside</td>\n",
       "    </tr>\n",
       "    <tr>\n",
       "      <th>4</th>\n",
       "      <td>1E</td>\n",
       "      <td>158</td>\n",
       "      <td>44</td>\n",
       "      <td>3.488376</td>\n",
       "      <td>0.921829</td>\n",
       "      <td>26.112971</td>\n",
       "      <td>Black</td>\n",
       "      <td>Inside</td>\n",
       "    </tr>\n",
       "  </tbody>\n",
       "</table>\n",
       "</div>"
      ],
      "text/plain": [
       "  Spot  Abundance  Richness  shannonH  Evenness    Simpson   Soil Treatment\n",
       "0   1A        253        55  3.476387  0.867506  21.690613  Black    Inside\n",
       "1   1B        152        40  3.404402  0.922882  23.867769  Black    Inside\n",
       "2   1C        153        40  3.353972  0.909212  21.816403  Black    Inside\n",
       "3   1D        207        50  3.618480  0.924964  26.433683  Black    Inside\n",
       "4   1E        158        44  3.488376  0.921829  26.112971  Black    Inside"
      ]
     },
     "execution_count": 9,
     "metadata": {},
     "output_type": "execute_result"
    }
   ],
   "source": [
    "import pandas as pd\n",
    "import numpy as np\n",
    "import matplotlib.pyplot as plt\n",
    "\n",
    "# Awesome package for non-linear correlation analysis\n",
    "# should be really useful for feature selection\n",
    "# https://www.sciencedirect.com/science/article/pii/S2352711021000315#fig2\n",
    "# https://github.com/ElsevierSoftwareX/SOFTX-D-20-00028\n",
    "from ennemi import pairwise_mi, pairwise_corr\n",
    "\n",
    "# Datadir for location of in/out vars\n",
    "datadir = '/n/home02/pbb/scripts/SelenkayDiversity/data/in'\n",
    "\n",
    "figd = '/n/home02/pbb/scripts/SelenkayDiversity/figs/mango'\n",
    "\n",
    "# toggle radius of inquiry\n",
    "radius = 30 \n",
    "\n",
    "# Load input data (cleaned in R)\n",
    "XY_scale = pd.read_csv(f'{datadir}/XY_scaled_{radius}mRadius.csv')\n",
    "XY = pd.read_csv(f'{datadir}/XY.csv')\n",
    "\n",
    "# Drop factor and character arrays from X df\n",
    "X = XY_scale.drop(['Unnamed: 0', 'Richness',\n",
    "                   'Abundance', 'Evenness', 'shannonH',\n",
    "                   'Spot', 'Soil_f',\n",
    "                   'Treatment', 'Treatment_f', 'Transect_f',\n",
    "                   'nlayers_plot_f',\n",
    "                   'Simpson'], axis=1)\n",
    "X = X.dropna(axis=1)\n",
    "\n",
    "# Make y df\n",
    "y = XY_scale.filter(['Spot', 'Abundance', 'Richness', 'shannonH', 'Evenness', 'Simpson', 'Soil', 'Treatment'])\n",
    "y.head()"
   ]
  },
  {
   "cell_type": "code",
   "execution_count": 10,
   "id": "f20b2cf9-5fd6-4e93-9ed4-5c4542a05941",
   "metadata": {},
   "outputs": [
    {
     "data": {
      "text/plain": [
       "146"
      ]
     },
     "execution_count": 10,
     "metadata": {},
     "output_type": "execute_result"
    }
   ],
   "source": [
    "# Filter column and make dataframe\n",
    "# cols = [c for c in X.columns if not (('iqr' in c) | ('max_' in c) | ('median' in c ) | ('Spot' in c))]\n",
    "# cols = [c for c in X.columns if not (('iqr' in c) | ('max_' in c) | ('Spot' in c) | ('Spot' in c)| ('Soil' in c))]\n",
    "# cols = [c for c in X.columns if (('mean' in c) | ('std' in c))]\n",
    "cols = [c for c in X.columns if not (('max_' in c) | ('Spot' in c))]\n",
    "# XYcorr = XYcorr.drop(columns = ['PAIsum_0m', 'PAIsum_0mto1p5m', 'PAImean_0mto1p5m'])\n",
    "XYcorr = pd.concat([X[cols],\n",
    "                    y[['Abundance', 'Richness',\n",
    "                       'shannonH', 'Simpson',\n",
    "                       'Evenness']]],\n",
    "                   axis=1)\n",
    "len(cols)\n"
   ]
  },
  {
   "cell_type": "code",
   "execution_count": 5,
   "id": "6d231ca4-9e28-41d9-977b-e617a91d9389",
   "metadata": {},
   "outputs": [],
   "source": [
    "# Compute MI correlation\n",
    "corr = pairwise_corr(XYcorr.drop('Soil', axis=1), drop_nan=True)"
   ]
  },
  {
   "cell_type": "code",
   "execution_count": 7,
   "id": "383ce15b-8e9d-4cc0-9ad0-9697296a1d96",
   "metadata": {},
   "outputs": [],
   "source": [
    "# Turn it back into a dataframe\n",
    "corr = pd.DataFrame(corr[['Abundance', 'Richness',\n",
    "                          'shannonH', 'Evenness',\n",
    "                          'Simpson']].iloc[0:-5])\n",
    "\n",
    "shancorr = pd.DataFrame(corr.shannonH.sort_values(ascending=False))\n",
    "\n",
    "simpcorr = pd.DataFrame(corr.Simpson.sort_values(ascending=False))\n",
    "\n",
    "richcorr = pd.DataFrame(corr.Richness.sort_values(ascending=False))\n",
    "\n",
    "abuncorr = pd.DataFrame(corr.Abundance.sort_values(ascending=False))"
   ]
  },
  {
   "cell_type": "code",
   "execution_count": 8,
   "id": "b4d27291-9317-45f7-a297-e447ec074a0a",
   "metadata": {},
   "outputs": [
    {
     "data": {
      "text/plain": [
       "(                      shannonH\n",
       " cv_CD_AboveG          0.721042\n",
       " sd_CD_AboveG          0.692585\n",
       " sd_sdH_vegtype_grass  0.666100\n",
       " sd_CD_G               0.652806\n",
       " sd_nlayers            0.650367\n",
       " mean_CD_AboveG        0.649473\n",
       " mean_cvH              0.645154\n",
       " sd_cscore             0.638323\n",
       " FHD_plot              0.632821\n",
       " Cover0p5m_plot        0.628313,\n",
       "                       Abundance\n",
       " horzcover_grass        0.592427\n",
       " X                      0.566541\n",
       " sd_cvH_vegtype_grass   0.540966\n",
       " FHD_plot               0.524338\n",
       " mean_sdH               0.522702\n",
       " sd_FHD                 0.485800\n",
       " sd_PAI_AboveG          0.483594\n",
       " mean_sdHgrasslayer     0.469406\n",
       " mean_maxHgrasslayer    0.459184\n",
       " mean_maxH              0.458546,\n",
       "                           Richness\n",
       " sd_sdHgrasslayer          0.706925\n",
       " sd_maxHgrasslayer         0.690158\n",
       " mean_cscore               0.637144\n",
       " sd_herbh                  0.627520\n",
       " mean_PAI_AboveG           0.599016\n",
       " sd_CD_AboveG              0.595896\n",
       " mean_CD_AboveGgrasslayer  0.584641\n",
       " stdH_plot                 0.577359\n",
       " iqr_maxHgrasslayer        0.573625\n",
       " mean_sdH                  0.572970,\n",
       "                            Simpson\n",
       " sd_CD_AboveGgrasslayer    0.631537\n",
       " sd_PAI_AboveG             0.622747\n",
       " mean_PAI_AboveG           0.594051\n",
       " sd_PAI_G                  0.565032\n",
       " sd_herbh                  0.548025\n",
       " sd_CD_AboveG              0.547382\n",
       " mean_CD_AboveGgrasslayer  0.546831\n",
       " sd_cvpeakh                0.540527\n",
       " horzcover_woody           0.528645\n",
       " sd_cvHgrasslayer          0.527669)"
      ]
     },
     "execution_count": 8,
     "metadata": {},
     "output_type": "execute_result"
    }
   ],
   "source": [
    "# Top 10 vars \n",
    "shancorr.iloc[0:10], abuncorr.iloc[0:10], richcorr.iloc[0:10], simpcorr.iloc[0:10]"
   ]
  },
  {
   "cell_type": "markdown",
   "id": "dedde5de-ea5a-426d-a11b-ec6baaf0a0f7",
   "metadata": {},
   "source": [
    "### Soil Type"
   ]
  },
  {
   "cell_type": "code",
   "execution_count": null,
   "id": "4164fe49-63a7-4084-87b1-ba90f2aed22c",
   "metadata": {},
   "outputs": [],
   "source": [
    "XYcorr_black = XYcorr.loc[XYcorr.Soil == 'Black']\n",
    "XYcorr_black = XYcorr_black.drop('Soil', axis=1)\n",
    "\n",
    "corr_black = pairwise_corr(XYcorr_black,\n",
    "                           drop_nan=True)"
   ]
  },
  {
   "cell_type": "code",
   "execution_count": 9,
   "id": "c1f812ca-3ccf-4204-b949-576e7f8fae28",
   "metadata": {},
   "outputs": [
    {
     "name": "stdout",
     "output_type": "stream",
     "text": [
      "sd_CD_AboveG      0.822093\n",
      "sd_nlayers        0.805459\n",
      "sd_cscore         0.764159\n",
      "mean_stdpeakh     0.761102\n",
      "mean_maxpeakh     0.748249\n",
      "sd_stdpeakh       0.745507\n",
      "sd_gapsize        0.739555\n",
      "sd_maxpeakh       0.732250\n",
      "Cover1p5m_plot    0.721031\n",
      "sd_maxH           0.712362\n",
      "mean_CD_AboveG    0.709129\n",
      "cv_nlayers        0.697994\n",
      "Name: shannonH, dtype: float64\n"
     ]
    }
   ],
   "source": [
    "# Top 10 vars \n",
    "# Shannon\n",
    "print(corr_black['shannonH'].sort_values(ascending=False)[:12])"
   ]
  },
  {
   "cell_type": "code",
   "execution_count": 10,
   "id": "92b85dbb-58aa-4b6a-ba0b-66bb509e31bd",
   "metadata": {},
   "outputs": [],
   "source": [
    "XYcorr_red = XYcorr.loc[XYcorr.Soil == 'Red']\n",
    "XYcorr_red= XYcorr_red.drop('Soil', axis=1)\n",
    "\n",
    "corr_red = pairwise_corr(XYcorr_red, drop_nan=True)"
   ]
  },
  {
   "cell_type": "code",
   "execution_count": 11,
   "id": "30894a57-307b-425b-a6e5-8d8e1389d9df",
   "metadata": {},
   "outputs": [
    {
     "name": "stdout",
     "output_type": "stream",
     "text": [
      "horzcover_grass           0.824078\n",
      "Richness                  0.759139\n",
      "mean_ptoh                 0.748097\n",
      "cv_CD_Ggrasslayer         0.746930\n",
      "sd_cvH_vegtype_woody      0.724775\n",
      "X                         0.699406\n",
      "mean_cvH_vegtype_woody    0.682244\n",
      "sd_PAI_G                  0.672571\n",
      "sd_PAI_AboveG             0.667695\n",
      "X50thPerc_plot            0.656653\n",
      "cv_maxHgrasslayer         0.653384\n",
      "sd_sdH_vegtype_grass      0.651516\n",
      "Name: shannonH, dtype: float64\n"
     ]
    }
   ],
   "source": [
    "# Top 10 vars \n",
    "# Shannon\n",
    "print(corr_red['shannonH'].sort_values(ascending=False)[:12])"
   ]
  },
  {
   "cell_type": "code",
   "execution_count": null,
   "id": "1031e721-c39b-4658-b1a8-8fd3d5df92cc",
   "metadata": {},
   "outputs": [],
   "source": []
  }
 ],
 "metadata": {
  "kernelspec": {
   "display_name": "Python [conda env:.conda-Halo]",
   "language": "python",
   "name": "conda-env-.conda-Halo-py"
  },
  "language_info": {
   "codemirror_mode": {
    "name": "ipython",
    "version": 3
   },
   "file_extension": ".py",
   "mimetype": "text/x-python",
   "name": "python",
   "nbconvert_exporter": "python",
   "pygments_lexer": "ipython3",
   "version": "3.8.6"
  }
 },
 "nbformat": 4,
 "nbformat_minor": 5
}
