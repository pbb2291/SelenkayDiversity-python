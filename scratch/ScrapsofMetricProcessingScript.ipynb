{
 "cells": [
  {
   "cell_type": "code",
   "execution_count": 1,
   "id": "d8ec50b9-1147-4f9f-81d0-5efb08a2d8f3",
   "metadata": {},
   "outputs": [],
   "source": [
    "# Scratch"
   ]
  },
  {
   "cell_type": "code",
   "execution_count": 1,
   "id": "22f36def-dd99-406e-8a11-c477de467b9b",
   "metadata": {},
   "outputs": [],
   "source": [
    "import sys\n",
    "sys.path.append('/n/home02/pbb/scripts/halo-metadata-server/Selenkay/bin/')\n",
    "from Functions import calccover, calcPercentileHeights, heightAggMetrics, canopyLayerMetrics\n",
    "from Classes import Cloud\n",
    "import geopandas as gpd\n",
    "import pandas as pd\n",
    "import numpy as np\n",
    "import concurrent.futures\n",
    "from pathlib import Path\n",
    "import laspy\n",
    "import time\n",
    "import matplotlib.pyplot as plt\n",
    "import seaborn as sns\n",
    "\n",
    "# # # USER INPUTS\n",
    "\n",
    "# Path to a shapefile (.shp) of polygon features matching the las files\n",
    "# NOTE: This should be the same input shapefile as in 1-ClipLasWithPolygons.ipynb\n",
    "# Path to directory of shapefiles (.shp) of polygon features to clip the point cloud with.\n",
    "shpf = Path('/n/home02/pbb/scripts/halo-metadata-server/Selenkay/data/in/BoundaryShapefiles/SelenkaySpotPolygons_IncreasingRadius/SelenkaySpotPolygons_30mRadius.shp')\n",
    "\n",
    "# Path to directory of shapefiles (.shp) of polygon features to clip the point cloud with.\n",
    "# shpd = Path('/n/home02/pbb/scripts/halo-metadata-server/Selenkay/data/in/BoundaryShapefiles/SelenkaySpotPolygons_IncreasingRadius')\n",
    "\n",
    "# Input directory of clipped las files to compute metrics with.\n",
    "# NOTE: This should be the same as the 'od' directory from 1-ClipLasWithPolygons.ipynb\n",
    "ld = Path('/n/davies_lab/Users/pbb/SelenkayDiversity/data/out/SpotPolys_Fibonacci_ClippedLas/30mRadius/')\n",
    "\n",
    "lasinputs = [l for l in ld.glob('*.las')]\n",
    "          \n",
    "# outdirectory for metric output files\n",
    "od_metrics = Path('/n/davies_lab/Users/pbb/SelenkayDiversity/data/out/Metrics/30mRadius/')\n",
    "                    \n",
    "# Outdirectory for rasters\n",
    "outdir_rast = Path('/n/davies_lab/Users/pbb/SelenkayDiversity/data/out/Rasters/30mRadius/')\n",
    "\n",
    "# EPSG code of the shapefile and the las files, as a string\n",
    "# Note: Shapefiles and las files must have the same EPSG code (same CRS)\n",
    "# Kruger is 32736 (WGS84 UTM 36S)\n",
    "# Mpala is 32637 (WGS84 UTM 37N)\n",
    "# Selenkay is 32737 (WGS84 UTM37S)\n",
    "epsg='32737'\n",
    "\n",
    "# feature id column - name of attribute column in shapefile which defines each polygon feature with a unique ID\n",
    "featureIDcol = 'Spot'\n",
    "\n",
    "# Max height of voxel stacks \n",
    "# NOTE: Set this to be just above max height of your trees in meters.\n",
    "stackheight=15\n",
    "\n",
    "# Horizontal Res of Grid (XY pixel size)\n",
    "xysize=0.5\n",
    "\n",
    "# Vertical step size for metrics\n",
    "# NOTE: This defines the vertical bin size in meters (how \"thick\" each voxel is).\n",
    "verticalres = 0.5\n",
    "\n",
    "# Ground threshold (i.e. below this height treat points as ground) in meters\n",
    "groundthreshold = 0.05\n",
    "\n",
    "# height col\n",
    "heightcol = 'HeightAboveGround'\n",
    "\n",
    "# # # END USER INPUTS"
   ]
  },
  {
   "cell_type": "code",
   "execution_count": 2,
   "id": "a3ca2847-5e62-4073-bdc7-80c07f3d3f44",
   "metadata": {},
   "outputs": [],
   "source": [
    "# JUST FOR TESTING 10/17/22\n",
    "lasf = '/n/davies_lab/Users/pbb/SelenkayDiversity/data/out/SpotPolys_Fibonacci_ClippedLas/30mRadius/Spot_8B.las'\n",
    "\n",
    "# Make a las cloud class, and grid it\n",
    "lc = Cloud(lasf=lasf,\n",
    "           gridsize=xysize,\n",
    "           vsize=verticalres,\n",
    "           heightcol=heightcol,\n",
    "           maxh=stackheight)\n",
    "\n",
    "# Calculate height statistics, and return an array of the point heights\n",
    "perc, heights = calcPercentileHeights(points=lc.las.points,\n",
    "                                      groundthres=groundthreshold,\n",
    "                                      returnHeights=True,\n",
    "                                      heightcol=heightcol)\n",
    "\n",
    "# Stick it all in a dictionary for output\n",
    "complexity = canopyLayerMetrics(h=heights,\n",
    "                                hmax=stackheight,\n",
    "                                step=lc.vsize,\n",
    "                                groundthres=groundthreshold,\n",
    "                                smoothsigma=1)\n",
    "# Calculate Cover\n",
    "cover = calccover(points=lc.las.points,\n",
    "                  step=verticalres,\n",
    "                  groundthres=groundthreshold,\n",
    "                  heightcol=heightcol)\n"
   ]
  },
  {
   "cell_type": "code",
   "execution_count": 14,
   "id": "ed33cd8c-761f-4cdf-a016-81771064a60a",
   "metadata": {},
   "outputs": [
    {
     "name": "stderr",
     "output_type": "stream",
     "text": [
      "/n/home02/pbb/scripts/halo-metadata-server/Selenkay/bin/Functions.py:839: RuntimeWarning: invalid value encountered in multiply\n",
      "  FHD = -1*np.sum(hcounts_norm*np.log(hcounts_norm, where=hcounts_norm>0))\n"
     ]
    }
   ],
   "source": [
    "lc.makegrid()\n",
    "\n",
    "# set the cell indices to loop over in parallel\n",
    "indices = lc.grid_dict['idx_cells']\n",
    "\n",
    "cover_dict = {}\n",
    "perc_dict = {}\n",
    "height_dict = {}\n",
    "complexity_dict = {}\n",
    "\n",
    "\n",
    "for index in indices:\n",
    "\n",
    "    # make a True/False array \n",
    "    # for all points within the current grid cell\n",
    "    idx_bool = lc.grid_dict['idx_points'] == lc.grid_dict['idx_cells'][index]\n",
    "    \n",
    "    # Calculate Cover\n",
    "    cover_dict[index] = calccover(points=lc.las.points[idx_bool],\n",
    "                                  step=verticalres,\n",
    "                                  groundthres=groundthreshold,\n",
    "                                  heightcol=heightcol)\n",
    "    \n",
    "    \n",
    "    # Calculate height statistics, and return an array of the point heights\n",
    "    perc_dict[index], height_dict[index] = calcPercentileHeights(points=lc.las.points[idx_bool],\n",
    "                                          groundthres=groundthreshold,\n",
    "                                          returnHeights=True,\n",
    "                                          heightcol=heightcol)\n",
    "    \n",
    "    # Compute complexity metrics\n",
    "    complexity_dict[index] = canopyLayerMetrics(h=heights,\n",
    "                                    hmax=stackheight,\n",
    "                                    step=lc.vsize,\n",
    "                                    groundthres=groundthreshold,\n",
    "                                    smoothsigma=1)\n",
    "\n",
    "#     try:\n",
    "\n",
    "#         # Calculate Cover\n",
    "#         cover_dict[index] = calccover(points=lc.las.points[idx_bool],\n",
    "#                                       step=verticalres,\n",
    "#                                       groundthres=groundthreshold,\n",
    "#                                       heightcol=heightcol)\n",
    "\n",
    "#     except Exception as e:\n",
    "\n",
    "#         print(f\"Cover Calc. - {e.__class__} for {lc.lasf}: \\n\")\n",
    "#         print(f\"\\t{e}\\n\")"
   ]
  },
  {
   "cell_type": "code",
   "execution_count": 18,
   "id": "dffc02ab-5972-4f04-a1c6-1dfe2bf4426d",
   "metadata": {},
   "outputs": [],
   "source": [
    "for k in height_dict.keys():\n",
    "    if not cover_dict[k]:\n",
    "        print(k)"
   ]
  },
  {
   "cell_type": "code",
   "execution_count": 19,
   "id": "0027b9de-fe6f-4ed8-8232-657e0ae99534",
   "metadata": {},
   "outputs": [
    {
     "data": {
      "text/plain": [
       "{'nlaysers': 1,\n",
       " 'gapsize': 0,\n",
       " 'maxpeakh': 0.42,\n",
       " 'ptoh': 0.124,\n",
       " 'cscore': 0.258,\n",
       " 'FHD': 0.807,\n",
       " 'VDR': 0.98,\n",
       " 'meanpeakh': 0.42,\n",
       " 'stdpeakh': 0,\n",
       " 'cvpeakh': 0}"
      ]
     },
     "execution_count": 19,
     "metadata": {},
     "output_type": "execute_result"
    }
   ],
   "source": [
    " complexity_dict[index]"
   ]
  },
  {
   "cell_type": "code",
   "execution_count": 22,
   "id": "dc6da9ce-ef00-40a2-bf3b-c100123556c1",
   "metadata": {},
   "outputs": [
    {
     "data": {
      "text/plain": [
       "array([], dtype=float32)"
      ]
     },
     "execution_count": 22,
     "metadata": {},
     "output_type": "execute_result"
    }
   ],
   "source": [
    "height_dict[index]"
   ]
  },
  {
   "cell_type": "code",
   "execution_count": 6,
   "id": "fbc0c075-7050-4bce-8eba-9768d0f1b1ac",
   "metadata": {},
   "outputs": [
    {
     "data": {
      "text/plain": [
       "(0.0, 15.3)"
      ]
     },
     "execution_count": 6,
     "metadata": {},
     "output_type": "execute_result"
    },
    {
     "data": {
      "image/png": "[encoded data removed]",
      "text/plain": [
       "<Figure size 432x288 with 1 Axes>"
      ]
     },
     "metadata": {
      "needs_background": "light"
     },
     "output_type": "display_data"
    }
   ],
   "source": [
    "# TESTING FOR Processing Metrics scripts\n",
    "from scipy.ndimage import gaussian_filter1d\n",
    "\n",
    "hmin=0\n",
    "hmax=15\n",
    "step=0.5\n",
    "groundthres=groundthreshold\n",
    "smoothsigma=1\n",
    "h = heights\n",
    "\n",
    "# Calc Cover for height bins\n",
    "nbins = ((hmax - hmin) / step) + 1\n",
    "hbins = np.linspace(hmin, hmax, int(nbins))\n",
    "\n",
    "# IMPORTANT: Using groundthres, you may want to account for errors in relative accuracy\n",
    "# EX: IF the rel. accuracy of ground is about 0.06 m (6 cm) between flightlines,\n",
    "# the lowest height bin could be set to 0.06 (instead of 0) to account for this.\n",
    "# so any hit below 0.06 m counts as ground.\n",
    "# NOTE: If you want to use everything, just set groundthres to 0\n",
    "if groundthres > 0:\n",
    "    # insert the groundthres into the array (right above 0)\n",
    "    heightbins = np.insert(hbins, 1, groundthres)\n",
    "    # heightbins[heightbins==0] = groundthres\n",
    "if groundthres < 0:\n",
    "    # insert the groundthres into the array (right below 0)\n",
    "    heightbins = np.insert(hbins, 0, groundthres)\n",
    "    # heightbins[heightbins==0] = groundthres\n",
    "\n",
    "# sort points by height\n",
    "h = np.sort(h)\n",
    "\n",
    "# Group each point by height bin\n",
    "hgroups = np.digitize(h, bins=hbins)\n",
    "\n",
    "# Count the number of points in each bin\n",
    "# Note: minlength allows it to go to the full length of hbins, rather than stop at the max height of the points\n",
    "hcounts = np.bincount(hgroups, minlength=len(hbins))\n",
    "\n",
    "# Normalize the counts\n",
    "hcounts_norm = hcounts/np.sum(hcounts)\n",
    "\n",
    "# Smooth point height distribution, and find peaks and troughs\\\n",
    "# Following the below article on stack exchange\n",
    "# https://stackoverflow.com/questions/62537703/how-to-find-inflection-point-in-python\n",
    "\n",
    "# smooth with gaussian filter (sigma = 2 m)\n",
    "smooth = gaussian_filter1d(hcounts_norm, smoothsigma)\n",
    "\n",
    "# compute first derivative\n",
    "smooth_d1 = np.gradient(smooth)\n",
    "\n",
    "        \n",
    "# Interpolate heights and derivative to 1 cm increments so that you have more precise inflection points\n",
    "hbins_interp= np.arange(0, np.max(hbins), 0.01)\n",
    "smooth_d1_interp = np.interp(x=hbins_interp, xp=hbins, fp=smooth_d1)\n",
    "\n",
    "# find inflection points\n",
    "# when it switches from positive to negative (a trough)\n",
    "idx_troughs = np.where(np.diff(np.sign(smooth_d1_interp))>0)[0]\n",
    "# when it switches from negative to positive (a peak)\n",
    "idx_peaks = np.where(np.diff(np.sign(smooth_d1_interp))<0)[0]\n",
    "\n",
    "# output height values of peaks and troughs\n",
    "troughs = hbins_interp[idx_troughs]\n",
    "peaks = hbins_interp[idx_peaks]\n",
    "# # find inflection points\n",
    "# # when it switches from positive to negative (a trough)\n",
    "# idx_troughs = np.where(np.diff(np.sign(smooth_d1))>0)[0]\n",
    "\n",
    "# # when it switches from negative to positive (a peak)\n",
    "# idx_peaks = np.where(np.diff(np.sign(smooth_d1))<0)[0]\n",
    "\n",
    "# # output height values of peaks and troughs\n",
    "# troughs = hbins[idx_troughs]\n",
    "# peaks = hbins[idx_peaks]\n",
    "\n",
    "# Number of layers as number of peaks\n",
    "nlayers = len(peaks)\n",
    "\n",
    "fig, ax = plt.subplots()\n",
    "ax.plot(hcounts_norm, hbins, label='Raw', lw=2, alpha=0.6)\n",
    "ax.plot(smooth, hbins, label='Smoothed', lw=2)\n",
    "# for infl in troughs:\n",
    "#     tline = ax.axhline(y=infl, color='b', label='Trough', alpha=0.6)\n",
    "for infl in peaks:\n",
    "    pline = ax.axhline(y=infl, color='c', label='Peak', alpha=0.6)\n",
    "# ax.legend(handles=[tline, pline], loc='best')\n",
    "ax.legend(loc='best')\n",
    "ax.set_xlabel('Normalized Frequency of Points')\n",
    "ax.set_ylabel('Height [m]')\n",
    "ax.set_xlim(-0.01, np.max(hcounts_norm) + 0.03)\n",
    "ax.set_ylim(0, np.max(hbins) + 0.3)"
   ]
  },
  {
   "cell_type": "code",
   "execution_count": 5,
   "id": "cf84ad47-74cd-4bb8-8d93-05d18b59a23f",
   "metadata": {},
   "outputs": [
    {
     "name": "stderr",
     "output_type": "stream",
     "text": [
      "/tmp/ipykernel_93710/222727284.py:1: RuntimeWarning: divide by zero encountered in double_scalars\n",
      "  cvpeakh = np.mean(peaks)/np.std(peaks)\n"
     ]
    }
   ],
   "source": [
    "cvpeakh = np.mean(peaks)/np.std(peaks)"
   ]
  },
  {
   "cell_type": "code",
   "execution_count": 5,
   "id": "a0d03786-414c-4ee1-b7e2-3b63f10e1c47",
   "metadata": {},
   "outputs": [
    {
     "data": {
      "text/plain": [
       "0.0"
      ]
     },
     "execution_count": 5,
     "metadata": {},
     "output_type": "execute_result"
    }
   ],
   "source": [
    "np.mean(peaks)"
   ]
  },
  {
   "cell_type": "code",
   "execution_count": 6,
   "id": "a4e2c8f8-5270-4323-abce-878e5f28bb46",
   "metadata": {},
   "outputs": [
    {
     "data": {
      "text/plain": [
       "0.0"
      ]
     },
     "execution_count": 6,
     "metadata": {},
     "output_type": "execute_result"
    }
   ],
   "source": [
    "np.std(peaks)"
   ]
  },
  {
   "cell_type": "code",
   "execution_count": 9,
   "id": "44ff634c-7613-48ea-bf17-e0aacbe28f9f",
   "metadata": {},
   "outputs": [
    {
     "data": {
      "text/plain": [
       "nan"
      ]
     },
     "execution_count": 9,
     "metadata": {},
     "output_type": "execute_result"
    }
   ],
   "source": [
    "cvpeakh"
   ]
  }
 ],
 "metadata": {
  "kernelspec": {
   "display_name": "Python [conda env:.conda-Halo]",
   "language": "python",
   "name": "conda-env-.conda-Halo-py"
  },
  "language_info": {
   "codemirror_mode": {
    "name": "ipython",
    "version": 3
   },
   "file_extension": ".py",
   "mimetype": "text/x-python",
   "name": "python",
   "nbconvert_exporter": "python",
   "pygments_lexer": "ipython3",
   "version": "3.8.6"
  }
 },
 "nbformat": 4,
 "nbformat_minor": 5
}
