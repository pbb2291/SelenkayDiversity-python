{
 "cells": [
  {
   "cell_type": "code",
   "execution_count": 5,
   "id": "72590d62-dd12-40a5-8b7c-9576435b03ac",
   "metadata": {},
   "outputs": [],
   "source": [
    "# Canopy Lauyer Function\n",
    "# Scratch file for testing out parameterization and spline fitting\n",
    "# 11/7/22\n",
    "# PB\n",
    "\n",
    "import laspy\n",
    "import pdal\n",
    "import json\n",
    "import geopandas as gpd\n",
    "import numpy as np\n",
    "from pathlib import Path\n",
    "from shapely.geometry import Polygon\n",
    "from scipy.ndimage import gaussian_filter1d\n",
    "from scipy.stats import gaussian_kde\n",
    "from scipy.signal import find_peaks, peak_widths\n",
    "from scipy.interpolate import interp1d\n",
    "from matplotlib import pyplot as plt\n",
    "import pickle"
   ]
  },
  {
   "cell_type": "code",
   "execution_count": 26,
   "id": "64298c3d-23f8-4785-8cb5-27855f7751e5",
   "metadata": {},
   "outputs": [],
   "source": [
    "# Testing whether working with the cover profile\n",
    "# is better\n",
    "\n",
    "# Input Data:\n",
    "\n",
    "# Radius of shapefile to use\n",
    "radius = 30\n",
    "\n",
    "# Set the pickle metrics to draw from\n",
    "metricdir = Path(f'/n/davies_lab/Users/pbb/SelenkayDiversity/data/out/Metrics/{radius}mRadius/')\n",
    "\n",
    "# Horizontal Grid size\n",
    "xysize = 0.5\n",
    "\n",
    "# Ground threshold\n",
    "groundthreshold = 0.05\n",
    "\n",
    "# Set CRS\n",
    "# Selenkay is 32737 (WGS84 UTM37S)\n",
    "epsg='32737'\n",
    "\n",
    "site = '3a'\n",
    "\n",
    "# Load Cover percentile dict\n",
    "with open(f'{metricdir}/{site}_{xysize}mgrid_covermetrics.obj', 'rb') as of:\n",
    "    cover = pickle.load(of)\n",
    "    \n",
    "with open(f'{metricdir}/{site}_{xysize}mgrid_heights.obj', 'rb') as of:\n",
    "    heights = pickle.load(of)\n",
    "    "
   ]
  },
  {
   "cell_type": "code",
   "execution_count": 27,
   "id": "ed4a168d-c93a-4127-aaf0-a04de89ff480",
   "metadata": {},
   "outputs": [],
   "source": [
    "c = cover[(313092.68, 9737807.49)]\n",
    "h = heights[(313092.68, 9737807.49)]"
   ]
  },
  {
   "cell_type": "code",
   "execution_count": 35,
   "id": "fd7e6709-3d38-46c2-924b-6177ec4c4e0d",
   "metadata": {},
   "outputs": [],
   "source": [
    "hbins = c['HeightBins'][:-1]\n",
    "\n",
    "hcounts_norm = c['CoverD2byH']\n",
    "\n",
    "# Interpolate heights and derivative to 1 cm increments so that you have more precise inflection points\n",
    "hbins_interp= np.arange(np.min(hbins), np.max(hbins), 0.01)\n",
    "\n",
    "# smooth with gaussian filter\n",
    "gauss1d = gaussian_filter1d(c['CoverD2byH'], 0.5)\n",
    "\n",
    "# interpolate with hbins_interp to make it more dense\n",
    "smooth = np.interp(x=hbins_interp, xp=hbins, fp=gauss1d)"
   ]
  },
  {
   "cell_type": "code",
   "execution_count": 29,
   "id": "997b6b2c-48e9-4764-b2b9-ebdacc799a5f",
   "metadata": {},
   "outputs": [],
   "source": [
    "# Find Peaks and troughs\n",
    "idx_peaks, meta = find_peaks(smooth)\n",
    "\n",
    "# Get the widths of the peak and identify the troughs using a relative heiht value\n",
    "# rel_height = 0.5 is the full width half max\n",
    "# rel_height = 1 is the bottom of the gaussian\n",
    "w, width_heights, left_ips, right_ips = peak_widths(smooth, idx_peaks, rel_height=1)\n",
    "\n",
    "# NOTE: convert peak and trough indices back to height values using the below function\n",
    "# copied exactly from: https://stackoverflow.com/questions/66464148/peak-widths-w-r-t-to-x-axis\n",
    "def index_to_xdata(xdata, indices):\n",
    "    \"interpolate the values from signal.peak_widths to xdata\"\n",
    "    ind = np.arange(len(xdata))\n",
    "    f = interp1d(ind,xdata)\n",
    "    return f(indices)\n",
    "\n",
    "widths = index_to_xdata(hbins_interp, w)\n",
    "left_ips = index_to_xdata(hbins_interp, left_ips)\n",
    "right_ips = index_to_xdata(hbins_interp, right_ips)\n",
    "\n",
    "troughs = np.append(left_ips, right_ips)\n",
    "peaks = hbins_interp[idx_peaks]\n",
    "\n",
    "# Number of layers as number of peaks\n",
    "nlayers = len(peaks)\n"
   ]
  },
  {
   "cell_type": "code",
   "execution_count": 30,
   "id": "f179c5e5-a23e-4486-8e10-fe33ce989972",
   "metadata": {},
   "outputs": [
    {
     "data": {
      "text/plain": [
       "(0.0, 14.8)"
      ]
     },
     "execution_count": 30,
     "metadata": {},
     "output_type": "execute_result"
    },
    {
     "data": {
      "image/png": "[encoded data removed]",
      "text/plain": [
       "<Figure size 432x288 with 1 Axes>"
      ]
     },
     "metadata": {
      "needs_background": "light"
     },
     "output_type": "display_data"
    }
   ],
   "source": [
    " fig, ax = plt.subplots()\n",
    "                \n",
    "pd = ax.plot(hcounts_norm, hbins, label='Point Density', lw=2, alpha=0.6)\n",
    "\n",
    "s = ax.plot(smooth, hbins_interp, lw=2)\n",
    "\n",
    "for infl in troughs:\n",
    "    tline = ax.axhline(y=infl, color='b', label='Trough', alpha=0.8)\n",
    "for infl in peaks:\n",
    "    pline = ax.axhline(y=infl, color='c', label='Peak', alpha=0.8)\n",
    "\n",
    "# ax.legend(handles=[s, pd, tline, pline], loc='best')\n",
    "# ax.legend(loc='best')\n",
    "ax.set_xlabel('Normalized Frequency')\n",
    "ax.set_ylabel('Height [m]')\n",
    "ax.set_xlim(-0.01, np.max(hcounts_norm) + 0.03)\n",
    "ax.set_ylim(0, np.max(hbins) + 0.3)\n"
   ]
  },
  {
   "cell_type": "code",
   "execution_count": 33,
   "id": "5f8208e1-fa6a-4b7c-8c3e-5a9d5939c095",
   "metadata": {},
   "outputs": [
    {
     "data": {
      "text/plain": [
       "({'nlayers': 1,\n",
       "  'gapsize': 0,\n",
       "  'maxpeakh': 2.5,\n",
       "  'ptoh': 0.9803921751955851,\n",
       "  'cscore': 0.12903225806451613,\n",
       "  'FHD': 1.1674772126808877,\n",
       "  'VDR': 0.2458823,\n",
       "  'VDRpeak': 0,\n",
       "  'meanpeakh': 2.5,\n",
       "  'stdpeakh': 0,\n",
       "  'cvpeakh': 0},\n",
       " <Figure size 432x288 with 1 Axes>,\n",
       " <AxesSubplot:xlabel='Normalized Frequency', ylabel='Height [m]'>)"
      ]
     },
     "execution_count": 33,
     "metadata": {},
     "output_type": "execute_result"
    },
    {
     "data": {
      "image/png": "[encoded data removed]",
      "text/plain": [
       "<Figure size 432x288 with 1 Axes>"
      ]
     },
     "metadata": {
      "needs_background": "light"
     },
     "output_type": "display_data"
    }
   ],
   "source": [
    "canopyLayerMetrics(h, hbins, plot=True, method='gauss1d', smoothsigma=0.5, rel_height=1)"
   ]
  },
  {
   "cell_type": "code",
   "execution_count": 44,
   "id": "7abdb582-19ab-41ae-9132-5274acf9065f",
   "metadata": {},
   "outputs": [],
   "source": [
    "def canopyLayerMetrics(h, hbins, plot=False, smoothsigma=2, method='gauss1d', rel_height=0.75, groundthreshold=0.05):\n",
    "    # Where h is an array of point height values\n",
    "    # hbins is a list/array of height bin edges\n",
    "    # smoothsigma = positive float - gives a smoothing parameter for gaussian smoothing in layer calculation (in meters)\n",
    "    # plot = True/False - whether to plot the results\n",
    "    # method = ['gauss1d'] with smoothsigma = 2 (default)\n",
    "    # method = ['kde'] with rule-of-thumb approximation of sigma\n",
    "    # relH_peakwidth = 0.75 - rel. height of peak to find the \"trough\" bottoms at\n",
    "        # rel_height = 0.5 is the full width half max\n",
    "        # rel_height = 1 is the bottom of the gaussian\n",
    "    \n",
    "    # If there are any heights in the array\n",
    "    # edited 10/26 - have to have at least 2 points above the ground to do complexity stats\n",
    "    # This means that a plot with only 1 point will have all metrics automatically set to 0 or nan\n",
    "    if np.sum(np.array(h) > 0) >= 2:\n",
    "\n",
    "        # sort points by height\n",
    "        h = np.sort(h)\n",
    "        \n",
    "        # Interpolate heights and derivative to 1 cm increments so that you have more precise inflection points\n",
    "        hbins_interp= np.arange(np.min(hbins), np.max(hbins), 0.01)\n",
    "        \n",
    "        # Group each point by height bin\n",
    "        hgroups = np.digitize(h, bins=hbins)\n",
    "\n",
    "        # Count the number of points in each bin\n",
    "        # Note: minlength allows it to go to the full length of hbins, rather than stop at the max height of the points\n",
    "        hcounts = np.bincount(hgroups, minlength=len(hbins))\n",
    "\n",
    "        # Normalize the counts\n",
    "        hcounts_norm = hcounts/np.sum(hcounts)\n",
    "        \n",
    "        # If using a gaussian kernel density estimate from the height array\n",
    "        if method == 'kde':\n",
    "\n",
    "            gausskde = gaussian_kde(h, bw_method='scott')\n",
    "            smooth = gausskde.pdf(hbins_interp)\n",
    "\n",
    "        # else, if using a smoothed version of point density by height\n",
    "        else:\n",
    "            \n",
    "            # smooth with gaussian filter\n",
    "            gauss1d = gaussian_filter1d(hcounts_norm, smoothsigma)\n",
    "            \n",
    "            # interpolate with hbins_interp to make it more dense\n",
    "            smooth = np.interp(x=hbins_interp, xp=hbins, fp=gauss1d)\n",
    "            \n",
    "        # Find Peaks and troughs\n",
    "        idx_peaks, meta = find_peaks(smooth)\n",
    "\n",
    "        # Get the widths of the peak and identify the troughs using a relative heiht value\n",
    "        # rel_height = 0.5 is the full width half max\n",
    "        # rel_height = 1 is the bottom of the gaussian\n",
    "        w, width_heights, l_ips, r_ips = peak_widths(smooth, idx_peaks, rel_height=rel_height)\n",
    "\n",
    "        # NOTE: convert peak and trough indices back to height values using the below function\n",
    "        # copied exactly from: https://stackoverflow.com/questions/66464148/peak-widths-w-r-t-to-x-axis\n",
    "        def index_to_xdata(xdata, indices):\n",
    "            \"interpolate the values from signal.peak_widths to xdata\"\n",
    "            ind = np.arange(len(xdata))\n",
    "            f = interp1d(ind,xdata)\n",
    "            return f(indices)\n",
    "\n",
    "        # get heights of troughs\n",
    "        widths = index_to_xdata(hbins_interp, w)\n",
    "        left_ips = index_to_xdata(hbins_interp, l_ips)\n",
    "        right_ips = index_to_xdata(hbins_interp, r_ips)\n",
    "        troughs = np.append(left_ips, right_ips)\n",
    "        \n",
    "        # get density of troughs for plotting\n",
    "        smooth_left_ips = index_to_xdata(smooth, l_ips)\n",
    "        smooth_right_ips = index_to_xdata(smooth, r_ips)\n",
    "        smooth_troughs = np.append(smooth_left_ips, smooth_right_ips)\n",
    "        \n",
    "        # Get heights of peaks\n",
    "        peaks = hbins_interp[idx_peaks]\n",
    "\n",
    "        # Number of layers as number of peaks\n",
    "        nlayers = len(peaks)\n",
    "\n",
    "        if nlayers > 1:\n",
    "\n",
    "            # height location of peak with largest frequency of points\n",
    "            # maxpeakh = peaks[np.argmax(smooth[idx_peaks])]\n",
    "            maxpeakh = np.nanmax(peaks)\n",
    "\n",
    "            # Get the gap size as the maximum distance between consecutive peaks\n",
    "            gapsize = np.max(np.diff(peaks))\n",
    "\n",
    "            # MEAN and STD peak HEIGHT\n",
    "            # made up by peter\n",
    "            meanpeakh = np.nanmean(peaks)\n",
    "            stdpeakh = np.nanstd(peaks)\n",
    "            cvpeakh = np.nanmean(peaks)/np.nanstd(peaks)\n",
    "\n",
    "            # Vertical Distribution Ratio (Goetz 2007) \n",
    "            # - experimental, computed from peaks instead of norm point distribution\n",
    "            VDRpeak = (np.max(peaks) - np.nanmedian(peaks)) / np.max(peaks)\n",
    "            \n",
    "            # get the top of the herbaceous layer from the troughs\n",
    "            # New addition 11/9/22\n",
    "            # The herbaceous height is the 2nd trough up from the bottom\n",
    "            # but it has to be higher than the groundthreshold\n",
    "            # otherwise, we set the herb height to be 0\n",
    "            # this means you can't detect a herbaceous layer lower than the groundthreshold (usallually 5 cm)\n",
    "            herbtroughs = troughs[troughs >= groundthreshold]\n",
    "            if herbtroughs.size:\n",
    "                herbh = np.sort(herbtroughs)[0]\n",
    "            else:\n",
    "                herbh = 0\n",
    "            \n",
    "        else:\n",
    "\n",
    "            # Edited 10/31/22 \n",
    "            # If there's only 1 layer, \n",
    "            # set the peaks to be the only peak height\n",
    "            if peaks.size:\n",
    "                maxpeakh = peaks[0]\n",
    "                meanpeakh = peaks[0]\n",
    "                \n",
    "                # New addition 11/9/22\n",
    "                # The herbaceous height is the 2nd trough up from the bottom\n",
    "                # but it has to be higher than the groundthreshold\n",
    "                # otherwise, we set the herb height to be 0\n",
    "                # this means you can't detect a herbaceous layer lower than the groundthreshold (usallually 5 cm)\n",
    "                herbtroughs = troughs[troughs >= groundthreshold]\n",
    "                if herbtroughs.size:\n",
    "                    herbh = np.sort(herbtroughs)[0]\n",
    "                else:\n",
    "                    herbh = 0\n",
    "                    \n",
    "            # Except if there is no peak to record\n",
    "            else:\n",
    "                maxpeakh = 0\n",
    "                meanpeakh = 0 \n",
    "                herbh = 0\n",
    "\n",
    "            # and variation metrics to 0\n",
    "            stdpeakh = 0\n",
    "            gapsize = 0\n",
    "            cvpeakh = 0\n",
    "            VDRpeak = 0\n",
    "        \n",
    "        # computing the PtoH ratio (Davies 2020, Asner 2014)\n",
    "        perc99 = np.nanpercentile(h, 99, method='median_unbiased')\n",
    "        ptoh = maxpeakh/perc99\n",
    "\n",
    "        # Complexity Score (Davies 2020)\n",
    "        # proportion of bins with points in them vs without\n",
    "        # could be insensitive to striping\n",
    "        cscore = np.sum(hcounts>0)/len(hcounts)\n",
    "\n",
    "        # Vertical Distribution Ratio (Goetz 2007)\n",
    "        VDR = (np.max(h) - np.median(h)) / np.max(h)\n",
    "        \n",
    "        # Foliage Height Diversity \n",
    "        # (Bergen 2009 and many others using PAI profile - this is using normalized point counts)\n",
    "        if np.sum(hcounts_norm>0) > 0:\n",
    "            FHD = -1*np.sum(hcounts_norm*np.log(hcounts_norm, where=hcounts_norm>0))\n",
    "        else:\n",
    "            FHD = 0\n",
    "\n",
    "        ### SAVE Outputs\n",
    "        complex_dict = {'nlayers':nlayers,\n",
    "                        'gapsize':gapsize,\n",
    "                        'maxpeakh':maxpeakh,\n",
    "                        'ptoh':ptoh,\n",
    "                        'cscore':cscore,\n",
    "                        'FHD':FHD,\n",
    "                        'VDR':VDR,\n",
    "                        'VDRpeak':VDRpeak,\n",
    "                        'meanpeakh':meanpeakh,\n",
    "                        'stdpeakh':stdpeakh,\n",
    "                        'cvpeakh':cvpeakh,\n",
    "                        'herbh':herbh\n",
    "                       }\n",
    "\n",
    "        if plot:\n",
    "\n",
    "            fig, ax = plt.subplots()\n",
    "                \n",
    "            ax.plot(hcounts_norm, hbins, label='Point Density', lw=5, c='k', alpha=0.6)\n",
    "                \n",
    "            ax.plot(smooth, hbins_interp, label=method, lw=3, c='c', alpha=0.9, linestyle='--')\n",
    "            \n",
    "            ax.axhline(y=herbh, color='olive', label=f'Herb. Height {np.round(herbh, 2)}m', alpha=0.8)\n",
    "                                    \n",
    "            ax.scatter(x=smooth[idx_peaks], y=hbins_interp[idx_peaks],\n",
    "                       c='b', label='Peaks', marker='x', linewidths=4)\n",
    "            \n",
    "            ax.scatter(x=smooth_troughs, y=troughs,\n",
    "                      c='r', label='Troughs', marker='x', linewidths=4)\n",
    "            \n",
    "            # for infl in troughs:\n",
    "            #     tline = ax.axhline(y=infl, color='b', label='Trough', alpha=0.8)\n",
    "            # for infl in peaks:\n",
    "            #     pline = ax.axhline(y=infl, color='c', label='Peak', alpha=0.8)\n",
    "            # ax.legend(handles=[tline, pline], loc='best')\n",
    "            \n",
    "            ax.legend(loc='best')\n",
    "            ax.set_xlabel('Normalized Frequency')\n",
    "            ax.set_ylabel('Height [m]')\n",
    "            ax.set_xlim(-0.01, np.max(hcounts_norm) + 0.03)\n",
    "            ax.set_ylim(0, np.percentile(hbins, 50) + 1)\n",
    "            ax.grid('on')\n",
    "\n",
    "            # don't return peaks, troughs\n",
    "            return complex_dict, fig, ax\n",
    "\n",
    "        else:\n",
    "\n",
    "            return complex_dict\n",
    "\n",
    "    # Else, if there were no heights in the array\n",
    "    # just return an array of 0s\n",
    "    else:\n",
    "\n",
    "        complex_dict = {'nlayers':0,\n",
    "                        'gapsize':0,\n",
    "                        'maxpeakh':0,\n",
    "                        'ptoh':0,\n",
    "                        'cscore':0,\n",
    "                        'FHD':0,\n",
    "                        'VDR':0,\n",
    "                        'VDRpeak':0,\n",
    "                        'meanpeakh':0,\n",
    "                        'stdpeakh':0,\n",
    "                        'cvpeakh':0,\n",
    "                        'herbh':0\n",
    "                       }\n",
    "\n",
    "        return complex_dict\n"
   ]
  },
  {
   "cell_type": "code",
   "execution_count": 59,
   "id": "a39c7b31-edf8-4d6f-b1f5-4d89f8212315",
   "metadata": {},
   "outputs": [],
   "source": [
    "# Complexity Function using cover\n",
    "# PB 11/23/22\n",
    "# NOTE: If performing over a set of pixels, need to wrap the below in a loop\n",
    "def canopyLayerMetrics_cover(cover_dict, h, plot=False, smoothsigma=0.5, method='gauss1d', rel_height=1):\n",
    "    # smoothsigma = positive float - gives a smoothing parameter for gaussian smoothing in layer calculation (in meters)\n",
    "    # plot = True/False - whether to plot the results\n",
    "    # method = ['gauss1d'] with smoothsigma = 2 (default)\n",
    "    # method = ['kde'] with rule-of-thumb approximation of sigma\n",
    "    # relH_peakwidth = 0.75 - rel. height of peak to find the \"trough\" bottoms at\n",
    "        # rel_height = 0.5 is the full width half max\n",
    "        # rel_height = 1 is the bottom of the gaussian\n",
    "        \n",
    "    hbins = c['HeightBins'][:-1]\n",
    "\n",
    "    hcounts_norm = c['CoverD2byH']\n",
    "    \n",
    "    if np.any(hcounts_norm >= 0):\n",
    "\n",
    "        # Interpolate heights and derivative to 1 cm increments so that you have more precise inflection points\n",
    "        hbins_interp= np.arange(np.min(hbins), np.max(hbins), 0.01)\n",
    "        \n",
    "        # If using a gaussian kernel density estimate from the height array\n",
    "        if method == 'kde':\n",
    "\n",
    "            gausskde = gaussian_kde(h, bw_method='scott')\n",
    "            smooth = gausskde.pdf(hbins_interp)\n",
    "\n",
    "        # else, if using a smoothed version of point density by height\n",
    "        else:\n",
    "            \n",
    "            # smooth with gaussian filter\n",
    "            gauss1d = gaussian_filter1d(hcounts_norm, smoothsigma)\n",
    "            \n",
    "            # interpolate with hbins_interp to make it more dense\n",
    "            smooth = np.interp(x=hbins_interp, xp=hbins, fp=gauss1d)\n",
    "            \n",
    "        # Find Peaks and troughs\n",
    "        idx_peaks, meta = find_peaks(smooth)\n",
    "\n",
    "        # Get the widths of the peak and identify the troughs using a relative heiht value\n",
    "        # rel_height = 0.5 is the full width half max\n",
    "        # rel_height = 1 is the bottom of the gaussian\n",
    "        w, width_heights, l_ips, r_ips = peak_widths(smooth, idx_peaks, rel_height=rel_height)\n",
    "\n",
    "        # NOTE: convert peak and trough indices back to height values using the below function\n",
    "        # copied exactly from: https://stackoverflow.com/questions/66464148/peak-widths-w-r-t-to-x-axis\n",
    "        def index_to_xdata(xdata, indices):\n",
    "            \"interpolate the values from signal.peak_widths to xdata\"\n",
    "            ind = np.arange(len(xdata))\n",
    "            f = interp1d(ind,xdata)\n",
    "            return f(indices)\n",
    "\n",
    "        # get heights of troughs\n",
    "        widths = index_to_xdata(hbins_interp, w)\n",
    "        left_ips = index_to_xdata(hbins_interp, l_ips)\n",
    "        right_ips = index_to_xdata(hbins_interp, r_ips)\n",
    "        troughs = np.append(left_ips, right_ips)\n",
    "        \n",
    "        # get density of troughs for plotting\n",
    "        smooth_left_ips = index_to_xdata(smooth, l_ips)\n",
    "        smooth_right_ips = index_to_xdata(smooth, r_ips)\n",
    "        smooth_troughs = np.append(smooth_left_ips, smooth_right_ips)\n",
    "        \n",
    "        # Get heights of peaks\n",
    "        peaks = hbins_interp[idx_peaks]\n",
    "\n",
    "        # Number of layers as number of peaks\n",
    "        nlayers = len(peaks)\n",
    "\n",
    "        if nlayers > 1:\n",
    "\n",
    "            # height location of peak with largest frequency of points\n",
    "            # maxpeakh = peaks[np.argmax(smooth[idx_peaks])]\n",
    "            maxpeakh = np.nanmax(peaks)\n",
    "\n",
    "            # Get the gap size as the maximum distance between consecutive peaks\n",
    "            gapsize = np.max(np.diff(peaks))\n",
    "\n",
    "            # MEAN and STD peak HEIGHT\n",
    "            # made up by peter\n",
    "            meanpeakh = np.nanmean(peaks)\n",
    "            stdpeakh = np.nanstd(peaks)\n",
    "            cvpeakh = np.nanmean(peaks)/np.nanstd(peaks)\n",
    "\n",
    "            # Vertical Distribution Ratio (Goetz 2007) \n",
    "            # - experimental, computed from peaks instead of norm point distribution\n",
    "            VDRpeak = (np.max(peaks) - np.nanmedian(peaks)) / np.max(peaks)\n",
    "            \n",
    "            # get the top of the herbaceous layer from the troughs\n",
    "            # New addition 11/9/22\n",
    "            # The herbaceous height is the 2nd trough up from the bottom\n",
    "            # but it has to be higher than the groundthreshold\n",
    "            # otherwise, we set the herb height to be 0\n",
    "            # this means you can't detect a herbaceous layer lower than the groundthreshold (usallually 5 cm)\n",
    "            herbtroughs = troughs[troughs >= groundthreshold]\n",
    "            if herbtroughs.size:\n",
    "                herbh = np.sort(herbtroughs)[0]\n",
    "            else:\n",
    "                herbh = 0\n",
    "            \n",
    "        else:\n",
    "\n",
    "            # Edited 10/31/22 \n",
    "            # If there's only 1 layer, \n",
    "            # set the peaks to be the only peak height\n",
    "            if peaks.size:\n",
    "                maxpeakh = peaks[0]\n",
    "                meanpeakh = peaks[0]\n",
    "                \n",
    "                # New addition 11/9/22\n",
    "                # The herbaceous height is the 2nd trough up from the bottom\n",
    "                # but it has to be higher than the groundthreshold\n",
    "                # otherwise, we set the herb height to be 0\n",
    "                # this means you can't detect a herbaceous layer lower than the groundthreshold (usallually 5 cm)\n",
    "                herbtroughs = troughs[troughs >= groundthreshold]\n",
    "                if herbtroughs.size:\n",
    "                    herbh = np.sort(herbtroughs)[0]\n",
    "                else:\n",
    "                    herbh = 0\n",
    "                    \n",
    "            # Except if there is no peak to record\n",
    "            else:\n",
    "                maxpeakh = 0\n",
    "                meanpeakh = 0 \n",
    "                herbh = 0\n",
    "\n",
    "            # and variation metrics to 0\n",
    "            stdpeakh = 0\n",
    "            gapsize = 0\n",
    "            cvpeakh = 0\n",
    "            VDRpeak = 0\n",
    "        \n",
    "        # computing the PtoH ratio (Davies 2020, Asner 2014)\n",
    "        perc99 = np.nanpercentile(h, 99, method='median_unbiased')\n",
    "        ptoh = maxpeakh/perc99\n",
    "\n",
    "        # Complexity Score (Davies 2020)\n",
    "        # proportion of bins with points in them vs without\n",
    "        # could be insensitive to striping\n",
    "        cscore = np.sum(hcounts_norm>0)/len(hcounts_norm)\n",
    "\n",
    "        # Vertical Distribution Ratio (Goetz 2007)\n",
    "        VDR = (np.max(h) - np.median(h)) / np.max(h)\n",
    "        \n",
    "        # Foliage Height Diversity \n",
    "        # (Bergen 2009 and many others using PAI profile - this is using normalized point counts)\n",
    "        if np.sum(hcounts_norm>0) > 0:\n",
    "            FHD = -1*np.sum(hcounts_norm*np.log(hcounts_norm, where=hcounts_norm>0))\n",
    "        else:\n",
    "            FHD = 0\n",
    "\n",
    "        ### SAVE Outputs\n",
    "        complex_dict = {'nlayers':nlayers,\n",
    "                        'gapsize':gapsize,\n",
    "                        'maxpeakh':maxpeakh,\n",
    "                        'ptoh':ptoh,\n",
    "                        'cscore':cscore,\n",
    "                        'FHD':FHD,\n",
    "                        'VDR':VDR,\n",
    "                        'VDRpeak':VDRpeak,\n",
    "                        'meanpeakh':meanpeakh,\n",
    "                        'stdpeakh':stdpeakh,\n",
    "                        'cvpeakh':cvpeakh,\n",
    "                        'herbh':herbh\n",
    "                       }\n",
    "\n",
    "        if plot:\n",
    "\n",
    "            fig, ax = plt.subplots()\n",
    "                \n",
    "            ax.plot(hcounts_norm, hbins, label='Point Density', lw=5, c='k', alpha=0.6)\n",
    "                \n",
    "            ax.plot(smooth, hbins_interp, label=method, lw=3, c='c', alpha=0.9, linestyle='--')\n",
    "            \n",
    "            ax.axhline(y=herbh, color='olive', label=f'Herb. Height {np.round(herbh, 2)}m', alpha=0.8)\n",
    "                                    \n",
    "            ax.scatter(x=smooth[idx_peaks], y=hbins_interp[idx_peaks],\n",
    "                       c='b', label='Peaks', marker='x', linewidths=4)\n",
    "            \n",
    "            ax.scatter(x=smooth_troughs, y=troughs,\n",
    "                      c='r', label='Troughs', marker='x', linewidths=4)\n",
    "            \n",
    "            # for infl in troughs:\n",
    "            #     tline = ax.axhline(y=infl, color='b', label='Trough', alpha=0.8)\n",
    "            # for infl in peaks:\n",
    "            #     pline = ax.axhline(y=infl, color='c', label='Peak', alpha=0.8)\n",
    "            # ax.legend(handles=[tline, pline], loc='best')\n",
    "            \n",
    "            ax.legend(loc='best')\n",
    "            ax.set_xlabel('Normalized Frequency')\n",
    "            ax.set_ylabel('Height [m]')\n",
    "            ax.set_xlim(-0.01, np.max(hcounts_norm) + 0.03)\n",
    "            ax.set_ylim(0, np.percentile(hbins, 50) + 1)\n",
    "            ax.grid('on')\n",
    "\n",
    "            # don't return peaks, troughs\n",
    "            return complex_dict, fig, ax\n",
    "\n",
    "        else:\n",
    "\n",
    "            return complex_dict\n",
    "\n",
    "    # Else, if there were no heights in the array\n",
    "    # just return an array of 0s\n",
    "    else:\n",
    "\n",
    "        complex_dict = {'nlayers':0,\n",
    "                        'gapsize':0,\n",
    "                        'maxpeakh':0,\n",
    "                        'ptoh':0,\n",
    "                        'cscore':0,\n",
    "                        'FHD':0,\n",
    "                        'VDR':0,\n",
    "                        'VDRpeak':0,\n",
    "                        'meanpeakh':0,\n",
    "                        'stdpeakh':0,\n",
    "                        'cvpeakh':0,\n",
    "                        'herbh':0\n",
    "                       }\n",
    "\n",
    "        return complex_dict\n"
   ]
  },
  {
   "cell_type": "code",
   "execution_count": 60,
   "id": "7f4e4fd2-e2c4-4308-9468-267c595083ce",
   "metadata": {},
   "outputs": [
    {
     "data": {
      "text/plain": [
       "({'nlayers': 1,\n",
       "  'gapsize': 0,\n",
       "  'maxpeakh': 2.1,\n",
       "  'ptoh': 0.8235294271642914,\n",
       "  'cscore': 0.12903225806451613,\n",
       "  'FHD': 1.1674772126808877,\n",
       "  'VDR': 0.2458823,\n",
       "  'VDRpeak': 0,\n",
       "  'meanpeakh': 2.1,\n",
       "  'stdpeakh': 0,\n",
       "  'cvpeakh': 0,\n",
       "  'herbh': 3.645053184634648},\n",
       " <Figure size 432x288 with 1 Axes>,\n",
       " <AxesSubplot:xlabel='Normalized Frequency', ylabel='Height [m]'>)"
      ]
     },
     "execution_count": 60,
     "metadata": {},
     "output_type": "execute_result"
    },
    {
     "data": {
      "image/png": "[encoded data removed]",
      "text/plain": [
       "<Figure size 432x288 with 1 Axes>"
      ]
     },
     "metadata": {
      "needs_background": "light"
     },
     "output_type": "display_data"
    }
   ],
   "source": [
    "canopyLayerMetrics(h, hbins, plot=True, method='kde', rel_height=1)"
   ]
  },
  {
   "cell_type": "code",
   "execution_count": 65,
   "id": "89e5ca16-13fb-42fa-bc4b-054fab11ba90",
   "metadata": {},
   "outputs": [
    {
     "data": {
      "text/plain": [
       "({'nlayers': 1,\n",
       "  'gapsize': 0,\n",
       "  'maxpeakh': 2.5,\n",
       "  'ptoh': 0.9803921751955851,\n",
       "  'cscore': 0.12903225806451613,\n",
       "  'FHD': 1.1674772126808877,\n",
       "  'VDR': 0.2458823,\n",
       "  'VDRpeak': 0,\n",
       "  'meanpeakh': 2.5,\n",
       "  'stdpeakh': 0,\n",
       "  'cvpeakh': 0,\n",
       "  'herbh': 0.05},\n",
       " <Figure size 432x288 with 1 Axes>,\n",
       " <AxesSubplot:xlabel='Normalized Frequency', ylabel='Height [m]'>)"
      ]
     },
     "execution_count": 65,
     "metadata": {},
     "output_type": "execute_result"
    },
    {
     "data": {
      "image/png": "[encoded data removed]",
      "text/plain": [
       "<Figure size 432x288 with 1 Axes>"
      ]
     },
     "metadata": {
      "needs_background": "light"
     },
     "output_type": "display_data"
    }
   ],
   "source": [
    "canopyLayerMetrics(h, hbins, plot=True, method='gauss1d', smoothsigma=0.5, rel_height=1)"
   ]
  },
  {
   "cell_type": "code",
   "execution_count": 66,
   "id": "3d9a5333-9bbe-4d80-a97e-1187fd726c77",
   "metadata": {},
   "outputs": [
    {
     "data": {
      "text/plain": [
       "({'nlayers': 1,\n",
       "  'gapsize': 0,\n",
       "  'maxpeakh': 2.0,\n",
       "  'ptoh': 0.784313740156468,\n",
       "  'cscore': 0.12903225806451613,\n",
       "  'FHD': 1.1639149187621525,\n",
       "  'VDR': 0.2458823,\n",
       "  'VDRpeak': 0,\n",
       "  'meanpeakh': 2.0,\n",
       "  'stdpeakh': 0,\n",
       "  'cvpeakh': 0,\n",
       "  'herbh': 0.05},\n",
       " <Figure size 432x288 with 1 Axes>,\n",
       " <AxesSubplot:xlabel='Normalized Frequency', ylabel='Height [m]'>)"
      ]
     },
     "execution_count": 66,
     "metadata": {},
     "output_type": "execute_result"
    },
    {
     "data": {
      "image/png": "[encoded data removed]",
      "text/plain": [
       "<Figure size 432x288 with 1 Axes>"
      ]
     },
     "metadata": {
      "needs_background": "light"
     },
     "output_type": "display_data"
    }
   ],
   "source": [
    "canopyLayerMetrics_cover(c, h, plot=True, method='gauss1d', smoothsigma=0.2, rel_height=1)"
   ]
  },
  {
   "cell_type": "code",
   "execution_count": null,
   "id": "121e0e22-b59b-4e34-89d4-b189c30c9ca4",
   "metadata": {},
   "outputs": [],
   "source": []
  },
  {
   "cell_type": "code",
   "execution_count": 2,
   "id": "a1d48bba-e1a5-4f25-8c53-c0f6e35a6d4e",
   "metadata": {},
   "outputs": [],
   "source": [
    "# Make a height array for testing\n",
    "hmax = 10\n",
    "step = 0.5\n",
    "groundthres = 0.05\n",
    "hmin=0\n",
    "smoothsigma=2\n",
    "\n",
    "# make a random array of height values from 2 gaussians\n",
    "h1 = np.abs(np.random.normal(loc=5, scale=1, size=20))\n",
    "h2 = np.abs(np.random.normal(loc=0.5, scale=0.25, size=20))\n",
    "# Combine them - this is your test height array\n",
    "h = np.append(h1, h2)\n",
    "h = np.append(h, [0,0,0])"
   ]
  },
  {
   "cell_type": "code",
   "execution_count": 3,
   "id": "577befc1-c71a-47a7-908f-c6e497613c57",
   "metadata": {},
   "outputs": [
    {
     "data": {
      "text/plain": [
       "(array([19.,  4.,  0.,  0.,  0.,  1.,  3.,  6.,  5.,  5.]),\n",
       " array([0.        , 0.65768869, 1.31537737, 1.97306606, 2.63075475,\n",
       "        3.28844344, 3.94613212, 4.60382081, 5.2615095 , 5.91919818,\n",
       "        6.57688687]),\n",
       " <BarContainer object of 10 artists>)"
      ]
     },
     "execution_count": 3,
     "metadata": {},
     "output_type": "execute_result"
    },
    {
     "data": {
      "image/png": "[encoded data removed]",
      "text/plain": [
       "<Figure size 432x288 with 1 Axes>"
      ]
     },
     "metadata": {
      "needs_background": "light"
     },
     "output_type": "display_data"
    }
   ],
   "source": [
    "plt.hist(h)"
   ]
  },
  {
   "cell_type": "code",
   "execution_count": 4,
   "id": "8f4ee016-a181-4487-acf1-ff537b6d9846",
   "metadata": {},
   "outputs": [],
   "source": [
    "# Where h is an array of point height values\n",
    "# hbins is a list/array of height bin edges\n",
    "# smoothsigma = positive float - gives a smoothing parameter for gaussian smoothing in layer calculation (in meters)\n",
    "# plot = True/False - whether to plot the results\n",
    "\n",
    "smooths = {}\n",
    "for s in [0.1, 0.5, 1, 1.5, 2, 2.5]:\n",
    "    \n",
    "    # If there are any heights in the array\n",
    "    # edited 10/26 - have to have at least 2 points above the groundthreshold to do complexity stats\n",
    "    # This means that a plot with only 1 point will have all metrics automatically set to 0 or nan\n",
    "    if np.array(h).size >= 2:\n",
    "\n",
    "        # Calc Cover for height bins\n",
    "        nbins = ((hmax - hmin) / step) + 1\n",
    "        hbins = np.linspace(hmin, hmax, int(nbins))\n",
    "\n",
    "        # IMPORTANT: Using groundthres, you may want to account for errors in relative accuracy\n",
    "        # EX: IF the rel. accuracy of ground is about 0.06 m (6 cm) between flightlines,\n",
    "        # the lowest height bin could be set to 0.06 (instead of 0) to account for this.\n",
    "        # so any hit below 0.06 m counts as ground.\n",
    "        # NOTE: If you want to use everything, just set groundthres to 0\n",
    "        if groundthres > 0:\n",
    "            # insert the groundthres into the array (right above 0)\n",
    "            heightbins = np.insert(hbins, 1, groundthres)\n",
    "            # heightbins[heightbins==0] = groundthres\n",
    "        if groundthres < 0:\n",
    "            # insert the groundthres into the array (right below 0)\n",
    "            heightbins = np.insert(hbins, 0, groundthres)\n",
    "            # heightbins[heightbins==0] = groundthres\n",
    "\n",
    "        # sort points by height\n",
    "        h = np.sort(h)\n",
    "\n",
    "        # Group each point by height bin\n",
    "        hgroups = np.digitize(h, bins=hbins)\n",
    "\n",
    "        # Count the number of points in each bin\n",
    "        # Note: minlength allows it to go to the full length of hbins, rather than stop at the max height of the points\n",
    "        hcounts = np.bincount(hgroups, minlength=len(hbins))\n",
    "\n",
    "        # Normalize the counts\n",
    "        hcounts_norm = hcounts/np.sum(hcounts)\n",
    "\n",
    "        # Smooth point height distribution, and find peaks and troughs\\\n",
    "        # Following the below article on stack exchange\n",
    "        # https://stackoverflow.com/questions/62537703/how-to-find-inflection-point-in-python\n",
    "\n",
    "        # smooth with gaussian filter\n",
    "        smooths[s] = gaussian_filter1d(hcounts_norm, s)\n"
   ]
  },
  {
   "cell_type": "code",
   "execution_count": 305,
   "id": "b601be72-7287-4556-b637-e13af157996d",
   "metadata": {},
   "outputs": [],
   "source": [
    "from scipy.interpolate import UnivariateSpline, CubicSpline, BSpline, splrep, splev, sproot\n",
    "from scipy.stats import gaussian_kde\n",
    "from scipy.signal import find_peaks, peak_widths\n",
    "from scipy.interpolate import interp1d\n",
    "\n",
    "# len(np.arange(hmin, hmax + 0.5, 0.5))\n",
    "nbins_spline = (((hmax + step*2) - (hmin - step*2)) / step) + 1\n",
    "hbins_spline = np.linspace((hmin - step*2),(hmax + step*2), int(nbins_spline))\n",
    "\n",
    "hcounts_norm_spline = np.insert(hcounts_norm, 0, [0,0])\n",
    "hcounts_norm_spline = np.append(hcounts_norm_spline, [0,0])\n",
    "hbins_spline, hcounts_norm_spline\n",
    "\n",
    "K = 2\n",
    "# bspline = BSpline(hbins_spline, hcounts_norm_spline, k=K, extrapolate=False)\n",
    "# bspline_smooth = BSpline(hbins_spline, hcounts_norm_spline, k=K, extrapolate=False)\n",
    "# bspline = BSpline(hbins, hcounts_norm, k=K, extrapolate=False)\n",
    "# cubicspline = CubicSpline(hbins, hcounts_norm, extrapolate=False)\n",
    "# unispline = UnivariateSpline(hbins, hcounts_norm)\n",
    "\n",
    "\n",
    "# gausskde = gaussian_kde([hbins, hcounts_norm], bw_method='scott')"
   ]
  },
  {
   "cell_type": "code",
   "execution_count": 68,
   "id": "ab9ae109-0766-4d49-881b-602bc80e0000",
   "metadata": {},
   "outputs": [],
   "source": [
    "from scipy.stats import gaussian_kde\n",
    "from scipy.signal import find_peaks, peak_widths\n",
    "from scipy.interpolate import interp1d\n",
    "\n",
    "hbins_interp= np.arange(np.min(hbins), np.max(hbins), 0.01)\n",
    "\n",
    "gausskde = gaussian_kde(h, bw_method='scott')\n",
    "gausskde_interp = gausskde.pdf(hbins_interp)\n",
    "\n",
    "idx_peaks, meta = find_peaks(gausskde_interp)\n",
    "los = []\n",
    "his = []\n",
    "\n",
    "# Get the widths of the peak and identify the troughs using a relative heiht value\n",
    "# rel_height = 0.5 is the full width half max\n",
    "# rel_height = 1 is the bottom of the gaussian\n",
    "w, width_heights, left_ips, right_ips = peak_widths(gausskde_interp, idx_peaks, rel_height=1)\n",
    "\n",
    "# NOTE: convert widths back to height values using the below function\n",
    "# copied exactly from: https://stackoverflow.com/questions/66464148/peak-widths-w-r-t-to-x-axis\n",
    "def index_to_xdata(xdata, indices):\n",
    "    \"interpolate the values from signal.peak_widths to xdata\"\n",
    "    ind = np.arange(len(xdata))\n",
    "    f = interp1d(ind,xdata)\n",
    "    return f(indices)\n",
    "\n",
    "widths = index_to_xdata(hbins_interp, w)\n",
    "left_ips = index_to_xdata(hbins_interp, left_ips)\n",
    "right_ips = index_to_xdata(hbins_interp, right_ips)\n",
    "\n",
    "troughs = np.append(left_ips, right_ips)\n",
    "peaks = hbins_interp[idx_peaks]"
   ]
  },
  {
   "cell_type": "code",
   "execution_count": 93,
   "id": "b7544332-94ed-4b3a-82d2-3cda2d148314",
   "metadata": {},
   "outputs": [
    {
     "data": {
      "text/plain": [
       "(array([0.  , 2.87]), array([0.78542989, 7.16617929]))"
      ]
     },
     "execution_count": 93,
     "metadata": {},
     "output_type": "execute_result"
    }
   ],
   "source": [
    "left_ips, right_ips"
   ]
  },
  {
   "cell_type": "code",
   "execution_count": 56,
   "id": "72923e05-930e-4c13-a547-1b558a154f74",
   "metadata": {},
   "outputs": [
    {
     "data": {
      "text/plain": [
       "(array([0.39, 5.27]), array([0.        , 2.87      , 0.78542989, 7.16617929]))"
      ]
     },
     "execution_count": 56,
     "metadata": {},
     "output_type": "execute_result"
    }
   ],
   "source": [
    "peaks, troughs"
   ]
  },
  {
   "cell_type": "code",
   "execution_count": 71,
   "id": "f54a3a40-9ff7-430e-bc20-f9c37c38316b",
   "metadata": {},
   "outputs": [
    {
     "data": {
      "text/plain": [
       "(array([0.        , 0.        , 0.        , 0.05018541, 0.05323036,\n",
       "        0.11282954, 0.23403284, 0.29452149, 0.3278607 , 0.34040452,\n",
       "        0.3435373 , 0.38659086, 0.40310932, 0.40316812, 0.41465506,\n",
       "        0.44528733, 0.49144614, 0.51418608, 0.56212229, 0.68873555,\n",
       "        0.78742186, 0.84959075, 1.21167574, 3.36731458, 4.22597383,\n",
       "        4.24872845, 4.60218544, 4.83005585, 4.83379484, 4.85977491,\n",
       "        4.90340863, 4.9632918 , 5.04237979, 5.26307876, 5.35626744,\n",
       "        5.41603812, 5.6501634 , 5.80468264, 6.12967709, 6.38207227,\n",
       "        6.42855058, 6.57516069, 6.57688687]),\n",
       " array([0.16510912, 0.16510912, 0.16510912, 0.1670847 , 0.16719648,\n",
       "        0.16919347, 0.17209783, 0.17294891, 0.17324473, 0.17332402,\n",
       "        0.17334108, 0.17346487, 0.17345758, 0.1734575 , 0.17343446,\n",
       "        0.17330147, 0.17290541, 0.17262446, 0.17184879, 0.1686376 ,\n",
       "        0.16502836, 0.16229489, 0.14072214, 0.06389697, 0.09927715,\n",
       "        0.10026701, 0.11404484, 0.1205549 , 0.12064204, 0.12122868,\n",
       "        0.12213862, 0.1232296 , 0.12438183, 0.12578813, 0.12556537,\n",
       "        0.12516749, 0.12174346, 0.11795178, 0.1066061 , 0.09540181,\n",
       "        0.09317915, 0.08594724, 0.08586051]))"
      ]
     },
     "execution_count": 71,
     "metadata": {},
     "output_type": "execute_result"
    }
   ],
   "source": [
    "h, gausskde(h)"
   ]
  },
  {
   "cell_type": "code",
   "execution_count": null,
   "id": "fd7c26d9-6aa8-4dd2-a0a8-b46b5f0708ed",
   "metadata": {},
   "outputs": [],
   "source": []
  },
  {
   "cell_type": "code",
   "execution_count": 58,
   "id": "a6f85071-cc4c-4887-bc31-e352efe0e732",
   "metadata": {},
   "outputs": [
    {
     "data": {
      "text/plain": [
       "<matplotlib.legend.Legend at 0x2abe185538e0>"
      ]
     },
     "execution_count": 58,
     "metadata": {},
     "output_type": "execute_result"
    },
    {
     "data": {
      "image/png": "[encoded data removed]",
      "text/plain": [
       "<Figure size 432x288 with 1 Axes>"
      ]
     },
     "metadata": {
      "needs_background": "light"
     },
     "output_type": "display_data"
    }
   ],
   "source": [
    "fig, ax= plt.subplots()\n",
    "\n",
    "hbins_interp= np.arange(hmin, hmax, 0.01)\n",
    "ax.scatter(hbins, hcounts_norm, label='heights')\n",
    "# for s in smooths.keys():\n",
    "for s in [1]:\n",
    "    ax.plot(hbins, smooths[s], label=f'sigma = {s}')\n",
    "ax.plot(h, gausskde.evaluate(h), label='gausskde')\n",
    "ax.scatter(hbins_interp, gausskde.pdf(hbins_interp))\n",
    "ax.scatter(hbins_interp[idx_peaks], gausskde.evaluate(hbins_interp)[idx_peaks], label='peaks')\n",
    "ax.scatter(hbins_interp[idx_troughs], gausskde.evaluate(hbins_interp)[idx_troughs], label='troughs')\n",
    "ax.hlines(width_heights, left_ips, right_ips, color='r')\n",
    "plt.legend()"
   ]
  },
  {
   "cell_type": "code",
   "execution_count": null,
   "id": "2261b7b9-1ce6-40e6-a3fb-111491098cd7",
   "metadata": {},
   "outputs": [],
   "source": []
  },
  {
   "cell_type": "code",
   "execution_count": 49,
   "id": "1bdfd566-4bc3-4ed9-a346-9eb7f690023c",
   "metadata": {},
   "outputs": [],
   "source": [
    "# find inflection points\n",
    "# when it switches from positive to negative (a trough)\n",
    "idx_troughs = np.where(np.diff(np.sign(np.gradient(gausskde_interp)))>0)[0]\n",
    "# when it switches from negative to positive (a peak)\n",
    "idx_peaks = np.where(np.diff(np.sign(np.gradient(gausskde_interp)))<0)[0]\n",
    "\n",
    "# output height values of peaks and troughs\n",
    "troughs = hbins_interp[idx_troughs]\n",
    "peaks = hbins_interp[idx_peaks]"
   ]
  },
  {
   "cell_type": "code",
   "execution_count": 50,
   "id": "d734ba2e-c0e2-4596-aa0f-b07247211d23",
   "metadata": {},
   "outputs": [
    {
     "data": {
      "text/plain": [
       "array([2.87])"
      ]
     },
     "execution_count": 50,
     "metadata": {},
     "output_type": "execute_result"
    }
   ],
   "source": [
    "troughs"
   ]
  },
  {
   "cell_type": "code",
   "execution_count": 48,
   "id": "1461919c-6273-4e50-bb32-7e23583e0c6d",
   "metadata": {},
   "outputs": [
    {
     "data": {
      "text/plain": [
       "(array([ 39, 527]), array([0.        , 2.87      , 0.78542989, 7.16617929]))"
      ]
     },
     "execution_count": 48,
     "metadata": {},
     "output_type": "execute_result"
    }
   ],
   "source": [
    "peaks, troughs"
   ]
  },
  {
   "cell_type": "code",
   "execution_count": 37,
   "id": "333c4946-db9c-4e2a-8a56-1eb79237d6cf",
   "metadata": {},
   "outputs": [
    {
     "data": {
      "text/plain": [
       "(array([0.78542989, 4.29617929]), array([0.  , 2.87]))"
      ]
     },
     "execution_count": 37,
     "metadata": {},
     "output_type": "execute_result"
    }
   ],
   "source": [
    "widths, left_ips"
   ]
  },
  {
   "cell_type": "code",
   "execution_count": 491,
   "id": "87906d9a-ffc9-4549-aaae-541c366118d8",
   "metadata": {},
   "outputs": [],
   "source": [
    "# NOTE: convert widths back to height values using the below function\n",
    "# copied exactly from: https://stackoverflow.com/questions/66464148/peak-widths-w-r-t-to-x-axis\n",
    "def index_to_xdata(xdata, indices):\n",
    "    \"interpolate the values from signal.peak_widths to xdata\"\n",
    "    ind = np.arange(len(xdata))\n",
    "    f = interp1d(ind,xdata)\n",
    "    return f(indices)\n",
    "\n",
    "x = hbins_interp\n",
    "w, width_heights, left_ips, right_ips = peak_widths(gausskde_interp, peaks, rel_height=0.75)\n",
    "\n",
    "widths = index_to_xdata(x, w)\n",
    "left_ips = index_to_xdata(x, left_ips)\n",
    "right_ips = index_to_xdata(x, right_ips)"
   ]
  },
  {
   "cell_type": "code",
   "execution_count": 492,
   "id": "70b17c4d-0eb3-4415-ac4d-3cca187d4d61",
   "metadata": {},
   "outputs": [
    {
     "data": {
      "text/plain": [
       "(array([0.07328199, 3.74089339]),\n",
       " array([0.99544953, 6.67340547]),\n",
       " array([0.92216753, 2.93251207]))"
      ]
     },
     "execution_count": 492,
     "metadata": {},
     "output_type": "execute_result"
    }
   ],
   "source": [
    "left_ips, right_ips, widths"
   ]
  },
  {
   "cell_type": "code",
   "execution_count": 43,
   "id": "a679be3a-67b3-47b3-8d50-52206ab1c3a1",
   "metadata": {},
   "outputs": [
    {
     "data": {
      "text/plain": [
       "<matplotlib.legend.Legend at 0x2abe1834cc40>"
      ]
     },
     "execution_count": 43,
     "metadata": {},
     "output_type": "execute_result"
    },
    {
     "data": {
      "image/png": "[encoded data removed]",
      "text/plain": [
       "<Figure size 432x288 with 1 Axes>"
      ]
     },
     "metadata": {
      "needs_background": "light"
     },
     "output_type": "display_data"
    }
   ],
   "source": [
    "fig, ax= plt.subplots()\n",
    "\n",
    "hbins_interp= np.arange(hmin, hmax, 0.01)\n",
    "ax.scatter(hbins, hcounts_norm, label='heights')\n",
    "# for s in smooths.keys():\n",
    "for s in [1]:\n",
    "    ax.plot(hbins, smooths[s], label=f'sigma = {s}')\n",
    "ax.plot(h, gausskde.evaluate(h), label='gausskde')\n",
    "ax.scatter(hbins_interp, gausskde.pdf(hbins_interp))\n",
    "ax.scatter(hbins_interp[idx_peaks], gausskde.evaluate(hbins_interp)[idx_peaks], label='peaks')\n",
    "ax.scatter(hbins_interp[idx_troughs], gausskde.evaluate(hbins_interp)[idx_troughs], label='troughs')\n",
    "ax.hlines(width_heights, left_ips, right_ips, color='r')\n",
    "# ax.plot(bspline_xy[0], bspline_xy[1],label='bspline')\n",
    "# ax.plot(hbins_interp, bspline(hbins_interp), label='bspline')\n",
    "# ax.plot(hbins_interp, cubicspline(hbins_interp), label='cubic')\n",
    "# ax.plot(hbins_interp, unispline(hbins_interp), label='uni')\n",
    "plt.legend()"
   ]
  },
  {
   "cell_type": "code",
   "execution_count": null,
   "id": "dea932f5-afd3-49f8-8e5d-24272b75950e",
   "metadata": {},
   "outputs": [],
   "source": [
    "# test out cubic and univar spline \n",
    "tx_spline = UnivariateSpline(hbins, np.abs(np.gradient(tc['CoverD2'])), k=5)\n",
    "tx_cubic = CubicSpline(hbins, np.abs(np.gradient(tc['CoverD2'])))\n",
    "tx_cubic_1d = tx_cubic.derivative()\n",
    "tx_cubic_2d = tx_cubic_1d.derivative()\n",
    "\n",
    "hbins_interp = np.arange(0, np.max(hbins), 0.2)\n",
    "tx_interp = np.interp(x=hbins_interp, xp=hbins[1:], fp=tc['CoverD2byH'])\n",
    "tx_1d = np.gradient(tx_interp)\n",
    "tx_2d = np.gradient(tx_1d)\n",
    "infls = np.where(np.diff(np.sign(tx_1d)))[0]"
   ]
  },
  {
   "cell_type": "code",
   "execution_count": 44,
   "id": "8d8a4fc9-d575-40d6-a2ef-761f39d93570",
   "metadata": {},
   "outputs": [
    {
     "data": {
      "text/plain": [
       "array([-3.06611501e-18,  2.07149785e-01,  4.60700430e-01, -8.68839790e-02,\n",
       "        2.37315877e-02, -8.04237200e-03,  8.43790027e-03, -2.57092291e-02,\n",
       "        9.43990160e-02,  9.81131651e-02,  1.13148324e-01,  4.92935408e-02,\n",
       "        1.39677513e-01, -8.00359335e-03,  4.23368603e-02, -1.13438477e-02,\n",
       "        3.03853064e-03, -8.10274838e-04,  5.40183225e-04, -2.70091613e-04,\n",
       "        0.00000000e+00,  0.00000000e+00,  0.00000000e+00,  0.00000000e+00,\n",
       "        0.00000000e+00])"
      ]
     },
     "execution_count": 44,
     "metadata": {},
     "output_type": "execute_result"
    }
   ],
   "source": [
    "bspline_xy[1]"
   ]
  },
  {
   "cell_type": "code",
   "execution_count": 54,
   "id": "d050e78a-3009-46a4-8727-c5f3e51677da",
   "metadata": {},
   "outputs": [
    {
     "data": {
      "text/plain": [
       "[<matplotlib.lines.Line2D at 0x2b97eadbd9d0>]"
      ]
     },
     "execution_count": 54,
     "metadata": {},
     "output_type": "execute_result"
    },
    {
     "data": {
      "image/png": "[encoded data removed]",
      "text/plain": [
       "<Figure size 432x288 with 1 Axes>"
      ]
     },
     "metadata": {
      "needs_background": "light"
     },
     "output_type": "display_data"
    }
   ],
   "source": []
  }
 ],
 "metadata": {
  "kernelspec": {
   "display_name": "Python [conda env:.conda-Halo]",
   "language": "python",
   "name": "conda-env-.conda-Halo-py"
  },
  "language_info": {
   "codemirror_mode": {
    "name": "ipython",
    "version": 3
   },
   "file_extension": ".py",
   "mimetype": "text/x-python",
   "name": "python",
   "nbconvert_exporter": "python",
   "pygments_lexer": "ipython3",
   "version": "3.8.6"
  }
 },
 "nbformat": 4,
 "nbformat_minor": 5
}
