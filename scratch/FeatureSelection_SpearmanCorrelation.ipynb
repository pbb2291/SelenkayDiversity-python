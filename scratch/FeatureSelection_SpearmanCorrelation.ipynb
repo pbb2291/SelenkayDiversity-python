{
 "cells": [
  {
   "cell_type": "code",
   "execution_count": 21,
   "id": "9b4c71df-ea13-4cdd-81f7-9ed67c8c1fc8",
   "metadata": {},
   "outputs": [
    {
     "data": {
      "text/html": [
       "<div>\n",
       "<style scoped>\n",
       "    .dataframe tbody tr th:only-of-type {\n",
       "        vertical-align: middle;\n",
       "    }\n",
       "\n",
       "    .dataframe tbody tr th {\n",
       "        vertical-align: top;\n",
       "    }\n",
       "\n",
       "    .dataframe thead th {\n",
       "        text-align: right;\n",
       "    }\n",
       "</style>\n",
       "<table border=\"1\" class=\"dataframe\">\n",
       "  <thead>\n",
       "    <tr style=\"text-align: right;\">\n",
       "      <th></th>\n",
       "      <th>Spot</th>\n",
       "      <th>Abundance</th>\n",
       "      <th>Richness</th>\n",
       "      <th>shannonH</th>\n",
       "      <th>Evenness</th>\n",
       "      <th>Simpson</th>\n",
       "      <th>Soil</th>\n",
       "      <th>Treatment</th>\n",
       "    </tr>\n",
       "  </thead>\n",
       "  <tbody>\n",
       "    <tr>\n",
       "      <th>0</th>\n",
       "      <td>1A</td>\n",
       "      <td>253</td>\n",
       "      <td>55</td>\n",
       "      <td>3.476387</td>\n",
       "      <td>0.867506</td>\n",
       "      <td>21.690613</td>\n",
       "      <td>Black</td>\n",
       "      <td>Inside</td>\n",
       "    </tr>\n",
       "    <tr>\n",
       "      <th>1</th>\n",
       "      <td>1B</td>\n",
       "      <td>152</td>\n",
       "      <td>40</td>\n",
       "      <td>3.404402</td>\n",
       "      <td>0.922882</td>\n",
       "      <td>23.867769</td>\n",
       "      <td>Black</td>\n",
       "      <td>Inside</td>\n",
       "    </tr>\n",
       "    <tr>\n",
       "      <th>2</th>\n",
       "      <td>1C</td>\n",
       "      <td>153</td>\n",
       "      <td>40</td>\n",
       "      <td>3.353972</td>\n",
       "      <td>0.909212</td>\n",
       "      <td>21.816403</td>\n",
       "      <td>Black</td>\n",
       "      <td>Inside</td>\n",
       "    </tr>\n",
       "    <tr>\n",
       "      <th>3</th>\n",
       "      <td>1D</td>\n",
       "      <td>207</td>\n",
       "      <td>50</td>\n",
       "      <td>3.618480</td>\n",
       "      <td>0.924964</td>\n",
       "      <td>26.433683</td>\n",
       "      <td>Black</td>\n",
       "      <td>Inside</td>\n",
       "    </tr>\n",
       "    <tr>\n",
       "      <th>4</th>\n",
       "      <td>1E</td>\n",
       "      <td>158</td>\n",
       "      <td>44</td>\n",
       "      <td>3.488376</td>\n",
       "      <td>0.921829</td>\n",
       "      <td>26.112971</td>\n",
       "      <td>Black</td>\n",
       "      <td>Inside</td>\n",
       "    </tr>\n",
       "  </tbody>\n",
       "</table>\n",
       "</div>"
      ],
      "text/plain": [
       "  Spot  Abundance  Richness  shannonH  Evenness    Simpson   Soil Treatment\n",
       "0   1A        253        55  3.476387  0.867506  21.690613  Black    Inside\n",
       "1   1B        152        40  3.404402  0.922882  23.867769  Black    Inside\n",
       "2   1C        153        40  3.353972  0.909212  21.816403  Black    Inside\n",
       "3   1D        207        50  3.618480  0.924964  26.433683  Black    Inside\n",
       "4   1E        158        44  3.488376  0.921829  26.112971  Black    Inside"
      ]
     },
     "execution_count": 21,
     "metadata": {},
     "output_type": "execute_result"
    }
   ],
   "source": [
    "import pandas as pd\n",
    "import numpy as np\n",
    "import matplotlib.pyplot as plt\n",
    "\n",
    "# Datadir for location of in/out vars\n",
    "datadir = '/n/home02/pbb/scripts/SelenkayDiversity/data/in'\n",
    "\n",
    "figd = '/n/home02/pbb/scripts/SelenkayDiversity/figs/mango'\n",
    "\n",
    "# toggle radius of inquiry\n",
    "radius = 30 \n",
    "\n",
    "# Load input data (cleaned in R)\n",
    "XY_scale = pd.read_csv(f'{datadir}/XY_scaled_{radius}mRadius.csv')\n",
    "XY = pd.read_csv(f'{datadir}/XY.csv')\n",
    "\n",
    "# Drop factor and character arrays from X df\n",
    "X = XY_scale.drop(['Unnamed: 0', 'Richness',\n",
    "                   'Abundance', 'Evenness', 'shannonH',\n",
    "                   'Spot', 'Soil', 'Soil_f',\n",
    "                   'Treatment', 'Treatment_f', 'Transect_f',\n",
    "                   'nlayers_plot_f',\n",
    "                   'Simpson'], axis=1)\n",
    "X = X.dropna(axis=1)\n",
    "\n",
    "# Make y df\n",
    "y = XY_scale.filter(['Spot', 'Abundance', 'Richness',\n",
    "                     'shannonH', 'Evenness', 'Simpson',\n",
    "                     'Soil', 'Treatment'])\n",
    "y.head()"
   ]
  },
  {
   "cell_type": "code",
   "execution_count": 22,
   "id": "f20b2cf9-5fd6-4e93-9ed4-5c4542a05941",
   "metadata": {},
   "outputs": [
    {
     "data": {
      "text/plain": [
       "110"
      ]
     },
     "execution_count": 22,
     "metadata": {},
     "output_type": "execute_result"
    }
   ],
   "source": [
    "# Filter columsn and make dataframe\n",
    "cols = [c for c in X.columns if not (('iqr' in c) | ('max_' in c) | ('median' in c ) | ('Spot' in c))]\n",
    "# cols = [c for c in X.columns if not (('iqr' in c) | ('max_' in c) | ('Spot' in c) | ('Spot' in c)| ('Soil' in c))]\n",
    "# cols = [c for c in X.columns if (('mean' in c) | ('std' in c))]\n",
    "# XYcorr = XYcorr.drop(columns = ['PAIsum_0m', 'PAIsum_0mto1p5m', 'PAImean_0mto1p5m'])\n",
    "Xcorr = X[cols]\n",
    "\n",
    "Ycorr = y[['Abundance', 'Richness',\n",
    "           'shannonH', 'Simpson',\n",
    "           'Evenness']]\n",
    "len(cols)\n",
    "\n",
    "XYcorr = pd.concat([Xcorr, Ycorr],\n",
    "                   axis=1)"
   ]
  },
  {
   "cell_type": "code",
   "execution_count": 82,
   "id": "670d8bba-ec5e-4a8e-adee-80c067584ec7",
   "metadata": {},
   "outputs": [],
   "source": [
    "# grabs linearly correlated vars\n",
    "# corr = XYcorr.corr(method='pearson')\n",
    "\n",
    "# spearman grabs non-linear vars better\n",
    "corr = XYcorr.corr(method='spearman')\n",
    "\n",
    "# Turn it back into a dataframe\n",
    "corr = pd.DataFrame(corr[['Abundance', 'Richness',\n",
    "                          'shannonH', 'Evenness',\n",
    "                          'Simpson']].iloc[0:-5])\n",
    "\n",
    "shancorr = pd.DataFrame(corr.shannonH.sort_values(ascending=False))\n",
    "\n",
    "simpcorr = pd.DataFrame(corr.Simpson.sort_values(ascending=False))\n",
    "\n",
    "richcorr = pd.DataFrame(corr.Richness.sort_values(ascending=False))\n",
    "\n",
    "abuncorr = pd.DataFrame(corr.Abundance.sort_values(ascending=False))"
   ]
  },
  {
   "cell_type": "code",
   "execution_count": 57,
   "id": "9f4dbd02-fc07-4ac8-8484-2997623b8e8c",
   "metadata": {},
   "outputs": [],
   "source": [
    "# print(corr[['Abundance', 'Richness', 'shannonH', 'Simpson', 'Evenness']])"
   ]
  },
  {
   "cell_type": "code",
   "execution_count": 83,
   "id": "b4d27291-9317-45f7-a297-e447ec074a0a",
   "metadata": {},
   "outputs": [
    {
     "data": {
      "text/plain": [
       "(                 shannonH\n",
       " X25thPerc_plot   0.515102\n",
       " sd_FHD           0.473229\n",
       " Cover1p5m_plot   0.469964\n",
       " sd_VDRpeak       0.468427\n",
       " horzcover_woody  0.460936\n",
       " sd_cscore        0.457575\n",
       " Cover0p5m_plot   0.452869\n",
       " X50thPerc_plot   0.450564\n",
       " mean_nlayers     0.449988\n",
       " mean_VDRpeak     0.449796,\n",
       "                         Abundance\n",
       " X                        0.413333\n",
       " horzcover_grass          0.402286\n",
       " mean_cvH_vegtype_shrub   0.375294\n",
       " mean_cvH_vegtype_woody   0.349455\n",
       " sd_cvH_vegtype_woody     0.331925\n",
       " mean_CD_Ggrasslayer      0.326353\n",
       " mean_PAI_G               0.323472\n",
       " herbh_plot               0.294462\n",
       " mean_herbh               0.258009\n",
       " Cover0p0m_plot           0.237164,\n",
       "                      Richness\n",
       " X                    0.408904\n",
       " mean_PAI_G           0.368480\n",
       " Y                    0.355727\n",
       " mean_CD_Ggrasslayer  0.342349\n",
       " sd_PAI_G             0.321656\n",
       " mean_herbh           0.316074\n",
       " herbh_plot           0.313090\n",
       " mean_maxHgrasslayer  0.310973\n",
       " mean_CD_G            0.304524\n",
       " Cover0p05m_plot      0.302262,\n",
       "                    Simpson\n",
       " X25thPerc_plot    0.525282\n",
       " sd_FHD            0.517023\n",
       " cv_herbh          0.494742\n",
       " X50thPerc_plot    0.490324\n",
       " sd_VDRpeak        0.485714\n",
       " horzcover_woody   0.482065\n",
       " Cover1p5m_plot    0.478031\n",
       " sd_cscore         0.472269\n",
       " sd_cvHgrasslayer  0.471693\n",
       " Cover0p5m_plot    0.469388)"
      ]
     },
     "execution_count": 83,
     "metadata": {},
     "output_type": "execute_result"
    }
   ],
   "source": [
    "# Top 10 vars \n",
    "shancorr.iloc[0:10], abuncorr.iloc[0:10], richcorr.iloc[0:10], simpcorr.iloc[0:10]"
   ]
  },
  {
   "cell_type": "markdown",
   "id": "dedde5de-ea5a-426d-a11b-ec6baaf0a0f7",
   "metadata": {},
   "source": [
    "### Soil Type"
   ]
  },
  {
   "cell_type": "code",
   "execution_count": null,
   "id": "4164fe49-63a7-4084-87b1-ba90f2aed22c",
   "metadata": {},
   "outputs": [],
   "source": [
    "# # # Black\n",
    "XYcorr_black = XYcorr.loc[y.Soil == 'Black']\n",
    "\n",
    "# spearman grabs non-linear vars better\n",
    "corr_black = XYcorr_black.corr(method='spearman')\n",
    "\n",
    "# Turn it back into a dataframe\n",
    "corr_black = pd.DataFrame(corr_black[['Abundance', 'Richness',\n",
    "                          'shannonH', 'Evenness',\n",
    "                          'Simpson']].iloc[0:-5])\n",
    "\n",
    "shancorr_black = pd.DataFrame(corr_black.shannonH.sort_values(ascending=False))\n",
    "\n",
    "simpcorr_black = pd.DataFrame(corr_black.Simpson.sort_values(ascending=False))\n",
    "\n",
    "richcorr_black = pd.DataFrame(corr_black.Richness.sort_values(ascending=False))\n",
    "\n",
    "abuncorr_black = pd.DataFrame(corr_black.Abundance.sort_values(ascending=False))"
   ]
  },
  {
   "cell_type": "code",
   "execution_count": 85,
   "id": "c595dcd5-bbe5-4a8c-a469-a5738df70605",
   "metadata": {},
   "outputs": [
    {
     "data": {
      "text/plain": [
       "(                 shannonH\n",
       " mean_stdpeakh    0.765385\n",
       " Cover0p5m_plot   0.762308\n",
       " mean_gapsize     0.760000\n",
       " sd_CD_AboveG     0.751538\n",
       " mean_CD_AboveG   0.751538\n",
       " Cover0p25m_plot  0.746923\n",
       " Cover1p5m_plot   0.745385\n",
       " X25thPerc_plot   0.739231\n",
       " mean_nlayers     0.734615\n",
       " horzcover_woody  0.733846,\n",
       "                      Abundance\n",
       " X                     0.539054\n",
       " mean_FHD              0.419007\n",
       " cv_VDR                0.418238\n",
       " mean_cvH              0.410543\n",
       " cv_nlayers            0.404386\n",
       " mean_CD_Ggrasslayer   0.402078\n",
       " mean_cvHgrasslayer    0.394767\n",
       " mean_CD_G             0.380916\n",
       " sd_herbh              0.380916\n",
       " mean_sdHgrasslayer    0.377838,\n",
       "                         Richness\n",
       " sd_nlayers              0.633368\n",
       " cv_nlayers              0.592481\n",
       " mean_stdpeakh           0.573580\n",
       " mean_gapsize            0.571266\n",
       " mean_sdH_vegtype_shrub  0.555451\n",
       " horzcover_tree          0.553727\n",
       " mean_maxpeakh           0.546965\n",
       " mean_maxH               0.543107\n",
       " mean_nlayers            0.534236\n",
       " mean_meanpeakh          0.530764,\n",
       "                   Simpson\n",
       " sd_CD_AboveG     0.699231\n",
       " Cover0p5m_plot   0.696154\n",
       " mean_CD_AboveG   0.678462\n",
       " Cover0p25m_plot  0.676923\n",
       " Cover1p5m_plot   0.673077\n",
       " horzcover_woody  0.665385\n",
       " mean_nlayers     0.660000\n",
       " mean_gapsize     0.658462\n",
       " mean_stdpeakh    0.656154\n",
       " X25thPerc_plot   0.653077)"
      ]
     },
     "execution_count": 85,
     "metadata": {},
     "output_type": "execute_result"
    }
   ],
   "source": [
    "# Top 10 vars \n",
    "shancorr_black.iloc[0:10], abuncorr_black.iloc[0:10], richcorr_black.iloc[0:10], simpcorr_black.iloc[0:10]"
   ]
  },
  {
   "cell_type": "code",
   "execution_count": null,
   "id": "8242adf8-4c8a-4af4-8956-e9d1ae2a643a",
   "metadata": {},
   "outputs": [],
   "source": [
    "# # # RED"
   ]
  },
  {
   "cell_type": "code",
   "execution_count": null,
   "id": "92b85dbb-58aa-4b6a-ba0b-66bb509e31bd",
   "metadata": {},
   "outputs": [],
   "source": [
    "XYcorr_red = XYcorr.loc[XYcorr.Soil == 'Red']\n",
    "XYcorr_red= XYcorr_red.drop('Soil', axis=1)\n",
    "\n",
    "corr_red = pairwise_corr(XYcorr_red, drop_nan=True)"
   ]
  },
  {
   "cell_type": "code",
   "execution_count": null,
   "id": "743cff8b-435e-4708-bd01-607394e99a32",
   "metadata": {},
   "outputs": [],
   "source": []
  },
  {
   "cell_type": "code",
   "execution_count": 11,
   "id": "30894a57-307b-425b-a6e5-8d8e1389d9df",
   "metadata": {},
   "outputs": [
    {
     "name": "stdout",
     "output_type": "stream",
     "text": [
      "horzcover_grass           0.824078\n",
      "Richness                  0.759139\n",
      "mean_ptoh                 0.748097\n",
      "cv_CD_Ggrasslayer         0.746930\n",
      "sd_cvH_vegtype_woody      0.724775\n",
      "X                         0.699406\n",
      "mean_cvH_vegtype_woody    0.682244\n",
      "sd_PAI_G                  0.672571\n",
      "sd_PAI_AboveG             0.667695\n",
      "X50thPerc_plot            0.656653\n",
      "cv_maxHgrasslayer         0.653384\n",
      "sd_sdH_vegtype_grass      0.651516\n",
      "Name: shannonH, dtype: float64\n"
     ]
    }
   ],
   "source": [
    "# Top 10 vars \n",
    "# Shannon\n",
    "print(corr_red['shannonH'].sort_values(ascending=False)[:12])"
   ]
  },
  {
   "cell_type": "code",
   "execution_count": null,
   "id": "1031e721-c39b-4658-b1a8-8fd3d5df92cc",
   "metadata": {},
   "outputs": [],
   "source": []
  }
 ],
 "metadata": {
  "kernelspec": {
   "display_name": "Python [conda env:.conda-Halo]",
   "language": "python",
   "name": "conda-env-.conda-Halo-py"
  },
  "language_info": {
   "codemirror_mode": {
    "name": "ipython",
    "version": 3
   },
   "file_extension": ".py",
   "mimetype": "text/x-python",
   "name": "python",
   "nbconvert_exporter": "python",
   "pygments_lexer": "ipython3",
   "version": "3.8.6"
  }
 },
 "nbformat": 4,
 "nbformat_minor": 5
}
