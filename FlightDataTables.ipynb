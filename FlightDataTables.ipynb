{
 "cells": [
  {
   "cell_type": "code",
   "execution_count": 52,
   "id": "ec9beab2-32a8-4a19-90f1-4e9f3eeb75af",
   "metadata": {},
   "outputs": [],
   "source": [
    "import sys\n",
    "sys.path.append('../')\n",
    "from Classes import Collection, Project\n",
    "from pathlib import Path\n",
    "import pandas as pd\n",
    "import re"
   ]
  },
  {
   "cell_type": "code",
   "execution_count": 9,
   "id": "3af09046-ce58-4821-b6aa-f9b4d3d24291",
   "metadata": {},
   "outputs": [
    {
     "data": {
      "text/plain": [
       "['/n/davies_lab/Lab/data/processed/Africa/Kenya/Selenkay/20220108_SelenkaySite03Inside',\n",
       " '/n/davies_lab/Lab/data/processed/Africa/Kenya/Selenkay/20220108_SelenkaySite04Inside',\n",
       " '/n/davies_lab/Lab/data/processed/Africa/Kenya/Selenkay/20220105_SelenkaySite01Inside',\n",
       " '/n/davies_lab/Lab/data/processed/Africa/Kenya/Selenkay/20220109_SelenkaySite06Outside',\n",
       " '/n/davies_lab/Lab/data/processed/Africa/Kenya/Selenkay/20220107_SelenkaySite02Inside',\n",
       " '/n/davies_lab/Lab/data/processed/Africa/Kenya/Selenkay/20220106_SelenkaySite05Outside']"
      ]
     },
     "execution_count": 9,
     "metadata": {},
     "output_type": "execute_result"
    }
   ],
   "source": [
    "projects = [str(p) for p in Path('/n/davies_lab/Lab/data/processed/Africa/Kenya/Selenkay').glob('*')]\n",
    "projects"
   ]
  },
  {
   "cell_type": "code",
   "execution_count": 15,
   "id": "f05e210d-4aca-4f53-ad29-b6cdf3744e66",
   "metadata": {},
   "outputs": [],
   "source": [
    "# Selenkay = Collection(cdir='/n/davies_lab/Lab/data/processed/Africa/Kenya/Selenkay/')"
   ]
  },
  {
   "cell_type": "code",
   "execution_count": 57,
   "id": "9dd3e37d-f1ad-484e-8880-64e683ea3c08",
   "metadata": {},
   "outputs": [],
   "source": [
    "flightdict = {'Site':[],\n",
    "              'Protected Status':[],\n",
    "              'Total Area Covered [ha]':[],\n",
    "              'Average Point Density [ppm]':[],\n",
    "              'StD Point Density [ppm]':[]}\n",
    "for proj in projects:\n",
    "    p = Project(proj, loadfromjson=True)\n",
    "    name = p.PCount['1m'].site\n",
    "    flightdict['Site'].append(re.findall('\\\\d', name)[-1])\n",
    "    flightdict['Protected Status'].append(name.split(re.findall('\\\\d', name)[-1])[-1])\n",
    "    flightdict['Total Area Covered [ha]'].append(p.PCount['1m'].datafootprint_ha)\n",
    "    flightdict['Average Point Density [ppm]'].append(float(p.PCount['1m'].avg)*1000)\n",
    "    flightdict['StD Point Density [ppm]'].append(float(p.PCount['1m'].std)*1000)\n",
    "    "
   ]
  },
  {
   "cell_type": "code",
   "execution_count": 58,
   "id": "1a4d2bdc-f751-49f3-b2ef-d9928b62e2d4",
   "metadata": {},
   "outputs": [
    {
     "data": {
      "text/html": [
       "<div>\n",
       "<style scoped>\n",
       "    .dataframe tbody tr th:only-of-type {\n",
       "        vertical-align: middle;\n",
       "    }\n",
       "\n",
       "    .dataframe tbody tr th {\n",
       "        vertical-align: top;\n",
       "    }\n",
       "\n",
       "    .dataframe thead th {\n",
       "        text-align: right;\n",
       "    }\n",
       "</style>\n",
       "<table border=\"1\" class=\"dataframe\">\n",
       "  <thead>\n",
       "    <tr style=\"text-align: right;\">\n",
       "      <th></th>\n",
       "      <th>Site</th>\n",
       "      <th>Protected Status</th>\n",
       "      <th>Total Area Covered [ha]</th>\n",
       "      <th>Average Point Density [ppm]</th>\n",
       "      <th>StD Point Density [ppm]</th>\n",
       "    </tr>\n",
       "  </thead>\n",
       "  <tbody>\n",
       "    <tr>\n",
       "      <th>2</th>\n",
       "      <td>1</td>\n",
       "      <td>Inside</td>\n",
       "      <td>1805.6990</td>\n",
       "      <td>153.0</td>\n",
       "      <td>138.0</td>\n",
       "    </tr>\n",
       "    <tr>\n",
       "      <th>4</th>\n",
       "      <td>2</td>\n",
       "      <td>Inside</td>\n",
       "      <td>1749.7320</td>\n",
       "      <td>158.0</td>\n",
       "      <td>141.0</td>\n",
       "    </tr>\n",
       "    <tr>\n",
       "      <th>0</th>\n",
       "      <td>3</td>\n",
       "      <td>Inside</td>\n",
       "      <td>1760.4735</td>\n",
       "      <td>151.0</td>\n",
       "      <td>129.0</td>\n",
       "    </tr>\n",
       "    <tr>\n",
       "      <th>1</th>\n",
       "      <td>4</td>\n",
       "      <td>Inside</td>\n",
       "      <td>723.4992</td>\n",
       "      <td>154.0</td>\n",
       "      <td>121.0</td>\n",
       "    </tr>\n",
       "    <tr>\n",
       "      <th>5</th>\n",
       "      <td>5</td>\n",
       "      <td>Outside</td>\n",
       "      <td>1740.9726</td>\n",
       "      <td>159.0</td>\n",
       "      <td>146.0</td>\n",
       "    </tr>\n",
       "    <tr>\n",
       "      <th>3</th>\n",
       "      <td>6</td>\n",
       "      <td>Outside</td>\n",
       "      <td>1771.8768</td>\n",
       "      <td>151.0</td>\n",
       "      <td>133.0</td>\n",
       "    </tr>\n",
       "  </tbody>\n",
       "</table>\n",
       "</div>"
      ],
      "text/plain": [
       "  Site Protected Status  Total Area Covered [ha]  Average Point Density [ppm]  \\\n",
       "2    1           Inside                1805.6990                        153.0   \n",
       "4    2           Inside                1749.7320                        158.0   \n",
       "0    3           Inside                1760.4735                        151.0   \n",
       "1    4           Inside                 723.4992                        154.0   \n",
       "5    5          Outside                1740.9726                        159.0   \n",
       "3    6          Outside                1771.8768                        151.0   \n",
       "\n",
       "   StD Point Density [ppm]  \n",
       "2                    138.0  \n",
       "4                    141.0  \n",
       "0                    129.0  \n",
       "1                    121.0  \n",
       "5                    146.0  \n",
       "3                    133.0  "
      ]
     },
     "execution_count": 58,
     "metadata": {},
     "output_type": "execute_result"
    }
   ],
   "source": [
    "flight_df = pd.DataFrame(flightdict)\n",
    "flight_df.sort_values(by='Site', inplace=True)\n",
    "flight_df"
   ]
  },
  {
   "cell_type": "code",
   "execution_count": 59,
   "id": "07168404-befb-43e5-bc72-855e33993a31",
   "metadata": {},
   "outputs": [],
   "source": [
    "flight_df.to_csv('./tables/FlightDataTables.csv', index=False)"
   ]
  }
 ],
 "metadata": {
  "kernelspec": {
   "display_name": "Python [conda env:.conda-Halo]",
   "language": "python",
   "name": "conda-env-.conda-Halo-py"
  },
  "language_info": {
   "codemirror_mode": {
    "name": "ipython",
    "version": 3
   },
   "file_extension": ".py",
   "mimetype": "text/x-python",
   "name": "python",
   "nbconvert_exporter": "python",
   "pygments_lexer": "ipython3",
   "version": "3.8.6"
  }
 },
 "nbformat": 4,
 "nbformat_minor": 5
}
